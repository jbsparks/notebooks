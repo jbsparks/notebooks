{
 "cells": [
  {
   "cell_type": "markdown",
   "metadata": {},
   "source": [
    "# Sisyphus"
   ]
  },
  {
   "cell_type": "code",
   "execution_count": null,
   "metadata": {},
   "outputs": [],
   "source": [
    "from IPython.display import Image\n",
    "image=\"https://i0.wp.com/sisypheanhigh.com/foot/wp-content/uploads/2015/08/sisyphus-red.png\"\n",
    "Image(url=image,width=200,height=200)"
   ]
  },
  {
   "cell_type": "code",
   "execution_count": null,
   "metadata": {},
   "outputs": [],
   "source": [
    "from elasticsearch import Elasticsearch\n",
    "from pandasticsearch import Select, DataFrame\n",
    "import pandas as pd\n",
    "import numpy as np\n",
    "import matplotlib.pyplot as plt\n",
    "\n",
    "%matplotlib inline"
   ]
  },
  {
   "cell_type": "markdown",
   "metadata": {},
   "source": [
    "The kibana web ui is at http://monster.us.cray.com:30601"
   ]
  },
  {
   "cell_type": "code",
   "execution_count": null,
   "metadata": {},
   "outputs": [],
   "source": [
    "hostname=\"http://monster.us.cray.com:30200\""
   ]
  },
  {
   "cell_type": "code",
   "execution_count": null,
   "metadata": {},
   "outputs": [],
   "source": [
    "client =  Elasticsearch(hostname, http_compress=True)\n",
    "#print(client.cluster.health())"
   ]
  },
  {
   "cell_type": "code",
   "execution_count": null,
   "metadata": {},
   "outputs": [],
   "source": [
    "import datetime,time\n",
    "from pytz import timezone"
   ]
  },
  {
   "cell_type": "code",
   "execution_count": null,
   "metadata": {},
   "outputs": [],
   "source": [
    "def addSeconds(now, increment=30):\n",
    "    timestamp=time.mktime(time.strptime(now,\"%Y-%m-%d %H:%M:%S\"))\n",
    "    dt=datetime.datetime.fromtimestamp(timestamp)\n",
    "    dt=dt+datetime.timedelta(seconds=30)\n",
    "    end=f\"{dt:%Y-%m-%d %H:%M:%S}\"\n",
    "    return(end)"
   ]
  },
  {
   "cell_type": "code",
   "execution_count": null,
   "metadata": {},
   "outputs": [],
   "source": [
    "start=\"2019-08-08 09:10:00\""
   ]
  },
  {
   "cell_type": "code",
   "execution_count": null,
   "metadata": {},
   "outputs": [],
   "source": [
    "end=addSeconds(start)"
   ]
  },
  {
   "cell_type": "code",
   "execution_count": null,
   "metadata": {},
   "outputs": [],
   "source": [
    "#print(\"start date/time:\" + start + \" end date/time:\" + end)"
   ]
  },
  {
   "cell_type": "code",
   "execution_count": null,
   "metadata": {},
   "outputs": [],
   "source": [
    "def myquery(start=None,end=None):\n",
    "    return \"\"\"\n",
    "        {\n",
    "            \"size\":0,\n",
    "            \"query\": {\n",
    "                \"bool\": {\n",
    "                  \"must\": [{\n",
    "                      \"match_all\": {}\n",
    "                    },\n",
    "                    {\n",
    "                      \"range\": {\n",
    "                        \"timereported\": {\n",
    "                          \"gte\": \"%s\",\n",
    "                          \"lte\": \"%s\",\n",
    "                          \"format\": \"yyyy-MM-dd HH:mm:ss||yyyy-MM-dd||epoch_millis\"\n",
    "                    }\n",
    "                  }\n",
    "                }\n",
    "              ],\n",
    "              \"must_not\": []\n",
    "            }\n",
    "          },\n",
    "            \"_source\":{\n",
    "                \"excludes\":[]\n",
    "            },\n",
    "            \"aggs\": {\n",
    "            \"2\": {\n",
    "              \"date_histogram\": {\n",
    "                \"field\": \"timereported\",\n",
    "                \"interval\": \"30s\",\n",
    "                \"time_zone\": \"America/Chicago\",\n",
    "                \"min_doc_count\": 1\n",
    "              }\n",
    "            }\n",
    "          }\n",
    "        }\n",
    "    \"\"\" % (start,end)"
   ]
  },
  {
   "cell_type": "code",
   "execution_count": null,
   "metadata": {},
   "outputs": [],
   "source": [
    "q=myquery(start, end)\n",
    "resp = client.search(index=\"shasta-logs-*\", body=q)\n",
    "#print(\"Number of responses: \" + \"{:,}\".format(resp['hits']['total']))"
   ]
  },
  {
   "cell_type": "code",
   "execution_count": null,
   "metadata": {},
   "outputs": [],
   "source": [
    "table=resp['aggregations']['2']['buckets']\n",
    "#print(len(table))\n",
    "pd_table=pd.DataFrame.from_dict(table)\n",
    "if not pd_table.empty:\n",
    "   print(pd_table.head(1))"
   ]
  },
  {
   "cell_type": "code",
   "execution_count": null,
   "metadata": {},
   "outputs": [],
   "source": [
    "#pd_table['doc_count'].describe()"
   ]
  },
  {
   "cell_type": "code",
   "execution_count": null,
   "metadata": {},
   "outputs": [],
   "source": [
    "pd_table['key_as_string']=pd.to_datetime(pd_table['key_as_string'].astype(str), format='%Y-%m-%dT%H:%M:%S.%f%z')"
   ]
  },
  {
   "cell_type": "code",
   "execution_count": null,
   "metadata": {},
   "outputs": [],
   "source": [
    "count=pd_table['doc_count'].count()\n",
    "print(\"Number of entries: %d.\" % count)"
   ]
  },
  {
   "cell_type": "code",
   "execution_count": null,
   "metadata": {},
   "outputs": [],
   "source": [
    "if ( count > 100 ):\n",
    "   sample = pd_table.sample(100)\n",
    "else:\n",
    "   sample = pd_table.sample(count)\n",
    "\n",
    "X=sample['key_as_string'].tolist()\n",
    "Y=sample['doc_count'].tolist()\n",
    "#print(X)\n",
    "#print(Y)"
   ]
  },
  {
   "cell_type": "code",
   "execution_count": null,
   "metadata": {},
   "outputs": [],
   "source": [
    "import time\n",
    "import numpy as np\n",
    "from bokeh.models.sources import ColumnDataSource\n",
    "from bokeh.plotting import figure\n",
    "from bokeh.io import output_notebook, show, push_notebook\n",
    "from bokeh.models import DatetimeTickFormatter\n",
    "from bokeh.models.tools import HoverTool\n",
    "from bokeh.models import BoxAnnotation\n",
    "from math import pi"
   ]
  },
  {
   "cell_type": "code",
   "execution_count": null,
   "metadata": {},
   "outputs": [],
   "source": [
    "output_notebook()"
   ]
  },
  {
   "cell_type": "code",
   "execution_count": null,
   "metadata": {},
   "outputs": [],
   "source": [
    "p = figure(x_axis_type=\"datetime\", plot_width=1200, plot_height=400)\n",
    "source = ColumnDataSource(data={'datetime' : X, 'count' : Y,})\n",
    "\n",
    "#test_data = ColumnDataSource(data=dict(x=[0], y=[0]))\n",
    "#line = my_figure.line(\"x\", \"y\", source=test_data)\n",
    "#line = p.circle(\"x\", \"y\", source=test_data, size = 8, color = 'navy', alpha=0.3)\n",
    "pcolor='darkblue'\n",
    "\n",
    "line = p.circle(x='datetime',y='count', legend=\"msg count\", source=source, size = 3, color = pcolor, alpha=0.6)\n",
    "\n",
    "low_box = BoxAnnotation(top=100, fill_alpha=0.1, fill_color='wheat')\n",
    "mid_box = BoxAnnotation(bottom=100, top=100000, fill_alpha=0.1, fill_color='yellowgreen')\n",
    "high_box = BoxAnnotation(bottom=100000, fill_alpha=0.1, fill_color='crimson')\n",
    "\n",
    "p.add_layout(low_box)\n",
    "p.add_layout(mid_box)\n",
    "p.add_layout(high_box)\n",
    "\n",
    "\n",
    "p.title.text = 'Message Counts per 30 minutes'\n",
    "p.background_fill_color=\"#f5f5f5\"\n",
    "p.grid.grid_line_color=\"white\"\n",
    "p.yaxis.axis_label = 'Count'\n",
    "p.xaxis.axis_label =' timereported per 30 seconds'\n",
    "p.xaxis.formatter=DatetimeTickFormatter(\n",
    "        hours=[\"%d %B %Y\"],\n",
    "        days=[\"%d %B %Y\"],\n",
    "        months=[\"%d %B %Y\"],\n",
    "        years=[\"%d %B %Y\"],\n",
    "    )\n",
    "p.xaxis.major_label_orientation = pi/4\n",
    "\n",
    "hover = HoverTool(\n",
    "    tooltips=[\n",
    "        ('Count', '@count{%d}'),\n",
    "        ('timereported per 30 seconds','@datetime{%Y-%m-%d %H:%M:%S.%3N}')\n",
    "    ],\n",
    "    formatters={\n",
    "        'count':'printf',\n",
    "        'datetime': 'datetime',\n",
    "    },\n",
    "    # display a tooltip whenever the cursor is vertically in line with a glyph\n",
    "    mode='vline'\n",
    ")\n",
    "\n",
    "handle = show(p, notebook_handle=True)"
   ]
  },
  {
   "cell_type": "code",
   "execution_count": null,
   "metadata": {},
   "outputs": [],
   "source": [
    "from threading import Thread\n",
    "\n",
    "stop_threads = False\n",
    "\n",
    "# Need to get the next 30 second increment to plot off the old value\n",
    "def blocking_callback(id, stop):\n",
    "    new_data=dict(datetime=[0], count=[0])          \n",
    "    global start, end \n",
    "    global pcolor\n",
    "    \n",
    "    step      = 0\n",
    "    step_size = 1  # increment for increasing step\n",
    "    max_step  = 10  # arbitrary stop point for example\n",
    "    period    = 0.1  # in seconds (simulate waiting for new data)\n",
    "    n_show    = 100000  # number of points to keep and show\n",
    "    low       = 10\n",
    "    high      = 1000000\n",
    "\n",
    "    while True:\n",
    "        start=end\n",
    "        if (datetime.datetime.fromtimestamp(time.mktime(time.strptime(start,\"%Y-%m-%d %H:%M:%S\"))) > datetime.datetime.now()):\n",
    "            pcolor='darkgreen'\n",
    "            if ( period < 30 ):\n",
    "                print(\"resetting query timer to 30 secs...\")\n",
    "            period=30\n",
    "                         \n",
    "        end=addSeconds(start)\n",
    "        #print(\"start date/time:\" + start + \" end date/time:\" + end)\n",
    "        q=myquery(start, end)\n",
    "        resp = client.search(index=\"shasta-logs-*\", body=q)\n",
    "        #print(\"Number of responses: \" + \"{:,}\".format(resp['hits']['total']))\n",
    "        table=resp['aggregations']['2']['buckets']\n",
    "        #print(len(table))\n",
    "        pd_table=pd.DataFrame.from_dict(table)\n",
    "        # Sometimes the result can be null\n",
    "        if pd_table.empty: continue\n",
    "        pd_table['key_as_string']=pd.to_datetime(pd_table['key_as_string'].astype(str), format='%Y-%m-%dT%H:%M:%S.%f%z')\n",
    "        count=pd_table['doc_count'].count()\n",
    "        #print(\"Number of entries: %d.\" % count)\n",
    "        sample = pd_table.sample(count)\n",
    "\n",
    "        X=sample['key_as_string'].tolist()\n",
    "        Y=sample['doc_count'].tolist()\n",
    "\n",
    "        new_data['datetime'] = X\n",
    "        new_data['count'] = Y\n",
    "        #cnt=0\n",
    "        #average=0\n",
    "        #print(Y)\n",
    "        #for n in Y:\n",
    "        #    cnt=cnt+1\n",
    "        #    average=(int)((average+n)/cnt)\n",
    "        #\n",
    "        #print(average)\n",
    "        #if  (( average < low ) or ( average > high )):\n",
    "        #        continue\n",
    "        #new_data['count'] = [average]\n",
    "        \n",
    "        #test_data.stream(new_data, n_show)\n",
    "        source.stream(new_data, n_show)\n",
    "        push_notebook(handle=handle)\n",
    "        step += step_size\n",
    "        time.sleep(period)\n",
    "\n",
    "        if stop():\n",
    "            print(\"exit\")\n",
    "            break\n",
    "\n",
    "thread = Thread(target=blocking_callback, args=(id, lambda: stop_threads))\n",
    "thread.start()"
   ]
  },
  {
   "cell_type": "code",
   "execution_count": null,
   "metadata": {},
   "outputs": [],
   "source": [
    "# preceding streaming is not blocking\n",
    "#for cnt in range(10):\n",
    "#    print(\"Do this, while plot is still streaming\", cnt)"
   ]
  },
  {
   "cell_type": "code",
   "execution_count": null,
   "metadata": {},
   "outputs": [],
   "source": [
    "# you might also want to stop the thread\n",
    "stop_threads=True\n",
    "del thread"
   ]
  },
  {
   "cell_type": "code",
   "execution_count": null,
   "metadata": {},
   "outputs": [],
   "source": []
  },
  {
   "cell_type": "code",
   "execution_count": null,
   "metadata": {},
   "outputs": [],
   "source": []
  }
 ],
 "metadata": {
  "kernelspec": {
   "display_name": "Python 3",
   "language": "python",
   "name": "python3"
  },
  "language_info": {
   "codemirror_mode": {
    "name": "ipython",
    "version": 3
   },
   "file_extension": ".py",
   "mimetype": "text/x-python",
   "name": "python",
   "nbconvert_exporter": "python",
   "pygments_lexer": "ipython3",
   "version": "3.7.3"
  }
 },
 "nbformat": 4,
 "nbformat_minor": 4
}
