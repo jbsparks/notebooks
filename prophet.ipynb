{
 "cells": [
  {
   "cell_type": "code",
   "execution_count": 30,
   "metadata": {},
   "outputs": [],
   "source": [
    "!pip install --quiet altair\n",
    "#!pip show altair"
   ]
  },
  {
   "cell_type": "code",
   "execution_count": 2,
   "metadata": {},
   "outputs": [],
   "source": [
    "import numpy as np # linear algebra\n",
    "import pandas as pd # data processing, CSV file I/O (e.g. pd.read_csv)\n",
    "import os\n",
    "import altair as alt"
   ]
  },
  {
   "cell_type": "code",
   "execution_count": 3,
   "metadata": {},
   "outputs": [],
   "source": [
    "from elasticsearch import Elasticsearch\n",
    "from elasticsearch_dsl import Search, Q\n",
    "from pandasticsearch import Select, DataFrame"
   ]
  },
  {
   "cell_type": "code",
   "execution_count": 4,
   "metadata": {},
   "outputs": [],
   "source": [
    "from fbprophet import Prophet"
   ]
  },
  {
   "cell_type": "code",
   "execution_count": 29,
   "metadata": {},
   "outputs": [],
   "source": [
    "hostname=\"http://10.24.179.153:9200\"\n",
    "client =  Elasticsearch(hostname, http_compress=True, timeout=300)\n",
    "#client.cluster.health()"
   ]
  },
  {
   "cell_type": "code",
   "execution_count": 6,
   "metadata": {},
   "outputs": [
    {
     "name": "stderr",
     "output_type": "stream",
     "text": [
      "INFO:elasticsearch:GET http://10.24.179.153:9200/shasta-logs-*/_search [status:200 request:7.407s]\n"
     ]
    }
   ],
   "source": [
    "resp = client.search(\n",
    "    index=\"shasta-logs-*\",\n",
    "    body={\n",
    "        \"size\":0,\n",
    "        \"query\": {\n",
    "            \"bool\": {\n",
    "              \"must\": [{\n",
    "                  \"match_all\": {}\n",
    "                },\n",
    "                {\n",
    "                  \"range\": {\n",
    "                    \"timereported\": {\n",
    "                      \"gte\": \"2019-06-01\",\n",
    "                      \"lte\": \"2020-01-30\",\n",
    "                      \"format\": \"yyyy-MM-dd HH:mm:ss||yyyy-MM-dd||epoch_millis\"\n",
    "                }\n",
    "              }\n",
    "            }\n",
    "          ],\n",
    "          \"must_not\": []\n",
    "        }\n",
    "      },\n",
    "        \"_source\":{\n",
    "            \"excludes\":[]\n",
    "        },\n",
    "        \"aggs\": {\n",
    "        \"2\": {\n",
    "          \"date_histogram\": {\n",
    "            \"field\": \"timereported\",\n",
    "            \"interval\": \"1h\",\n",
    "            \"time_zone\": \"America/Chicago\",\n",
    "            \"min_doc_count\": 1\n",
    "          }\n",
    "        }\n",
    "      }\n",
    "    }\n",
    ")"
   ]
  },
  {
   "cell_type": "code",
   "execution_count": 11,
   "metadata": {},
   "outputs": [
    {
     "data": {
      "text/html": [
       "<div>\n",
       "<style scoped>\n",
       "    .dataframe tbody tr th:only-of-type {\n",
       "        vertical-align: middle;\n",
       "    }\n",
       "\n",
       "    .dataframe tbody tr th {\n",
       "        vertical-align: top;\n",
       "    }\n",
       "\n",
       "    .dataframe thead th {\n",
       "        text-align: right;\n",
       "    }\n",
       "</style>\n",
       "<table border=\"1\" class=\"dataframe\">\n",
       "  <thead>\n",
       "    <tr style=\"text-align: right;\">\n",
       "      <th></th>\n",
       "      <th>Count</th>\n",
       "      <th>key</th>\n",
       "      <th>Date</th>\n",
       "    </tr>\n",
       "  </thead>\n",
       "  <tbody>\n",
       "    <tr>\n",
       "      <th>73</th>\n",
       "      <td>844605</td>\n",
       "      <td>1578344400000</td>\n",
       "      <td>2020-01-06T15:00:00.000-06:00</td>\n",
       "    </tr>\n",
       "    <tr>\n",
       "      <th>74</th>\n",
       "      <td>856231</td>\n",
       "      <td>1578348000000</td>\n",
       "      <td>2020-01-06T16:00:00.000-06:00</td>\n",
       "    </tr>\n",
       "    <tr>\n",
       "      <th>75</th>\n",
       "      <td>852342</td>\n",
       "      <td>1578351600000</td>\n",
       "      <td>2020-01-06T17:00:00.000-06:00</td>\n",
       "    </tr>\n",
       "    <tr>\n",
       "      <th>76</th>\n",
       "      <td>861013</td>\n",
       "      <td>1578355200000</td>\n",
       "      <td>2020-01-06T18:00:00.000-06:00</td>\n",
       "    </tr>\n",
       "    <tr>\n",
       "      <th>77</th>\n",
       "      <td>280323</td>\n",
       "      <td>1578358800000</td>\n",
       "      <td>2020-01-06T19:00:00.000-06:00</td>\n",
       "    </tr>\n",
       "  </tbody>\n",
       "</table>\n",
       "</div>"
      ],
      "text/plain": [
       "     Count            key                           Date\n",
       "73  844605  1578344400000  2020-01-06T15:00:00.000-06:00\n",
       "74  856231  1578348000000  2020-01-06T16:00:00.000-06:00\n",
       "75  852342  1578351600000  2020-01-06T17:00:00.000-06:00\n",
       "76  861013  1578355200000  2020-01-06T18:00:00.000-06:00\n",
       "77  280323  1578358800000  2020-01-06T19:00:00.000-06:00"
      ]
     },
     "execution_count": 11,
     "metadata": {},
     "output_type": "execute_result"
    }
   ],
   "source": [
    "table=resp['aggregations']['2']['buckets']\n",
    "data_as_frame=pd.DataFrame.from_dict(table)\n",
    "data_as_frame = data_as_frame.rename(columns={'key_as_string':'Date','doc_count':'Count'})\n",
    "data_as_frame.tail(5)"
   ]
  },
  {
   "cell_type": "code",
   "execution_count": 12,
   "metadata": {},
   "outputs": [
    {
     "data": {
      "text/plain": [
       "Index(['Count', 'key', 'Date'], dtype='object')"
      ]
     },
     "execution_count": 12,
     "metadata": {},
     "output_type": "execute_result"
    }
   ],
   "source": [
    "data_as_frame.columns"
   ]
  },
  {
   "cell_type": "code",
   "execution_count": 13,
   "metadata": {},
   "outputs": [
    {
     "data": {
      "text/plain": [
       "count          78.00\n",
       "mean      1643038.58\n",
       "std       2857873.49\n",
       "min        280323.00\n",
       "25%        852376.75\n",
       "50%        938490.00\n",
       "75%       1007308.50\n",
       "max      20315429.00\n",
       "Name: Count, dtype: object"
      ]
     },
     "execution_count": 13,
     "metadata": {},
     "output_type": "execute_result"
    }
   ],
   "source": [
    "data_as_frame['Count'].describe().apply(lambda x: format(x, '.2f'))"
   ]
  },
  {
   "cell_type": "code",
   "execution_count": 15,
   "metadata": {},
   "outputs": [
    {
     "data": {
      "text/html": [
       "<div>\n",
       "<style scoped>\n",
       "    .dataframe tbody tr th:only-of-type {\n",
       "        vertical-align: middle;\n",
       "    }\n",
       "\n",
       "    .dataframe tbody tr th {\n",
       "        vertical-align: top;\n",
       "    }\n",
       "\n",
       "    .dataframe thead th {\n",
       "        text-align: right;\n",
       "    }\n",
       "</style>\n",
       "<table border=\"1\" class=\"dataframe\">\n",
       "  <thead>\n",
       "    <tr style=\"text-align: right;\">\n",
       "      <th></th>\n",
       "      <th>Date</th>\n",
       "      <th>Count</th>\n",
       "    </tr>\n",
       "  </thead>\n",
       "  <tbody>\n",
       "    <tr>\n",
       "      <th>0</th>\n",
       "      <td>2020-01-03 20:00:00</td>\n",
       "      <td>537752</td>\n",
       "    </tr>\n",
       "    <tr>\n",
       "      <th>1</th>\n",
       "      <td>2020-01-03 21:00:00</td>\n",
       "      <td>13807315</td>\n",
       "    </tr>\n",
       "    <tr>\n",
       "      <th>2</th>\n",
       "      <td>2020-01-03 22:00:00</td>\n",
       "      <td>20315429</td>\n",
       "    </tr>\n",
       "    <tr>\n",
       "      <th>3</th>\n",
       "      <td>2020-01-03 23:00:00</td>\n",
       "      <td>9460067</td>\n",
       "    </tr>\n",
       "    <tr>\n",
       "      <th>4</th>\n",
       "      <td>2020-01-04 00:00:00</td>\n",
       "      <td>5949829</td>\n",
       "    </tr>\n",
       "  </tbody>\n",
       "</table>\n",
       "</div>"
      ],
      "text/plain": [
       "                  Date     Count\n",
       "0  2020-01-03 20:00:00    537752\n",
       "1  2020-01-03 21:00:00  13807315\n",
       "2  2020-01-03 22:00:00  20315429\n",
       "3  2020-01-03 23:00:00   9460067\n",
       "4  2020-01-04 00:00:00   5949829"
      ]
     },
     "execution_count": 15,
     "metadata": {},
     "output_type": "execute_result"
    }
   ],
   "source": [
    "# Cleaning the df, we only need two columns date time and the data\n",
    "clean_df=data_as_frame[['Date','Count']].copy()\n",
    "clean_df['Date'] = pd.to_datetime(clean_df['Date'].astype(str), format='%Y-%m-%d %H:%M:%S')\n",
    "clean_df['Date'] = clean_df['Date'].dt.strftime('%Y-%m-%d %H:%M:%S')\n",
    "clean_df.head()"
   ]
  },
  {
   "cell_type": "code",
   "execution_count": 21,
   "metadata": {},
   "outputs": [
    {
     "data": {
      "text/html": [
       "\n",
       "<div id=\"altair-viz-6\"></div>\n",
       "<script type=\"text/javascript\">\n",
       "  (function(spec, embedOpt){\n",
       "    const outputDiv = document.getElementById(\"altair-viz-6\");\n",
       "    const paths = {\n",
       "      \"vega\": \"https://cdn.jsdelivr.net/npm//vega@5?noext\",\n",
       "      \"vega-lib\": \"https://cdn.jsdelivr.net/npm//vega-lib?noext\",\n",
       "      \"vega-lite\": \"https://cdn.jsdelivr.net/npm//vega-lite@4.0.0?noext\",\n",
       "      \"vega-embed\": \"https://cdn.jsdelivr.net/npm//vega-embed@6?noext\",\n",
       "    };\n",
       "\n",
       "    function loadScript(lib) {\n",
       "      return new Promise(function(resolve, reject) {\n",
       "        var s = document.createElement('script');\n",
       "        s.src = paths[lib];\n",
       "        s.async = true;\n",
       "        s.onload = () => resolve(paths[lib]);\n",
       "        s.onerror = () => reject(`Error loading script: ${paths[lib]}`);\n",
       "        document.getElementsByTagName(\"head\")[0].appendChild(s);\n",
       "      });\n",
       "    }\n",
       "\n",
       "    function showError(err) {\n",
       "      outputDiv.innerHTML = `<div class=\"error\" style=\"color:red;\">${err}</div>`;\n",
       "      throw err;\n",
       "    }\n",
       "\n",
       "    function displayChart(vegaEmbed) {\n",
       "      vegaEmbed(outputDiv, spec, embedOpt)\n",
       "        .catch(err => showError(`Javascript Error: ${err.message}<br>This usually means there's a typo in your chart specification. See the javascript console for the full traceback.`));\n",
       "    }\n",
       "\n",
       "    if(typeof define === \"function\" && define.amd) {\n",
       "      requirejs.config({paths});\n",
       "      require([\"vega-embed\"], displayChart, err => showError(`Error loading script: ${err.message}`));\n",
       "    } else if (typeof vegaEmbed === \"function\") {\n",
       "      displayChart(vegaEmbed);\n",
       "    } else {\n",
       "      loadScript(\"vega\")\n",
       "        .then(() => loadScript(\"vega-lite\"))\n",
       "        .then(() => loadScript(\"vega-embed\"))\n",
       "        .catch(showError)\n",
       "        .then(() => displayChart(vegaEmbed));\n",
       "    }\n",
       "  })({\"config\": {\"view\": {\"continuousWidth\": 400, \"continuousHeight\": 300}, \"title\": {\"fontSize\": 20}}, \"data\": {\"name\": \"data-5c116cc9e9fa4f03cd8327b9374a2270\"}, \"mark\": {\"type\": \"point\", \"color\": \"steelblue\", \"opacity\": 0.7, \"size\": 20}, \"encoding\": {\"tooltip\": [{\"type\": \"temporal\", \"field\": \"Date\", \"timeUnit\": \"yearmonthdate\"}, {\"type\": \"quantitative\", \"field\": \"Count\"}], \"x\": {\"type\": \"temporal\", \"field\": \"Date\"}, \"y\": {\"type\": \"quantitative\", \"field\": \"Count\", \"title\": \"Count\"}}, \"height\": 450, \"selection\": {\"selector006\": {\"type\": \"interval\", \"bind\": \"scales\", \"encodings\": [\"x\", \"y\"]}}, \"title\": \"Log Messages per hour\", \"width\": 900, \"$schema\": \"https://vega.github.io/schema/vega-lite/v4.0.0.json\", \"datasets\": {\"data-5c116cc9e9fa4f03cd8327b9374a2270\": [{\"Date\": \"2020-01-03 20:00:00\", \"Count\": 537752}, {\"Date\": \"2020-01-03 21:00:00\", \"Count\": 13807315}, {\"Date\": \"2020-01-03 22:00:00\", \"Count\": 20315429}, {\"Date\": \"2020-01-03 23:00:00\", \"Count\": 9460067}, {\"Date\": \"2020-01-04 00:00:00\", \"Count\": 5949829}, {\"Date\": \"2020-01-04 01:00:00\", \"Count\": 4703579}, {\"Date\": \"2020-01-04 02:00:00\", \"Count\": 3654737}, {\"Date\": \"2020-01-04 03:00:00\", \"Count\": 2908134}, {\"Date\": \"2020-01-04 04:00:00\", \"Count\": 1962165}, {\"Date\": \"2020-01-04 05:00:00\", \"Count\": 1727636}, {\"Date\": \"2020-01-04 06:00:00\", \"Count\": 1407538}, {\"Date\": \"2020-01-04 07:00:00\", \"Count\": 1375459}, {\"Date\": \"2020-01-04 08:00:00\", \"Count\": 1326827}, {\"Date\": \"2020-01-04 09:00:00\", \"Count\": 1253780}, {\"Date\": \"2020-01-04 10:00:00\", \"Count\": 1144269}, {\"Date\": \"2020-01-04 11:00:00\", \"Count\": 981752}, {\"Date\": \"2020-01-04 12:00:00\", \"Count\": 992802}, {\"Date\": \"2020-01-04 13:00:00\", \"Count\": 996569}, {\"Date\": \"2020-01-04 14:00:00\", \"Count\": 989862}, {\"Date\": \"2020-01-04 15:00:00\", \"Count\": 980264}, {\"Date\": \"2020-01-04 16:00:00\", \"Count\": 1008733}, {\"Date\": \"2020-01-04 17:00:00\", \"Count\": 1003035}, {\"Date\": \"2020-01-04 18:00:00\", \"Count\": 1010870}, {\"Date\": \"2020-01-04 19:00:00\", \"Count\": 1014003}, {\"Date\": \"2020-01-04 20:00:00\", \"Count\": 951913}, {\"Date\": \"2020-01-04 21:00:00\", \"Count\": 988516}, {\"Date\": \"2020-01-04 22:00:00\", \"Count\": 1043350}, {\"Date\": \"2020-01-04 23:00:00\", \"Count\": 989288}, {\"Date\": \"2020-01-05 00:00:00\", \"Count\": 973016}, {\"Date\": \"2020-01-05 01:00:00\", \"Count\": 959959}, {\"Date\": \"2020-01-05 02:00:00\", \"Count\": 982662}, {\"Date\": \"2020-01-05 03:00:00\", \"Count\": 941152}, {\"Date\": \"2020-01-05 04:00:00\", \"Count\": 954366}, {\"Date\": \"2020-01-05 05:00:00\", \"Count\": 934675}, {\"Date\": \"2020-01-05 06:00:00\", \"Count\": 972854}, {\"Date\": \"2020-01-05 07:00:00\", \"Count\": 962262}, {\"Date\": \"2020-01-05 08:00:00\", \"Count\": 887332}, {\"Date\": \"2020-01-05 09:00:00\", \"Count\": 938865}, {\"Date\": \"2020-01-05 10:00:00\", \"Count\": 938115}, {\"Date\": \"2020-01-05 11:00:00\", \"Count\": 949371}, {\"Date\": \"2020-01-05 12:00:00\", \"Count\": 890701}, {\"Date\": \"2020-01-05 13:00:00\", \"Count\": 953903}, {\"Date\": \"2020-01-05 14:00:00\", \"Count\": 895548}, {\"Date\": \"2020-01-05 15:00:00\", \"Count\": 1114932}, {\"Date\": \"2020-01-05 16:00:00\", \"Count\": 1087578}, {\"Date\": \"2020-01-05 17:00:00\", \"Count\": 885613}, {\"Date\": \"2020-01-05 18:00:00\", \"Count\": 825411}, {\"Date\": \"2020-01-05 19:00:00\", \"Count\": 850689}, {\"Date\": \"2020-01-05 20:00:00\", \"Count\": 851023}, {\"Date\": \"2020-01-05 21:00:00\", \"Count\": 863175}, {\"Date\": \"2020-01-05 22:00:00\", \"Count\": 838135}, {\"Date\": \"2020-01-05 23:00:00\", \"Count\": 836047}, {\"Date\": \"2020-01-06 00:00:00\", \"Count\": 874950}, {\"Date\": \"2020-01-06 01:00:00\", \"Count\": 819953}, {\"Date\": \"2020-01-06 02:00:00\", \"Count\": 781302}, {\"Date\": \"2020-01-06 03:00:00\", \"Count\": 789989}, {\"Date\": \"2020-01-06 04:00:00\", \"Count\": 860874}, {\"Date\": \"2020-01-06 05:00:00\", \"Count\": 839167}, {\"Date\": \"2020-01-06 06:00:00\", \"Count\": 856778}, {\"Date\": \"2020-01-06 07:00:00\", \"Count\": 828445}, {\"Date\": \"2020-01-06 08:00:00\", \"Count\": 856723}, {\"Date\": \"2020-01-06 09:00:00\", \"Count\": 852481}, {\"Date\": \"2020-01-06 10:00:00\", \"Count\": 832548}, {\"Date\": \"2020-01-06 11:00:00\", \"Count\": 854256}, {\"Date\": \"2020-01-06 12:00:00\", \"Count\": 832382}, {\"Date\": \"2020-01-06 13:00:00\", \"Count\": 854812}, {\"Date\": \"2020-01-06 14:00:00\", \"Count\": 850623}, {\"Date\": \"2020-01-06 15:00:00\", \"Count\": 867373}, {\"Date\": \"2020-01-06 16:00:00\", \"Count\": 862275}, {\"Date\": \"2020-01-06 17:00:00\", \"Count\": 831172}, {\"Date\": \"2020-01-06 18:00:00\", \"Count\": 868136}, {\"Date\": \"2020-01-06 19:00:00\", \"Count\": 839991}, {\"Date\": \"2020-01-06 20:00:00\", \"Count\": 835408}, {\"Date\": \"2020-01-06 21:00:00\", \"Count\": 844605}, {\"Date\": \"2020-01-06 22:00:00\", \"Count\": 856231}, {\"Date\": \"2020-01-06 23:00:00\", \"Count\": 852342}, {\"Date\": \"2020-01-07 00:00:00\", \"Count\": 861013}, {\"Date\": \"2020-01-07 01:00:00\", \"Count\": 280323}]}}, {\"mode\": \"vega-lite\"});\n",
       "</script>"
      ],
      "text/plain": [
       "alt.Chart(...)"
      ]
     },
     "execution_count": 21,
     "metadata": {},
     "output_type": "execute_result"
    }
   ],
   "source": [
    "alt.Chart(clean_df).mark_point(size=20, opacity=0.7, color = 'steelblue').encode(\n",
    "        x='Date:T',\n",
    "        y=alt.Y('Count', title='Count'),    \n",
    "        tooltip=['yearmonthdate(Date)', 'Count']\n",
    "    ).interactive().properties(width=900, height=450,title='Log Messages per hour')\\\n",
    "              .configure_title(fontSize=20)"
   ]
  },
  {
   "cell_type": "code",
   "execution_count": 40,
   "metadata": {},
   "outputs": [
    {
     "name": "stdout",
     "output_type": "stream",
     "text": [
      "Displaying Prophet plot\n"
     ]
    },
    {
     "data": {
      "image/png": "[encoded data removed]",
      "text/plain": [
       "<Figure size 720x432 with 1 Axes>"
      ]
     },
     "metadata": {},
     "output_type": "display_data"
    }
   ],
   "source": [
    "clean_df.columns = ['ds','y']\n",
    "def fit_predict_model(dataframe, interval_width = 0.99, changepoint_range = 0.8):\n",
    "    m = Prophet(daily_seasonality = False, \n",
    "                yearly_seasonality = False, \n",
    "                weekly_seasonality = False,\n",
    "                seasonality_mode = 'multiplicative', \n",
    "                interval_width = interval_width,\n",
    "                changepoint_range = changepoint_range)\n",
    "    m = m.fit(dataframe)\n",
    "    \n",
    "    forecast = m.predict(dataframe)\n",
    "    forecast['fact'] = dataframe['y'].reset_index(drop = True)\n",
    "    print('Displaying Prophet plot')\n",
    "    fig1 = m.plot(forecast)\n",
    "    return forecast\n",
    "    \n",
    "pred = fit_predict_model(clean_df)"
   ]
  },
  {
   "cell_type": "code",
   "execution_count": 25,
   "metadata": {},
   "outputs": [
    {
     "data": {
      "text/html": [
       "<div>\n",
       "<style scoped>\n",
       "    .dataframe tbody tr th:only-of-type {\n",
       "        vertical-align: middle;\n",
       "    }\n",
       "\n",
       "    .dataframe tbody tr th {\n",
       "        vertical-align: top;\n",
       "    }\n",
       "\n",
       "    .dataframe thead th {\n",
       "        text-align: right;\n",
       "    }\n",
       "</style>\n",
       "<table border=\"1\" class=\"dataframe\">\n",
       "  <thead>\n",
       "    <tr style=\"text-align: right;\">\n",
       "      <th></th>\n",
       "      <th>ds</th>\n",
       "      <th>trend</th>\n",
       "      <th>yhat</th>\n",
       "      <th>yhat_lower</th>\n",
       "      <th>yhat_upper</th>\n",
       "      <th>fact</th>\n",
       "      <th>anomaly</th>\n",
       "      <th>importance</th>\n",
       "    </tr>\n",
       "  </thead>\n",
       "  <tbody>\n",
       "    <tr>\n",
       "      <th>0</th>\n",
       "      <td>2020-01-03 20:00:00</td>\n",
       "      <td>3.723753e+06</td>\n",
       "      <td>3.723753e+06</td>\n",
       "      <td>-3.178914e+06</td>\n",
       "      <td>1.027892e+07</td>\n",
       "      <td>537752</td>\n",
       "      <td>0</td>\n",
       "      <td>0.000000</td>\n",
       "    </tr>\n",
       "    <tr>\n",
       "      <th>1</th>\n",
       "      <td>2020-01-03 21:00:00</td>\n",
       "      <td>3.669371e+06</td>\n",
       "      <td>3.669371e+06</td>\n",
       "      <td>-2.338366e+06</td>\n",
       "      <td>9.601940e+06</td>\n",
       "      <td>13807315</td>\n",
       "      <td>1</td>\n",
       "      <td>0.304576</td>\n",
       "    </tr>\n",
       "    <tr>\n",
       "      <th>2</th>\n",
       "      <td>2020-01-03 22:00:00</td>\n",
       "      <td>3.614989e+06</td>\n",
       "      <td>3.614989e+06</td>\n",
       "      <td>-3.461168e+06</td>\n",
       "      <td>9.760741e+06</td>\n",
       "      <td>20315429</td>\n",
       "      <td>1</td>\n",
       "      <td>0.519540</td>\n",
       "    </tr>\n",
       "    <tr>\n",
       "      <th>3</th>\n",
       "      <td>2020-01-03 23:00:00</td>\n",
       "      <td>3.560606e+06</td>\n",
       "      <td>3.560606e+06</td>\n",
       "      <td>-3.953846e+06</td>\n",
       "      <td>1.065062e+07</td>\n",
       "      <td>9460067</td>\n",
       "      <td>0</td>\n",
       "      <td>0.000000</td>\n",
       "    </tr>\n",
       "    <tr>\n",
       "      <th>4</th>\n",
       "      <td>2020-01-04 00:00:00</td>\n",
       "      <td>3.506224e+06</td>\n",
       "      <td>3.506224e+06</td>\n",
       "      <td>-3.183061e+06</td>\n",
       "      <td>9.359357e+06</td>\n",
       "      <td>5949829</td>\n",
       "      <td>0</td>\n",
       "      <td>0.000000</td>\n",
       "    </tr>\n",
       "  </tbody>\n",
       "</table>\n",
       "</div>"
      ],
      "text/plain": [
       "                   ds         trend          yhat    yhat_lower    yhat_upper  \\\n",
       "0 2020-01-03 20:00:00  3.723753e+06  3.723753e+06 -3.178914e+06  1.027892e+07   \n",
       "1 2020-01-03 21:00:00  3.669371e+06  3.669371e+06 -2.338366e+06  9.601940e+06   \n",
       "2 2020-01-03 22:00:00  3.614989e+06  3.614989e+06 -3.461168e+06  9.760741e+06   \n",
       "3 2020-01-03 23:00:00  3.560606e+06  3.560606e+06 -3.953846e+06  1.065062e+07   \n",
       "4 2020-01-04 00:00:00  3.506224e+06  3.506224e+06 -3.183061e+06  9.359357e+06   \n",
       "\n",
       "       fact  anomaly  importance  \n",
       "0    537752        0    0.000000  \n",
       "1  13807315        1    0.304576  \n",
       "2  20315429        1    0.519540  \n",
       "3   9460067        0    0.000000  \n",
       "4   5949829        0    0.000000  "
      ]
     },
     "execution_count": 25,
     "metadata": {},
     "output_type": "execute_result"
    }
   ],
   "source": [
    "def detect_anomalies(forecast):\n",
    "    forecasted = forecast[['ds','trend', 'yhat', 'yhat_lower', 'yhat_upper', 'fact']].copy()\n",
    "    #forecast['fact'] = df['y']\n",
    "\n",
    "    forecasted['anomaly'] = 0\n",
    "    forecasted.loc[forecasted['fact'] > forecasted['yhat_upper'], 'anomaly'] = 1\n",
    "    forecasted.loc[forecasted['fact'] < forecasted['yhat_lower'], 'anomaly'] = -1\n",
    "\n",
    "    #anomaly importances\n",
    "    forecasted['importance'] = 0\n",
    "    forecasted.loc[forecasted['anomaly'] ==1, 'importance'] = \\\n",
    "        (forecasted['fact'] - forecasted['yhat_upper'])/forecast['fact']\n",
    "    forecasted.loc[forecasted['anomaly'] ==-1, 'importance'] = \\\n",
    "        (forecasted['yhat_lower'] - forecasted['fact'])/forecast['fact']\n",
    "    \n",
    "    return forecasted\n",
    "\n",
    "pred = detect_anomalies(pred)\n",
    "pred.head()"
   ]
  },
  {
   "cell_type": "code",
   "execution_count": 26,
   "metadata": {},
   "outputs": [
    {
     "data": {
      "text/html": [
       "\n",
       "<div id=\"altair-viz-7\"></div>\n",
       "<script type=\"text/javascript\">\n",
       "  (function(spec, embedOpt){\n",
       "    const outputDiv = document.getElementById(\"altair-viz-7\");\n",
       "    const paths = {\n",
       "      \"vega\": \"https://cdn.jsdelivr.net/npm//vega@5?noext\",\n",
       "      \"vega-lib\": \"https://cdn.jsdelivr.net/npm//vega-lib?noext\",\n",
       "      \"vega-lite\": \"https://cdn.jsdelivr.net/npm//vega-lite@4.0.0?noext\",\n",
       "      \"vega-embed\": \"https://cdn.jsdelivr.net/npm//vega-embed@6?noext\",\n",
       "    };\n",
       "\n",
       "    function loadScript(lib) {\n",
       "      return new Promise(function(resolve, reject) {\n",
       "        var s = document.createElement('script');\n",
       "        s.src = paths[lib];\n",
       "        s.async = true;\n",
       "        s.onload = () => resolve(paths[lib]);\n",
       "        s.onerror = () => reject(`Error loading script: ${paths[lib]}`);\n",
       "        document.getElementsByTagName(\"head\")[0].appendChild(s);\n",
       "      });\n",
       "    }\n",
       "\n",
       "    function showError(err) {\n",
       "      outputDiv.innerHTML = `<div class=\"error\" style=\"color:red;\">${err}</div>`;\n",
       "      throw err;\n",
       "    }\n",
       "\n",
       "    function displayChart(vegaEmbed) {\n",
       "      vegaEmbed(outputDiv, spec, embedOpt)\n",
       "        .catch(err => showError(`Javascript Error: ${err.message}<br>This usually means there's a typo in your chart specification. See the javascript console for the full traceback.`));\n",
       "    }\n",
       "\n",
       "    if(typeof define === \"function\" && define.amd) {\n",
       "      requirejs.config({paths});\n",
       "      require([\"vega-embed\"], displayChart, err => showError(`Error loading script: ${err.message}`));\n",
       "    } else if (typeof vegaEmbed === \"function\") {\n",
       "      displayChart(vegaEmbed);\n",
       "    } else {\n",
       "      loadScript(\"vega\")\n",
       "        .then(() => loadScript(\"vega-lite\"))\n",
       "        .then(() => loadScript(\"vega-embed\"))\n",
       "        .catch(showError)\n",
       "        .then(() => displayChart(vegaEmbed));\n",
       "    }\n",
       "  })({\"config\": {\"view\": {\"continuousWidth\": 400, \"continuousHeight\": 300}, \"title\": {\"fontSize\": 20}}, \"layer\": [{\"data\": {\"name\": \"data-d99d8c7113ca25665f787eb0d10d37e2\"}, \"mark\": {\"type\": \"area\", \"color\": \"#7FC97F\", \"interpolate\": \"basis\"}, \"encoding\": {\"tooltip\": [{\"type\": \"temporal\", \"field\": \"ds\", \"timeUnit\": \"yearmonthdate\"}, {\"type\": \"quantitative\", \"field\": \"fact\"}, {\"type\": \"quantitative\", \"field\": \"yhat_lower\"}, {\"type\": \"quantitative\", \"field\": \"yhat_upper\"}], \"x\": {\"type\": \"temporal\", \"field\": \"ds\", \"title\": \"date\"}, \"y\": {\"type\": \"quantitative\", \"field\": \"yhat_upper\"}, \"y2\": {\"field\": \"yhat_lower\"}}, \"selection\": {\"selector007\": {\"type\": \"interval\", \"bind\": \"scales\", \"encodings\": [\"x\", \"y\"]}}, \"title\": \"Anomaly Detection\"}, {\"data\": {\"name\": \"data-688a5c65b31fcb7011b7ffc410cbb26d\"}, \"mark\": {\"type\": \"circle\", \"color\": \"Black\", \"opacity\": 0.7, \"size\": 15}, \"encoding\": {\"tooltip\": [{\"type\": \"temporal\", \"field\": \"ds\", \"timeUnit\": \"yearmonthdate\"}, {\"type\": \"quantitative\", \"field\": \"fact\"}, {\"type\": \"quantitative\", \"field\": \"yhat_lower\"}, {\"type\": \"quantitative\", \"field\": \"yhat_upper\"}], \"x\": {\"type\": \"temporal\", \"field\": \"ds\"}, \"y\": {\"type\": \"quantitative\", \"field\": \"fact\", \"title\": \"Message Counts\"}}, \"selection\": {\"selector008\": {\"type\": \"interval\", \"bind\": \"scales\", \"encodings\": [\"x\", \"y\"]}}}, {\"data\": {\"name\": \"data-5a619ebde7d757c65ceb5bf5bb8f1613\"}, \"mark\": {\"type\": \"circle\", \"color\": \"Red\", \"size\": 30}, \"encoding\": {\"size\": {\"type\": \"quantitative\", \"field\": \"importance\", \"legend\": null}, \"tooltip\": [{\"type\": \"temporal\", \"field\": \"ds\", \"timeUnit\": \"yearmonthdate\"}, {\"type\": \"quantitative\", \"field\": \"fact\"}, {\"type\": \"quantitative\", \"field\": \"yhat_lower\"}, {\"type\": \"quantitative\", \"field\": \"yhat_upper\"}], \"x\": {\"type\": \"temporal\", \"field\": \"ds\"}, \"y\": {\"type\": \"quantitative\", \"field\": \"fact\", \"title\": \"Message Counts\"}}, \"selection\": {\"selector009\": {\"type\": \"interval\", \"bind\": \"scales\", \"encodings\": [\"x\", \"y\"]}}}], \"height\": 450, \"width\": 870, \"$schema\": \"https://vega.github.io/schema/vega-lite/v4.0.0.json\", \"datasets\": {\"data-d99d8c7113ca25665f787eb0d10d37e2\": [{\"ds\": \"2020-01-03T20:00:00\", \"trend\": 3723752.8828252847, \"yhat\": 3723752.8828252847, \"yhat_lower\": -3178914.1872074874, \"yhat_upper\": 10278919.934932383, \"fact\": 537752, \"anomaly\": 0, \"importance\": 0.0}, {\"ds\": \"2020-01-03T21:00:00\", \"trend\": 3669370.7228805106, \"yhat\": 3669370.7228805106, \"yhat_lower\": -2338366.1994110597, \"yhat_upper\": 9601939.922320839, \"fact\": 13807315, \"anomaly\": 1, \"importance\": 0.30457587718388124}, {\"ds\": \"2020-01-03T22:00:00\", \"trend\": 3614988.5629357365, \"yhat\": 3614988.5629357365, \"yhat_lower\": -3461168.1982325986, \"yhat_upper\": 9760740.87474047, \"fact\": 20315429, \"anomaly\": 1, \"importance\": 0.5195404992559857}, {\"ds\": \"2020-01-03T23:00:00\", \"trend\": 3560606.402904808, \"yhat\": 3560606.402904808, \"yhat_lower\": -3953846.361485928, \"yhat_upper\": 10650624.3057798, \"fact\": 9460067, \"anomaly\": 0, \"importance\": 0.0}, {\"ds\": \"2020-01-04T00:00:00\", \"trend\": 3506224.2428738796, \"yhat\": 3506224.2428738796, \"yhat_lower\": -3183060.610597534, \"yhat_upper\": 9359356.506128978, \"fact\": 5949829, \"anomaly\": 0, \"importance\": 0.0}, {\"ds\": \"2020-01-04T01:00:00\", \"trend\": 3451842.0828429516, \"yhat\": 3451842.0828429516, \"yhat_lower\": -4254139.271343023, \"yhat_upper\": 10306917.758846585, \"fact\": 4703579, \"anomaly\": 0, \"importance\": 0.0}, {\"ds\": \"2020-01-04T02:00:00\", \"trend\": 3397459.922878578, \"yhat\": 3397459.922878578, \"yhat_lower\": -3538180.086804665, \"yhat_upper\": 10594197.799380343, \"fact\": 3654737, \"anomaly\": 0, \"importance\": 0.0}, {\"ds\": \"2020-01-04T03:00:00\", \"trend\": 3343077.762914204, \"yhat\": 3343077.762914204, \"yhat_lower\": -2757368.0585140577, \"yhat_upper\": 10124948.795468051, \"fact\": 2908134, \"anomaly\": 0, \"importance\": 0.0}, {\"ds\": \"2020-01-04T04:00:00\", \"trend\": 3288695.602912267, \"yhat\": 3288695.602912267, \"yhat_lower\": -3847204.5594554883, \"yhat_upper\": 10265828.084215105, \"fact\": 1962165, \"anomaly\": 0, \"importance\": 0.0}, {\"ds\": \"2020-01-04T05:00:00\", \"trend\": 3234313.4429103304, \"yhat\": 3234313.4429103304, \"yhat_lower\": -3337571.6783743114, \"yhat_upper\": 10641204.773935124, \"fact\": 1727636, \"anomaly\": 0, \"importance\": 0.0}, {\"ds\": \"2020-01-04T06:00:00\", \"trend\": 3179931.282908393, \"yhat\": 3179931.282908393, \"yhat_lower\": -3388271.919932722, \"yhat_upper\": 9978473.63796915, \"fact\": 1407538, \"anomaly\": 0, \"importance\": 0.0}, {\"ds\": \"2020-01-04T07:00:00\", \"trend\": 3125549.12308643, \"yhat\": 3125549.12308643, \"yhat_lower\": -3058871.097727646, \"yhat_upper\": 9149698.764176853, \"fact\": 1375459, \"anomaly\": 0, \"importance\": 0.0}, {\"ds\": \"2020-01-04T08:00:00\", \"trend\": 3071166.9632644677, \"yhat\": 3071166.9632644677, \"yhat_lower\": -3527593.9909011866, \"yhat_upper\": 9550125.91136801, \"fact\": 1326827, \"anomaly\": 0, \"importance\": 0.0}, {\"ds\": \"2020-01-04T09:00:00\", \"trend\": 3016784.8035808853, \"yhat\": 3016784.8035808853, \"yhat_lower\": -3409176.7972909734, \"yhat_upper\": 10290635.178755993, \"fact\": 1253780, \"anomaly\": 0, \"importance\": 0.0}, {\"ds\": \"2020-01-04T10:00:00\", \"trend\": 2962402.6438973024, \"yhat\": 2962402.6438973024, \"yhat_lower\": -3284235.5999274678, \"yhat_upper\": 9871878.526258336, \"fact\": 1144269, \"anomaly\": 0, \"importance\": 0.0}, {\"ds\": \"2020-01-04T11:00:00\", \"trend\": 2908020.4842137196, \"yhat\": 2908020.4842137196, \"yhat_lower\": -3461412.7218804867, \"yhat_upper\": 9926154.729477739, \"fact\": 981752, \"anomaly\": 0, \"importance\": 0.0}, {\"ds\": \"2020-01-04T12:00:00\", \"trend\": 2853648.0101622795, \"yhat\": 2853648.0101622795, \"yhat_lower\": -3457433.783576458, \"yhat_upper\": 9519555.08167818, \"fact\": 992802, \"anomaly\": 0, \"importance\": 0.0}, {\"ds\": \"2020-01-04T13:00:00\", \"trend\": 2799275.5361108393, \"yhat\": 2799275.5361108393, \"yhat_lower\": -3816448.0618519615, \"yhat_upper\": 9270998.496821044, \"fact\": 996569, \"anomaly\": 0, \"importance\": 0.0}, {\"ds\": \"2020-01-04T14:00:00\", \"trend\": 2745003.3807441234, \"yhat\": 2745003.3807441234, \"yhat_lower\": -4022405.670870874, \"yhat_upper\": 9091411.004374636, \"fact\": 989862, \"anomaly\": 0, \"importance\": 0.0}, {\"ds\": \"2020-01-04T15:00:00\", \"trend\": 2690731.225377408, \"yhat\": 2690731.225377408, \"yhat_lower\": -3394445.053063319, \"yhat_upper\": 9606010.422137955, \"fact\": 980264, \"anomaly\": 0, \"importance\": 0.0}, {\"ds\": \"2020-01-04T16:00:00\", \"trend\": 2636459.0700106933, \"yhat\": 2636459.0700106933, \"yhat_lower\": -4031049.6388340555, \"yhat_upper\": 9117817.500652337, \"fact\": 1008733, \"anomaly\": 0, \"importance\": 0.0}, {\"ds\": \"2020-01-04T17:00:00\", \"trend\": 2582197.5421324437, \"yhat\": 2582197.5421324437, \"yhat_lower\": -3850300.2913835496, \"yhat_upper\": 9544594.360409612, \"fact\": 1003035, \"anomaly\": 0, \"importance\": 0.0}, {\"ds\": \"2020-01-04T18:00:00\", \"trend\": 2527936.014254195, \"yhat\": 2527936.014254195, \"yhat_lower\": -3889712.3805043055, \"yhat_upper\": 8937693.889163973, \"fact\": 1010870, \"anomaly\": 0, \"importance\": 0.0}, {\"ds\": \"2020-01-04T19:00:00\", \"trend\": 2473744.254603469, \"yhat\": 2473744.254603469, \"yhat_lower\": -3892393.391968162, \"yhat_upper\": 8540152.322098387, \"fact\": 1014003, \"anomaly\": 0, \"importance\": 0.0}, {\"ds\": \"2020-01-04T20:00:00\", \"trend\": 2419552.494952742, \"yhat\": 2419552.494952742, \"yhat_lower\": -3741733.9290825073, \"yhat_upper\": 8976184.727517039, \"fact\": 951913, \"anomaly\": 0, \"importance\": 0.0}, {\"ds\": \"2020-01-04T21:00:00\", \"trend\": 2365471.4381785872, \"yhat\": 2365471.4381785872, \"yhat_lower\": -4059285.996240058, \"yhat_upper\": 8693008.657613399, \"fact\": 988516, \"anomaly\": 0, \"importance\": 0.0}, {\"ds\": \"2020-01-04T22:00:00\", \"trend\": 2311390.3814044325, \"yhat\": 2311390.3814044325, \"yhat_lower\": -4153359.2750445334, \"yhat_upper\": 8631240.075829454, \"fact\": 1043350, \"anomaly\": 0, \"importance\": 0.0}, {\"ds\": \"2020-01-04T23:00:00\", \"trend\": 2257309.324630277, \"yhat\": 2257309.324630277, \"yhat_lower\": -5102306.341961571, \"yhat_upper\": 9003625.856193777, \"fact\": 989288, \"anomaly\": 0, \"importance\": 0.0}, {\"ds\": \"2020-01-05T00:00:00\", \"trend\": 2203368.5634307694, \"yhat\": 2203368.5634307694, \"yhat_lower\": -4541018.438311971, \"yhat_upper\": 8485273.456094425, \"fact\": 973016, \"anomaly\": 0, \"importance\": 0.0}, {\"ds\": \"2020-01-05T01:00:00\", \"trend\": 2149427.802231262, \"yhat\": 2149427.802231262, \"yhat_lower\": -4533881.644593534, \"yhat_upper\": 8196438.891262174, \"fact\": 959959, \"anomaly\": 0, \"importance\": 0.0}, {\"ds\": \"2020-01-05T02:00:00\", \"trend\": 2095627.9679996124, \"yhat\": 2095627.9679996124, \"yhat_lower\": -4066167.3918202985, \"yhat_upper\": 8504578.376816608, \"fact\": 982662, \"anomaly\": 0, \"importance\": 0.0}, {\"ds\": \"2020-01-05T03:00:00\", \"trend\": 2041828.133767963, \"yhat\": 2041828.133767963, \"yhat_lower\": -4777866.947086204, \"yhat_upper\": 8490304.952039879, \"fact\": 941152, \"anomaly\": 0, \"importance\": 0.0}, {\"ds\": \"2020-01-05T04:00:00\", \"trend\": 1988028.2995363136, \"yhat\": 1988028.2995363136, \"yhat_lower\": -5229858.16741505, \"yhat_upper\": 7524981.15779481, \"fact\": 954366, \"anomaly\": 0, \"importance\": 0.0}, {\"ds\": \"2020-01-05T05:00:00\", \"trend\": 1934344.1705688124, \"yhat\": 1934344.1705688124, \"yhat_lower\": -5310262.238308781, \"yhat_upper\": 8605463.613464624, \"fact\": 934675, \"anomaly\": 0, \"importance\": 0.0}, {\"ds\": \"2020-01-05T06:00:00\", \"trend\": 1880660.0416013112, \"yhat\": 1880660.0416013112, \"yhat_lower\": -4354286.191528002, \"yhat_upper\": 8601660.686525902, \"fact\": 972854, \"anomaly\": 0, \"importance\": 0.0}, {\"ds\": \"2020-01-05T07:00:00\", \"trend\": 1827059.014898312, \"yhat\": 1827059.014898312, \"yhat_lower\": -4519696.944353478, \"yhat_upper\": 8257305.16035584, \"fact\": 962262, \"anomaly\": 0, \"importance\": 0.0}, {\"ds\": \"2020-01-05T08:00:00\", \"trend\": 1773457.9881953134, \"yhat\": 1773457.9881953134, \"yhat_lower\": -4644894.236739898, \"yhat_upper\": 8161952.282128469, \"fact\": 887332, \"anomaly\": 0, \"importance\": 0.0}, {\"ds\": \"2020-01-05T09:00:00\", \"trend\": 1719856.961492314, \"yhat\": 1719856.961492314, \"yhat_lower\": -4402922.754618357, \"yhat_upper\": 8242053.682440565, \"fact\": 938865, \"anomaly\": 0, \"importance\": 0.0}, {\"ds\": \"2020-01-05T10:00:00\", \"trend\": 1666269.6871143521, \"yhat\": 1666269.6871143521, \"yhat_lower\": -5403808.6508380575, \"yhat_upper\": 7880493.792101572, \"fact\": 938115, \"anomaly\": 0, \"importance\": 0.0}, {\"ds\": \"2020-01-05T11:00:00\", \"trend\": 1612682.4127363912, \"yhat\": 1612682.4127363912, \"yhat_lower\": -4824226.264622645, \"yhat_upper\": 7510565.481887776, \"fact\": 949371, \"anomaly\": 0, \"importance\": 0.0}, {\"ds\": \"2020-01-05T12:00:00\", \"trend\": 1559104.4820061321, \"yhat\": 1559104.4820061321, \"yhat_lower\": -4983255.159823911, \"yhat_upper\": 7394473.028928308, \"fact\": 890701, \"anomaly\": 0, \"importance\": 0.0}, {\"ds\": \"2020-01-05T13:00:00\", \"trend\": 1505526.551275873, \"yhat\": 1505526.551275873, \"yhat_lower\": -5095985.385268816, \"yhat_upper\": 7622493.261854354, \"fact\": 953903, \"anomaly\": 0, \"importance\": 0.0}, {\"ds\": \"2020-01-05T14:00:00\", \"trend\": 1452053.267670125, \"yhat\": 1452053.267670125, \"yhat_lower\": -4980817.234601337, \"yhat_upper\": 8371379.892014912, \"fact\": 895548, \"anomaly\": 0, \"importance\": 0.0}, {\"ds\": \"2020-01-05T15:00:00\", \"trend\": 1398579.9840643767, \"yhat\": 1398579.9840643767, \"yhat_lower\": -4542127.331554492, \"yhat_upper\": 7519727.397185426, \"fact\": 1114932, \"anomaly\": 0, \"importance\": 0.0}, {\"ds\": \"2020-01-05T16:00:00\", \"trend\": 1345106.7004586284, \"yhat\": 1345106.7004586284, \"yhat_lower\": -5341646.768610293, \"yhat_upper\": 8232455.401221961, \"fact\": 1087578, \"anomaly\": 0, \"importance\": 0.0}, {\"ds\": \"2020-01-05T17:00:00\", \"trend\": 1291633.4225072283, \"yhat\": 1291633.4225072283, \"yhat_lower\": -5025703.7537990995, \"yhat_upper\": 7925292.983509313, \"fact\": 885613, \"anomaly\": 0, \"importance\": 0.0}, {\"ds\": \"2020-01-05T18:00:00\", \"trend\": 1238160.144555828, \"yhat\": 1238160.144555828, \"yhat_lower\": -4939790.173725369, \"yhat_upper\": 7948554.203448599, \"fact\": 825411, \"anomaly\": 0, \"importance\": 0.0}, {\"ds\": \"2020-01-05T19:00:00\", \"trend\": 1184733.8218744108, \"yhat\": 1184733.8218744108, \"yhat_lower\": -5962289.72686065, \"yhat_upper\": 7522341.345514116, \"fact\": 850689, \"anomaly\": 0, \"importance\": 0.0}, {\"ds\": \"2020-01-05T20:00:00\", \"trend\": 1131307.4991929936, \"yhat\": 1131307.4991929936, \"yhat_lower\": -5210580.498368654, \"yhat_upper\": 7696817.188645266, \"fact\": 851023, \"anomaly\": 0, \"importance\": 0.0}, {\"ds\": \"2020-01-05T21:00:00\", \"trend\": 1077881.176511576, \"yhat\": 1077881.176511576, \"yhat_lower\": -4444082.063229083, \"yhat_upper\": 7391150.40821527, \"fact\": 863175, \"anomaly\": 0, \"importance\": 0.0}, {\"ds\": \"2020-01-05T22:00:00\", \"trend\": 1024456.463217312, \"yhat\": 1024456.463217312, \"yhat_lower\": -5232238.518089584, \"yhat_upper\": 8400964.041053629, \"fact\": 838135, \"anomaly\": 0, \"importance\": 0.0}, {\"ds\": \"2020-01-05T23:00:00\", \"trend\": 971031.7499230485, \"yhat\": 971031.7499230485, \"yhat_lower\": -5945804.661070689, \"yhat_upper\": 7467105.787173122, \"fact\": 836047, \"anomaly\": 0, \"importance\": 0.0}, {\"ds\": \"2020-01-06T00:00:00\", \"trend\": 917607.0367730114, \"yhat\": 917607.0367730114, \"yhat_lower\": -5425913.276319578, \"yhat_upper\": 7285494.390422528, \"fact\": 874950, \"anomaly\": 0, \"importance\": 0.0}, {\"ds\": \"2020-01-06T01:00:00\", \"trend\": 864182.3236229749, \"yhat\": 864182.3236229749, \"yhat_lower\": -5518908.639495221, \"yhat_upper\": 8222701.064826716, \"fact\": 819953, \"anomaly\": 0, \"importance\": 0.0}, {\"ds\": \"2020-01-06T02:00:00\", \"trend\": 810757.6104729378, \"yhat\": 810757.6104729378, \"yhat_lower\": -6040015.675022579, \"yhat_upper\": 6960739.366089572, \"fact\": 781302, \"anomaly\": 0, \"importance\": 0.0}, {\"ds\": \"2020-01-06T03:00:00\", \"trend\": 757332.8973816696, \"yhat\": 757332.8973816696, \"yhat_lower\": -5607311.267379614, \"yhat_upper\": 6944020.813545569, \"fact\": 789989, \"anomaly\": 0, \"importance\": 0.0}, {\"ds\": \"2020-01-06T04:00:00\", \"trend\": 703908.1842904015, \"yhat\": 703908.1842904015, \"yhat_lower\": -5746957.234418956, \"yhat_upper\": 6845889.10042548, \"fact\": 860874, \"anomaly\": 0, \"importance\": 0.0}, {\"ds\": \"2020-01-06T05:00:00\", \"trend\": 650483.4711687973, \"yhat\": 650483.4711687973, \"yhat_lower\": -5600726.208007447, \"yhat_upper\": 7355840.917372166, \"fact\": 839167, \"anomaly\": 0, \"importance\": 0.0}, {\"ds\": \"2020-01-06T06:00:00\", \"trend\": 597058.7580471932, \"yhat\": 597058.7580471932, \"yhat_lower\": -6212256.287672852, \"yhat_upper\": 6983061.686263607, \"fact\": 856778, \"anomaly\": 0, \"importance\": 0.0}, {\"ds\": \"2020-01-06T07:00:00\", \"trend\": 543634.0449255885, \"yhat\": 543634.0449255885, \"yhat_lower\": -5559690.229219816, \"yhat_upper\": 7191343.550107553, \"fact\": 828445, \"anomaly\": 0, \"importance\": 0.0}, {\"ds\": \"2020-01-06T08:00:00\", \"trend\": 490209.33193882345, \"yhat\": 490209.33193882345, \"yhat_lower\": -6119025.068252825, \"yhat_upper\": 7738362.505769164, \"fact\": 856723, \"anomaly\": 0, \"importance\": 0.0}, {\"ds\": \"2020-01-06T09:00:00\", \"trend\": 436784.6189520584, \"yhat\": 436784.6189520584, \"yhat_lower\": -5701111.875313746, \"yhat_upper\": 6961369.11821311, \"fact\": 852481, \"anomaly\": 0, \"importance\": 0.0}, {\"ds\": \"2020-01-06T10:00:00\", \"trend\": 383359.90609317314, \"yhat\": 383359.90609317314, \"yhat_lower\": -6211302.6913503995, \"yhat_upper\": 7228720.842828503, \"fact\": 832548, \"anomaly\": 0, \"importance\": 0.0}, {\"ds\": \"2020-01-06T11:00:00\", \"trend\": 329935.1932342873, \"yhat\": 329935.1932342873, \"yhat_lower\": -6205302.330624779, \"yhat_upper\": 6574776.224624141, \"fact\": 854256, \"anomaly\": 0, \"importance\": 0.0}, {\"ds\": \"2020-01-06T12:00:00\", \"trend\": 276510.4803754021, \"yhat\": 276510.4803754021, \"yhat_lower\": -6220552.6971526295, \"yhat_upper\": 6709517.0902097365, \"fact\": 832382, \"anomaly\": 0, \"importance\": 0.0}, {\"ds\": \"2020-01-06T13:00:00\", \"trend\": 223085.76751651682, \"yhat\": 223085.76751651682, \"yhat_lower\": -6017334.535469717, \"yhat_upper\": 6220606.894626294, \"fact\": 854812, \"anomaly\": 0, \"importance\": 0.0}, {\"ds\": \"2020-01-06T14:00:00\", \"trend\": 169661.05465763158, \"yhat\": 169661.05465763158, \"yhat_lower\": -5903593.539524115, \"yhat_upper\": 6567609.725508914, \"fact\": 850623, \"anomaly\": 0, \"importance\": 0.0}, {\"ds\": \"2020-01-06T15:00:00\", \"trend\": 116236.34179874577, \"yhat\": 116236.34179874577, \"yhat_lower\": -6571559.535200043, \"yhat_upper\": 6533352.461243016, \"fact\": 867373, \"anomaly\": 0, \"importance\": 0.0}, {\"ds\": \"2020-01-06T16:00:00\", \"trend\": 62811.62893986052, \"yhat\": 62811.62893986052, \"yhat_lower\": -6106508.666337968, \"yhat_upper\": 6034739.7160633365, \"fact\": 862275, \"anomaly\": 0, \"importance\": 0.0}, {\"ds\": \"2020-01-06T17:00:00\", \"trend\": 9386.916080975274, \"yhat\": 9386.916080975274, \"yhat_lower\": -5898816.869977122, \"yhat_upper\": 6740869.025172495, \"fact\": 831172, \"anomaly\": 0, \"importance\": 0.0}, {\"ds\": \"2020-01-06T18:00:00\", \"trend\": -44037.79677791053, \"yhat\": -44037.79677791053, \"yhat_lower\": -6507822.795240658, \"yhat_upper\": 6792897.59579757, \"fact\": 868136, \"anomaly\": 0, \"importance\": 0.0}, {\"ds\": \"2020-01-06T19:00:00\", \"trend\": -97462.50963679577, \"yhat\": -97462.50963679577, \"yhat_lower\": -5811653.225363197, \"yhat_upper\": 6517210.583139548, \"fact\": 839991, \"anomaly\": 0, \"importance\": 0.0}, {\"ds\": \"2020-01-06T20:00:00\", \"trend\": -150887.22249568158, \"yhat\": -150887.22249568158, \"yhat_lower\": -6615754.168482908, \"yhat_upper\": 6515091.2013262585, \"fact\": 835408, \"anomaly\": 0, \"importance\": 0.0}, {\"ds\": \"2020-01-06T21:00:00\", \"trend\": -204311.93535456684, \"yhat\": -204311.93535456684, \"yhat_lower\": -6925536.141021525, \"yhat_upper\": 6473527.414258321, \"fact\": 844605, \"anomaly\": 0, \"importance\": 0.0}, {\"ds\": \"2020-01-06T22:00:00\", \"trend\": -257736.64821345263, \"yhat\": -257736.64821345263, \"yhat_lower\": -7260762.585200636, \"yhat_upper\": 6099183.46685205, \"fact\": 856231, \"anomaly\": 0, \"importance\": 0.0}, {\"ds\": \"2020-01-06T23:00:00\", \"trend\": -311161.3610723379, \"yhat\": -311161.3610723379, \"yhat_lower\": -7448024.37452635, \"yhat_upper\": 6139727.751036188, \"fact\": 852342, \"anomaly\": 0, \"importance\": 0.0}, {\"ds\": \"2020-01-07T00:00:00\", \"trend\": -364586.0739312237, \"yhat\": -364586.0739312237, \"yhat_lower\": -6631338.986902012, \"yhat_upper\": 6472874.987955675, \"fact\": 861013, \"anomaly\": 0, \"importance\": 0.0}, {\"ds\": \"2020-01-07T01:00:00\", \"trend\": -418010.78679010895, \"yhat\": -418010.78679010895, \"yhat_lower\": -6923554.023936739, \"yhat_upper\": 5771635.122681855, \"fact\": 280323, \"anomaly\": 0, \"importance\": 0.0}], \"data-688a5c65b31fcb7011b7ffc410cbb26d\": [{\"ds\": \"2020-01-03T20:00:00\", \"trend\": 3723752.8828252847, \"yhat\": 3723752.8828252847, \"yhat_lower\": -3178914.1872074874, \"yhat_upper\": 10278919.934932383, \"fact\": 537752, \"anomaly\": 0, \"importance\": 0.0}, {\"ds\": \"2020-01-03T23:00:00\", \"trend\": 3560606.402904808, \"yhat\": 3560606.402904808, \"yhat_lower\": -3953846.361485928, \"yhat_upper\": 10650624.3057798, \"fact\": 9460067, \"anomaly\": 0, \"importance\": 0.0}, {\"ds\": \"2020-01-04T00:00:00\", \"trend\": 3506224.2428738796, \"yhat\": 3506224.2428738796, \"yhat_lower\": -3183060.610597534, \"yhat_upper\": 9359356.506128978, \"fact\": 5949829, \"anomaly\": 0, \"importance\": 0.0}, {\"ds\": \"2020-01-04T01:00:00\", \"trend\": 3451842.0828429516, \"yhat\": 3451842.0828429516, \"yhat_lower\": -4254139.271343023, \"yhat_upper\": 10306917.758846585, \"fact\": 4703579, \"anomaly\": 0, \"importance\": 0.0}, {\"ds\": \"2020-01-04T02:00:00\", \"trend\": 3397459.922878578, \"yhat\": 3397459.922878578, \"yhat_lower\": -3538180.086804665, \"yhat_upper\": 10594197.799380343, \"fact\": 3654737, \"anomaly\": 0, \"importance\": 0.0}, {\"ds\": \"2020-01-04T03:00:00\", \"trend\": 3343077.762914204, \"yhat\": 3343077.762914204, \"yhat_lower\": -2757368.0585140577, \"yhat_upper\": 10124948.795468051, \"fact\": 2908134, \"anomaly\": 0, \"importance\": 0.0}, {\"ds\": \"2020-01-04T04:00:00\", \"trend\": 3288695.602912267, \"yhat\": 3288695.602912267, \"yhat_lower\": -3847204.5594554883, \"yhat_upper\": 10265828.084215105, \"fact\": 1962165, \"anomaly\": 0, \"importance\": 0.0}, {\"ds\": \"2020-01-04T05:00:00\", \"trend\": 3234313.4429103304, \"yhat\": 3234313.4429103304, \"yhat_lower\": -3337571.6783743114, \"yhat_upper\": 10641204.773935124, \"fact\": 1727636, \"anomaly\": 0, \"importance\": 0.0}, {\"ds\": \"2020-01-04T06:00:00\", \"trend\": 3179931.282908393, \"yhat\": 3179931.282908393, \"yhat_lower\": -3388271.919932722, \"yhat_upper\": 9978473.63796915, \"fact\": 1407538, \"anomaly\": 0, \"importance\": 0.0}, {\"ds\": \"2020-01-04T07:00:00\", \"trend\": 3125549.12308643, \"yhat\": 3125549.12308643, \"yhat_lower\": -3058871.097727646, \"yhat_upper\": 9149698.764176853, \"fact\": 1375459, \"anomaly\": 0, \"importance\": 0.0}, {\"ds\": \"2020-01-04T08:00:00\", \"trend\": 3071166.9632644677, \"yhat\": 3071166.9632644677, \"yhat_lower\": -3527593.9909011866, \"yhat_upper\": 9550125.91136801, \"fact\": 1326827, \"anomaly\": 0, \"importance\": 0.0}, {\"ds\": \"2020-01-04T09:00:00\", \"trend\": 3016784.8035808853, \"yhat\": 3016784.8035808853, \"yhat_lower\": -3409176.7972909734, \"yhat_upper\": 10290635.178755993, \"fact\": 1253780, \"anomaly\": 0, \"importance\": 0.0}, {\"ds\": \"2020-01-04T10:00:00\", \"trend\": 2962402.6438973024, \"yhat\": 2962402.6438973024, \"yhat_lower\": -3284235.5999274678, \"yhat_upper\": 9871878.526258336, \"fact\": 1144269, \"anomaly\": 0, \"importance\": 0.0}, {\"ds\": \"2020-01-04T11:00:00\", \"trend\": 2908020.4842137196, \"yhat\": 2908020.4842137196, \"yhat_lower\": -3461412.7218804867, \"yhat_upper\": 9926154.729477739, \"fact\": 981752, \"anomaly\": 0, \"importance\": 0.0}, {\"ds\": \"2020-01-04T12:00:00\", \"trend\": 2853648.0101622795, \"yhat\": 2853648.0101622795, \"yhat_lower\": -3457433.783576458, \"yhat_upper\": 9519555.08167818, \"fact\": 992802, \"anomaly\": 0, \"importance\": 0.0}, {\"ds\": \"2020-01-04T13:00:00\", \"trend\": 2799275.5361108393, \"yhat\": 2799275.5361108393, \"yhat_lower\": -3816448.0618519615, \"yhat_upper\": 9270998.496821044, \"fact\": 996569, \"anomaly\": 0, \"importance\": 0.0}, {\"ds\": \"2020-01-04T14:00:00\", \"trend\": 2745003.3807441234, \"yhat\": 2745003.3807441234, \"yhat_lower\": -4022405.670870874, \"yhat_upper\": 9091411.004374636, \"fact\": 989862, \"anomaly\": 0, \"importance\": 0.0}, {\"ds\": \"2020-01-04T15:00:00\", \"trend\": 2690731.225377408, \"yhat\": 2690731.225377408, \"yhat_lower\": -3394445.053063319, \"yhat_upper\": 9606010.422137955, \"fact\": 980264, \"anomaly\": 0, \"importance\": 0.0}, {\"ds\": \"2020-01-04T16:00:00\", \"trend\": 2636459.0700106933, \"yhat\": 2636459.0700106933, \"yhat_lower\": -4031049.6388340555, \"yhat_upper\": 9117817.500652337, \"fact\": 1008733, \"anomaly\": 0, \"importance\": 0.0}, {\"ds\": \"2020-01-04T17:00:00\", \"trend\": 2582197.5421324437, \"yhat\": 2582197.5421324437, \"yhat_lower\": -3850300.2913835496, \"yhat_upper\": 9544594.360409612, \"fact\": 1003035, \"anomaly\": 0, \"importance\": 0.0}, {\"ds\": \"2020-01-04T18:00:00\", \"trend\": 2527936.014254195, \"yhat\": 2527936.014254195, \"yhat_lower\": -3889712.3805043055, \"yhat_upper\": 8937693.889163973, \"fact\": 1010870, \"anomaly\": 0, \"importance\": 0.0}, {\"ds\": \"2020-01-04T19:00:00\", \"trend\": 2473744.254603469, \"yhat\": 2473744.254603469, \"yhat_lower\": -3892393.391968162, \"yhat_upper\": 8540152.322098387, \"fact\": 1014003, \"anomaly\": 0, \"importance\": 0.0}, {\"ds\": \"2020-01-04T20:00:00\", \"trend\": 2419552.494952742, \"yhat\": 2419552.494952742, \"yhat_lower\": -3741733.9290825073, \"yhat_upper\": 8976184.727517039, \"fact\": 951913, \"anomaly\": 0, \"importance\": 0.0}, {\"ds\": \"2020-01-04T21:00:00\", \"trend\": 2365471.4381785872, \"yhat\": 2365471.4381785872, \"yhat_lower\": -4059285.996240058, \"yhat_upper\": 8693008.657613399, \"fact\": 988516, \"anomaly\": 0, \"importance\": 0.0}, {\"ds\": \"2020-01-04T22:00:00\", \"trend\": 2311390.3814044325, \"yhat\": 2311390.3814044325, \"yhat_lower\": -4153359.2750445334, \"yhat_upper\": 8631240.075829454, \"fact\": 1043350, \"anomaly\": 0, \"importance\": 0.0}, {\"ds\": \"2020-01-04T23:00:00\", \"trend\": 2257309.324630277, \"yhat\": 2257309.324630277, \"yhat_lower\": -5102306.341961571, \"yhat_upper\": 9003625.856193777, \"fact\": 989288, \"anomaly\": 0, \"importance\": 0.0}, {\"ds\": \"2020-01-05T00:00:00\", \"trend\": 2203368.5634307694, \"yhat\": 2203368.5634307694, \"yhat_lower\": -4541018.438311971, \"yhat_upper\": 8485273.456094425, \"fact\": 973016, \"anomaly\": 0, \"importance\": 0.0}, {\"ds\": \"2020-01-05T01:00:00\", \"trend\": 2149427.802231262, \"yhat\": 2149427.802231262, \"yhat_lower\": -4533881.644593534, \"yhat_upper\": 8196438.891262174, \"fact\": 959959, \"anomaly\": 0, \"importance\": 0.0}, {\"ds\": \"2020-01-05T02:00:00\", \"trend\": 2095627.9679996124, \"yhat\": 2095627.9679996124, \"yhat_lower\": -4066167.3918202985, \"yhat_upper\": 8504578.376816608, \"fact\": 982662, \"anomaly\": 0, \"importance\": 0.0}, {\"ds\": \"2020-01-05T03:00:00\", \"trend\": 2041828.133767963, \"yhat\": 2041828.133767963, \"yhat_lower\": -4777866.947086204, \"yhat_upper\": 8490304.952039879, \"fact\": 941152, \"anomaly\": 0, \"importance\": 0.0}, {\"ds\": \"2020-01-05T04:00:00\", \"trend\": 1988028.2995363136, \"yhat\": 1988028.2995363136, \"yhat_lower\": -5229858.16741505, \"yhat_upper\": 7524981.15779481, \"fact\": 954366, \"anomaly\": 0, \"importance\": 0.0}, {\"ds\": \"2020-01-05T05:00:00\", \"trend\": 1934344.1705688124, \"yhat\": 1934344.1705688124, \"yhat_lower\": -5310262.238308781, \"yhat_upper\": 8605463.613464624, \"fact\": 934675, \"anomaly\": 0, \"importance\": 0.0}, {\"ds\": \"2020-01-05T06:00:00\", \"trend\": 1880660.0416013112, \"yhat\": 1880660.0416013112, \"yhat_lower\": -4354286.191528002, \"yhat_upper\": 8601660.686525902, \"fact\": 972854, \"anomaly\": 0, \"importance\": 0.0}, {\"ds\": \"2020-01-05T07:00:00\", \"trend\": 1827059.014898312, \"yhat\": 1827059.014898312, \"yhat_lower\": -4519696.944353478, \"yhat_upper\": 8257305.16035584, \"fact\": 962262, \"anomaly\": 0, \"importance\": 0.0}, {\"ds\": \"2020-01-05T08:00:00\", \"trend\": 1773457.9881953134, \"yhat\": 1773457.9881953134, \"yhat_lower\": -4644894.236739898, \"yhat_upper\": 8161952.282128469, \"fact\": 887332, \"anomaly\": 0, \"importance\": 0.0}, {\"ds\": \"2020-01-05T09:00:00\", \"trend\": 1719856.961492314, \"yhat\": 1719856.961492314, \"yhat_lower\": -4402922.754618357, \"yhat_upper\": 8242053.682440565, \"fact\": 938865, \"anomaly\": 0, \"importance\": 0.0}, {\"ds\": \"2020-01-05T10:00:00\", \"trend\": 1666269.6871143521, \"yhat\": 1666269.6871143521, \"yhat_lower\": -5403808.6508380575, \"yhat_upper\": 7880493.792101572, \"fact\": 938115, \"anomaly\": 0, \"importance\": 0.0}, {\"ds\": \"2020-01-05T11:00:00\", \"trend\": 1612682.4127363912, \"yhat\": 1612682.4127363912, \"yhat_lower\": -4824226.264622645, \"yhat_upper\": 7510565.481887776, \"fact\": 949371, \"anomaly\": 0, \"importance\": 0.0}, {\"ds\": \"2020-01-05T12:00:00\", \"trend\": 1559104.4820061321, \"yhat\": 1559104.4820061321, \"yhat_lower\": -4983255.159823911, \"yhat_upper\": 7394473.028928308, \"fact\": 890701, \"anomaly\": 0, \"importance\": 0.0}, {\"ds\": \"2020-01-05T13:00:00\", \"trend\": 1505526.551275873, \"yhat\": 1505526.551275873, \"yhat_lower\": -5095985.385268816, \"yhat_upper\": 7622493.261854354, \"fact\": 953903, \"anomaly\": 0, \"importance\": 0.0}, {\"ds\": \"2020-01-05T14:00:00\", \"trend\": 1452053.267670125, \"yhat\": 1452053.267670125, \"yhat_lower\": -4980817.234601337, \"yhat_upper\": 8371379.892014912, \"fact\": 895548, \"anomaly\": 0, \"importance\": 0.0}, {\"ds\": \"2020-01-05T15:00:00\", \"trend\": 1398579.9840643767, \"yhat\": 1398579.9840643767, \"yhat_lower\": -4542127.331554492, \"yhat_upper\": 7519727.397185426, \"fact\": 1114932, \"anomaly\": 0, \"importance\": 0.0}, {\"ds\": \"2020-01-05T16:00:00\", \"trend\": 1345106.7004586284, \"yhat\": 1345106.7004586284, \"yhat_lower\": -5341646.768610293, \"yhat_upper\": 8232455.401221961, \"fact\": 1087578, \"anomaly\": 0, \"importance\": 0.0}, {\"ds\": \"2020-01-05T17:00:00\", \"trend\": 1291633.4225072283, \"yhat\": 1291633.4225072283, \"yhat_lower\": -5025703.7537990995, \"yhat_upper\": 7925292.983509313, \"fact\": 885613, \"anomaly\": 0, \"importance\": 0.0}, {\"ds\": \"2020-01-05T18:00:00\", \"trend\": 1238160.144555828, \"yhat\": 1238160.144555828, \"yhat_lower\": -4939790.173725369, \"yhat_upper\": 7948554.203448599, \"fact\": 825411, \"anomaly\": 0, \"importance\": 0.0}, {\"ds\": \"2020-01-05T19:00:00\", \"trend\": 1184733.8218744108, \"yhat\": 1184733.8218744108, \"yhat_lower\": -5962289.72686065, \"yhat_upper\": 7522341.345514116, \"fact\": 850689, \"anomaly\": 0, \"importance\": 0.0}, {\"ds\": \"2020-01-05T20:00:00\", \"trend\": 1131307.4991929936, \"yhat\": 1131307.4991929936, \"yhat_lower\": -5210580.498368654, \"yhat_upper\": 7696817.188645266, \"fact\": 851023, \"anomaly\": 0, \"importance\": 0.0}, {\"ds\": \"2020-01-05T21:00:00\", \"trend\": 1077881.176511576, \"yhat\": 1077881.176511576, \"yhat_lower\": -4444082.063229083, \"yhat_upper\": 7391150.40821527, \"fact\": 863175, \"anomaly\": 0, \"importance\": 0.0}, {\"ds\": \"2020-01-05T22:00:00\", \"trend\": 1024456.463217312, \"yhat\": 1024456.463217312, \"yhat_lower\": -5232238.518089584, \"yhat_upper\": 8400964.041053629, \"fact\": 838135, \"anomaly\": 0, \"importance\": 0.0}, {\"ds\": \"2020-01-05T23:00:00\", \"trend\": 971031.7499230485, \"yhat\": 971031.7499230485, \"yhat_lower\": -5945804.661070689, \"yhat_upper\": 7467105.787173122, \"fact\": 836047, \"anomaly\": 0, \"importance\": 0.0}, {\"ds\": \"2020-01-06T00:00:00\", \"trend\": 917607.0367730114, \"yhat\": 917607.0367730114, \"yhat_lower\": -5425913.276319578, \"yhat_upper\": 7285494.390422528, \"fact\": 874950, \"anomaly\": 0, \"importance\": 0.0}, {\"ds\": \"2020-01-06T01:00:00\", \"trend\": 864182.3236229749, \"yhat\": 864182.3236229749, \"yhat_lower\": -5518908.639495221, \"yhat_upper\": 8222701.064826716, \"fact\": 819953, \"anomaly\": 0, \"importance\": 0.0}, {\"ds\": \"2020-01-06T02:00:00\", \"trend\": 810757.6104729378, \"yhat\": 810757.6104729378, \"yhat_lower\": -6040015.675022579, \"yhat_upper\": 6960739.366089572, \"fact\": 781302, \"anomaly\": 0, \"importance\": 0.0}, {\"ds\": \"2020-01-06T03:00:00\", \"trend\": 757332.8973816696, \"yhat\": 757332.8973816696, \"yhat_lower\": -5607311.267379614, \"yhat_upper\": 6944020.813545569, \"fact\": 789989, \"anomaly\": 0, \"importance\": 0.0}, {\"ds\": \"2020-01-06T04:00:00\", \"trend\": 703908.1842904015, \"yhat\": 703908.1842904015, \"yhat_lower\": -5746957.234418956, \"yhat_upper\": 6845889.10042548, \"fact\": 860874, \"anomaly\": 0, \"importance\": 0.0}, {\"ds\": \"2020-01-06T05:00:00\", \"trend\": 650483.4711687973, \"yhat\": 650483.4711687973, \"yhat_lower\": -5600726.208007447, \"yhat_upper\": 7355840.917372166, \"fact\": 839167, \"anomaly\": 0, \"importance\": 0.0}, {\"ds\": \"2020-01-06T06:00:00\", \"trend\": 597058.7580471932, \"yhat\": 597058.7580471932, \"yhat_lower\": -6212256.287672852, \"yhat_upper\": 6983061.686263607, \"fact\": 856778, \"anomaly\": 0, \"importance\": 0.0}, {\"ds\": \"2020-01-06T07:00:00\", \"trend\": 543634.0449255885, \"yhat\": 543634.0449255885, \"yhat_lower\": -5559690.229219816, \"yhat_upper\": 7191343.550107553, \"fact\": 828445, \"anomaly\": 0, \"importance\": 0.0}, {\"ds\": \"2020-01-06T08:00:00\", \"trend\": 490209.33193882345, \"yhat\": 490209.33193882345, \"yhat_lower\": -6119025.068252825, \"yhat_upper\": 7738362.505769164, \"fact\": 856723, \"anomaly\": 0, \"importance\": 0.0}, {\"ds\": \"2020-01-06T09:00:00\", \"trend\": 436784.6189520584, \"yhat\": 436784.6189520584, \"yhat_lower\": -5701111.875313746, \"yhat_upper\": 6961369.11821311, \"fact\": 852481, \"anomaly\": 0, \"importance\": 0.0}, {\"ds\": \"2020-01-06T10:00:00\", \"trend\": 383359.90609317314, \"yhat\": 383359.90609317314, \"yhat_lower\": -6211302.6913503995, \"yhat_upper\": 7228720.842828503, \"fact\": 832548, \"anomaly\": 0, \"importance\": 0.0}, {\"ds\": \"2020-01-06T11:00:00\", \"trend\": 329935.1932342873, \"yhat\": 329935.1932342873, \"yhat_lower\": -6205302.330624779, \"yhat_upper\": 6574776.224624141, \"fact\": 854256, \"anomaly\": 0, \"importance\": 0.0}, {\"ds\": \"2020-01-06T12:00:00\", \"trend\": 276510.4803754021, \"yhat\": 276510.4803754021, \"yhat_lower\": -6220552.6971526295, \"yhat_upper\": 6709517.0902097365, \"fact\": 832382, \"anomaly\": 0, \"importance\": 0.0}, {\"ds\": \"2020-01-06T13:00:00\", \"trend\": 223085.76751651682, \"yhat\": 223085.76751651682, \"yhat_lower\": -6017334.535469717, \"yhat_upper\": 6220606.894626294, \"fact\": 854812, \"anomaly\": 0, \"importance\": 0.0}, {\"ds\": \"2020-01-06T14:00:00\", \"trend\": 169661.05465763158, \"yhat\": 169661.05465763158, \"yhat_lower\": -5903593.539524115, \"yhat_upper\": 6567609.725508914, \"fact\": 850623, \"anomaly\": 0, \"importance\": 0.0}, {\"ds\": \"2020-01-06T15:00:00\", \"trend\": 116236.34179874577, \"yhat\": 116236.34179874577, \"yhat_lower\": -6571559.535200043, \"yhat_upper\": 6533352.461243016, \"fact\": 867373, \"anomaly\": 0, \"importance\": 0.0}, {\"ds\": \"2020-01-06T16:00:00\", \"trend\": 62811.62893986052, \"yhat\": 62811.62893986052, \"yhat_lower\": -6106508.666337968, \"yhat_upper\": 6034739.7160633365, \"fact\": 862275, \"anomaly\": 0, \"importance\": 0.0}, {\"ds\": \"2020-01-06T17:00:00\", \"trend\": 9386.916080975274, \"yhat\": 9386.916080975274, \"yhat_lower\": -5898816.869977122, \"yhat_upper\": 6740869.025172495, \"fact\": 831172, \"anomaly\": 0, \"importance\": 0.0}, {\"ds\": \"2020-01-06T18:00:00\", \"trend\": -44037.79677791053, \"yhat\": -44037.79677791053, \"yhat_lower\": -6507822.795240658, \"yhat_upper\": 6792897.59579757, \"fact\": 868136, \"anomaly\": 0, \"importance\": 0.0}, {\"ds\": \"2020-01-06T19:00:00\", \"trend\": -97462.50963679577, \"yhat\": -97462.50963679577, \"yhat_lower\": -5811653.225363197, \"yhat_upper\": 6517210.583139548, \"fact\": 839991, \"anomaly\": 0, \"importance\": 0.0}, {\"ds\": \"2020-01-06T20:00:00\", \"trend\": -150887.22249568158, \"yhat\": -150887.22249568158, \"yhat_lower\": -6615754.168482908, \"yhat_upper\": 6515091.2013262585, \"fact\": 835408, \"anomaly\": 0, \"importance\": 0.0}, {\"ds\": \"2020-01-06T21:00:00\", \"trend\": -204311.93535456684, \"yhat\": -204311.93535456684, \"yhat_lower\": -6925536.141021525, \"yhat_upper\": 6473527.414258321, \"fact\": 844605, \"anomaly\": 0, \"importance\": 0.0}, {\"ds\": \"2020-01-06T22:00:00\", \"trend\": -257736.64821345263, \"yhat\": -257736.64821345263, \"yhat_lower\": -7260762.585200636, \"yhat_upper\": 6099183.46685205, \"fact\": 856231, \"anomaly\": 0, \"importance\": 0.0}, {\"ds\": \"2020-01-06T23:00:00\", \"trend\": -311161.3610723379, \"yhat\": -311161.3610723379, \"yhat_lower\": -7448024.37452635, \"yhat_upper\": 6139727.751036188, \"fact\": 852342, \"anomaly\": 0, \"importance\": 0.0}, {\"ds\": \"2020-01-07T00:00:00\", \"trend\": -364586.0739312237, \"yhat\": -364586.0739312237, \"yhat_lower\": -6631338.986902012, \"yhat_upper\": 6472874.987955675, \"fact\": 861013, \"anomaly\": 0, \"importance\": 0.0}, {\"ds\": \"2020-01-07T01:00:00\", \"trend\": -418010.78679010895, \"yhat\": -418010.78679010895, \"yhat_lower\": -6923554.023936739, \"yhat_upper\": 5771635.122681855, \"fact\": 280323, \"anomaly\": 0, \"importance\": 0.0}], \"data-5a619ebde7d757c65ceb5bf5bb8f1613\": [{\"ds\": \"2020-01-03T21:00:00\", \"trend\": 3669370.7228805106, \"yhat\": 3669370.7228805106, \"yhat_lower\": -2338366.1994110597, \"yhat_upper\": 9601939.922320839, \"fact\": 13807315, \"anomaly\": 1, \"importance\": 0.30457587718388124}, {\"ds\": \"2020-01-03T22:00:00\", \"trend\": 3614988.5629357365, \"yhat\": 3614988.5629357365, \"yhat_lower\": -3461168.1982325986, \"yhat_upper\": 9760740.87474047, \"fact\": 20315429, \"anomaly\": 1, \"importance\": 0.5195404992559857}]}}, {\"mode\": \"vega-lite\"});\n",
       "</script>"
      ],
      "text/plain": [
       "alt.LayerChart(...)"
      ]
     },
     "execution_count": 26,
     "metadata": {},
     "output_type": "execute_result"
    }
   ],
   "source": [
    "def plot_anomalies(forecasted):\n",
    "    interval = alt.Chart(forecasted).mark_area(interpolate=\"basis\", color = '#7FC97F').encode(\n",
    "    x=alt.X('ds:T',  title ='date'),\n",
    "    y='yhat_upper',\n",
    "    y2='yhat_lower',\n",
    "    tooltip=['yearmonthdate(ds)', 'fact', 'yhat_lower', 'yhat_upper']\n",
    "    ).interactive().properties(\n",
    "        title='Anomaly Detection'\n",
    "    )\n",
    "\n",
    "    fact = alt.Chart(forecasted[forecasted.anomaly==0]).mark_circle(size=15, opacity=0.7, color = 'Black').encode(\n",
    "        x='ds:T',\n",
    "        y=alt.Y('fact', title='Message Counts'),    \n",
    "        tooltip=['yearmonthdate(ds)', 'fact', 'yhat_lower', 'yhat_upper']\n",
    "    ).interactive()\n",
    "\n",
    "    anomalies = alt.Chart(forecasted[forecasted.anomaly!=0]).mark_circle(size=30, color = 'Red').encode(\n",
    "        x='ds:T',\n",
    "        y=alt.Y('fact', title='Message Counts'),    \n",
    "        tooltip=['yearmonthdate(ds)', 'fact', 'yhat_lower', 'yhat_upper'],\n",
    "        size = alt.Size( 'importance', legend=None)\n",
    "    ).interactive()\n",
    "\n",
    "    return alt.layer(interval, fact, anomalies)\\\n",
    "              .properties(width=870, height=450)\\\n",
    "              .configure_title(fontSize=20)\n",
    "              \n",
    "plot_anomalies(pred)"
   ]
  },
  {
   "cell_type": "code",
   "execution_count": 34,
   "metadata": {},
   "outputs": [
    {
     "name": "stdout",
     "output_type": "stream",
     "text": [
      "Displaying Prophet plot\n"
     ]
    },
    {
     "data": {
      "image/png": "[encoded data removed]",
      "text/plain": [
       "<Figure size 720x432 with 1 Axes>"
      ]
     },
     "metadata": {},
     "output_type": "display_data"
    }
   ],
   "source": [
    "def plot_forecast(dataframe, interval_width = 0.99, changepoint_range = 0.8):\n",
    "    m = Prophet(daily_seasonality = True, \n",
    "                yearly_seasonality = False, \n",
    "                weekly_seasonality = False,\n",
    "                seasonality_mode = 'multiplicative', \n",
    "                interval_width = interval_width,\n",
    "                changepoint_range = changepoint_range)\n",
    "    m = m.fit(dataframe)\n",
    "    future = m.make_future_dataframe(periods=14)\n",
    "    forecast = m.predict(future)\n",
    "    forecast['fact'] = dataframe['y'].reset_index(drop = True)\n",
    "    print('Displaying Prophet plot')\n",
    "    fig3 = m.plot(forecast)\n",
    "    \n",
    "plot_forecast(clean_df)"
   ]
  }
 ],
 "metadata": {
  "kernelspec": {
   "display_name": "Python 3",
   "language": "python",
   "name": "python3"
  },
  "language_info": {
   "codemirror_mode": {
    "name": "ipython",
    "version": 3
   },
   "file_extension": ".py",
   "mimetype": "text/x-python",
   "name": "python",
   "nbconvert_exporter": "python",
   "pygments_lexer": "ipython3",
   "version": "3.6.5"
  }
 },
 "nbformat": 4,
 "nbformat_minor": 4
}
