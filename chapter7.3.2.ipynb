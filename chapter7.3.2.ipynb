{
 "cells": [
  {
   "cell_type": "markdown",
   "metadata": {},
   "source": [
    "# <a name=\"bookmark0\">Modify Compute Image to Install Kubernetes</a>\n",
    "\n",
    "## Prerequisites\n",
    "\n",
    "*   The Cray command line interface (CLI) tool is initialized and configured on the system. See \"Configure the Cray Command Line Interface (CLI)\" in the _Cray Software Preview System Administration Guide_ for more information.\n",
    "\n",
    "*   System management services (SMS) are running in a Kubernetes cluster on non-compute nodes (NCN) and include the following deployments:\n",
    "\n",
    "    *   cray-ars<span class=\"s1\">, the Artifact Repository Service (ARS)</span>\n",
    "\n",
    "    *   cray-ims<span class=\"s1\">, the Image Management Service (IMS)</span>\n",
    "\n",
    "## About this task\n",
    "\n",
    "### LEVEL Level 3 PaaS.\n",
    "\n",
    "### ROLE <span class=\"s1\">System administrator</span>\n",
    "\n",
    "### OBJECTIVE <span class=\"s1\">Use the Image Management Service (IMS) to modify the compute image to install the base software required for Shasta Linux Compute Kubernetes (ck8s) deployments.</span>\n",
    "\n",
    "### LIMITATIONS <span class=\"s1\">None.</span>\n",
    "\n",
    "### NEW IN RELEASE <span class=\"s1\">This entire procedure is new in this release.</span>\n",
    "\n",
    "## Procedure\n",
    "\n",
    "---\n",
    "PREPARE TO CREATE THE IMAGE\n",
    "\n",
    "---\n",
    "\n",
    "[//]: # (Since we are operating in a container and not on the host, we nned to COPY-IN the raw archive)"
   ]
  },
  {
   "cell_type": "markdown",
   "metadata": {},
   "source": [
    "1.  Set up the environment."
   ]
  },
  {
   "cell_type": "code",
   "execution_count": null,
   "metadata": {},
   "outputs": [],
   "source": [
    "export myname=\"ck8s\"\n",
    "export tmpdir=\"ims-${myname}-image\"\n",
    "export image_archive_name=\"my_${myname}_image\""
   ]
  },
  {
   "cell_type": "markdown",
   "metadata": {},
   "source": [
    "2.  Copy-in the source."
   ]
  },
  {
   "cell_type": "code",
   "execution_count": null,
   "metadata": {},
   "outputs": [],
   "source": [
    "cd /tmp/\n",
    "[ -f sles_15_image.txz ] && rm -f sles_15_image.txz\n",
    "wget http://10.2.0.1:8888/shasta-cd-repo/isos/sles_15_image.txz"
   ]
  },
  {
   "cell_type": "markdown",
   "metadata": {},
   "source": [
    "3.  Extract the image."
   ]
  },
  {
   "cell_type": "code",
   "execution_count": null,
   "metadata": {},
   "outputs": [],
   "source": [
    "[ -d /tmp/my-image-root ] && rm -rf /tmp/my-image-root \n",
    "mkdir -p /tmp/my-image-root && cd /tmp\n",
    "tar xf /tmp/sles_15_image.txz -C /tmp/my-image-root"
   ]
  },
  {
   "cell_type": "markdown",
   "metadata": {},
   "source": [
    "3.  Convert the image to SquashFS."
   ]
  },
  {
   "cell_type": "code",
   "execution_count": null,
   "metadata": {},
   "outputs": [],
   "source": [
    "[ -d my-image-root ] && mksquashfs my-image-root ck8s"
   ]
  },
  {
   "cell_type": "markdown",
   "metadata": {},
   "source": [
    "---\n",
    "UPLOAD SQUASHFS IMAGE ROOT TO ARS\n",
    "\n",
    "---"
   ]
  },
  {
   "cell_type": "markdown",
   "metadata": {},
   "source": [
    "4.  Set Cray CLI credentials in not already set"
   ]
  },
  {
   "cell_type": "code",
   "execution_count": null,
   "metadata": {},
   "outputs": [],
   "source": [
    "cray --version"
   ]
  },
  {
   "cell_type": "code",
   "execution_count": null,
   "metadata": {},
   "outputs": [],
   "source": [
    "cray init --no-auth --configuration default --overwrite --hostname \"https://api-gw-service-nmn.local\""
   ]
  },
  {
   "cell_type": "markdown",
   "metadata": {},
   "source": [
    "5.  Create an artifact record in ARS for the image root archive."
   ]
  },
  {
   "cell_type": "code",
   "execution_count": null,
   "metadata": {},
   "outputs": [],
   "source": [
    "artifact_id=$(cray ars artifacts create --atype generic --name ${myname} --version 0.1 | grep artifact_id | awk '{print $3}' | sed \"s/\\\"//g\")\n",
    "echo \"artifact_id:${artifact_id}\""
   ]
  },
  {
   "cell_type": "markdown",
   "metadata": {},
   "source": [
    "6. Create an ARS upload request using the _artifact_id_ obtained in the previous step."
   ]
  },
  {
   "cell_type": "code",
   "execution_count": null,
   "metadata": {},
   "outputs": [],
   "source": [
    "upload_id=$(cray ars uploads create --artifact-id ${artifact_id} | grep upload_id | awk '{print $3}' | sed \"s/\\\"//g\")\n",
    "echo \"upload_id:${upload_id}\""
   ]
  },
  {
   "cell_type": "markdown",
   "metadata": {},
   "source": [
    "7. Upload the image root archive to ARS using the _ARS_UPLOAD_ID_ returned by the upload request that was just created."
   ]
  },
  {
   "cell_type": "code",
   "execution_count": null,
   "metadata": {},
   "outputs": [],
   "source": [
    "cray ars uploads update --artifact ${myname} ${upload_id}"
   ]
  },
  {
   "cell_type": "markdown",
   "metadata": {},
   "source": [
    "8. Verify that the image root is available in ARS."
   ]
  },
  {
   "cell_type": "code",
   "execution_count": null,
   "metadata": {},
   "outputs": [],
   "source": [
    "cray ars artifacts describe ${artifact_id}"
   ]
  },
  {
   "cell_type": "markdown",
   "metadata": {},
   "source": [
    "---\n",
    "REGISTER THE ARS IMAGE ROOT WITH THE IMS SERVICE\n",
    "\n",
    "---"
   ]
  },
  {
   "cell_type": "markdown",
   "metadata": {},
   "source": [
    "9. Create an IMS image record."
   ]
  },
  {
   "cell_type": "code",
   "execution_count": null,
   "metadata": {},
   "outputs": [],
   "source": [
    "image_id=$(cray ims images create --name ${myname}_image | grep id | awk '{print $3}' | sed \"s/\\\"//g\")\n",
    "echo \"image_id:${image_id}\""
   ]
  },
  {
   "cell_type": "markdown",
   "metadata": {},
   "source": [
    "10. Create an image artifact record using the _ARS_ARTIFACT_ID_ and _IMS_IMAGE_ID_ values."
   ]
  },
  {
   "cell_type": "code",
   "execution_count": null,
   "metadata": {},
   "outputs": [],
   "source": [
    "cray ims image-artifacts create --name ${myname}_image_root --ars-artifact-id ${artifact_id} --ims-image-id ${image_id} --artifact-type rootfs"
   ]
  },
  {
   "cell_type": "markdown",
   "metadata": {},
   "source": [
    "11. Get the IMS public key record."
   ]
  },
  {
   "cell_type": "code",
   "execution_count": null,
   "metadata": {},
   "outputs": [],
   "source": [
    "public_key=$(cray ims public-keys list)\n",
    "echo ${public_key} | grep \"results = \\[\\]\" 2>&1 >/dev/null\n",
    "if [ $? -eq 0 ] ; then \n",
    "   echo \"No public keys set... setting a default\"\n",
    "   cray ims public-keys create --name \"my public key\" --public-key ~/.ssh/id_rsa.pub\n",
    "fi\n",
    "public_key=$(cray ims public-keys list | grep id | awk '{print $3}' | sed \"s/\\\"//g\")\n",
    "echo ${public_key}"
   ]
  },
  {
   "cell_type": "markdown",
   "metadata": {},
   "source": [
    "12. Locate the IMS image record for the image that is being customized."
   ]
  },
  {
   "cell_type": "code",
   "execution_count": null,
   "metadata": {},
   "outputs": [],
   "source": [
    "cray ims images list"
   ]
  },
  {
   "cell_type": "markdown",
   "metadata": {},
   "source": [
    "---\n",
    "SUBMIT THE KUBERNETES IMAGE CUSTOMIZATION JOB\n",
    "\n",
    "---"
   ]
  },
  {
   "cell_type": "code",
   "execution_count": null,
   "metadata": {},
   "outputs": [],
   "source": [
    "cray ims jobs create --job-type customize \\\n",
    "    --image-root-archive-name ${image_archive_name} \\\n",
    "    --build-env-size 20 --kernel-file-name vmlinuz \\\n",
    "    --initrd-file-name initrd --artifact-id $image_id \\\n",
    "    --public-key-id $public_key  2>&1 > kubejob.out\n",
    "sleep 5\n",
    "kubernetes_job=$(cat kubejob.out | grep kubernetes_job | awk '{print $3}' | sed \"s/\\\"//g\")\n",
    "echo \"kubernetes IMS Job:${kubernetes_job}\"\n",
    "kubernetes_job_id=$(cat kubejob.out | grep id | head -2 | tail -1 | awk '{print $3}' | sed \"s/\\\"//g\")\n",
    "echo \"kubernetes IMS Job ID:${kubernetes_job_id}\""
   ]
  },
  {
   "cell_type": "markdown",
   "metadata": {},
   "source": [
    "13. Use _kubectl_ and the returned _kuberentes_job_ value to describe the image customization job."
   ]
  },
  {
   "cell_type": "code",
   "execution_count": null,
   "metadata": {},
   "outputs": [],
   "source": [
    "kubectl describe job ${kubernetes_job}"
   ]
  },
  {
   "cell_type": "markdown",
   "metadata": {},
   "source": [
    "If successful, note the Kubernetes Pod name from the job description."
   ]
  },
  {
   "cell_type": "code",
   "execution_count": null,
   "metadata": {},
   "outputs": [],
   "source": [
    "export pod=$(kubectl describe job ${kubernetes_job} | grep \"Created pod: cray-ims\" | awk '{print $7}' | sed \"s/\\\"//g\")\n",
    "sleep 15"
   ]
  },
  {
   "cell_type": "markdown",
   "metadata": {},
   "source": [
    "14. Review the container logs to obtain the __SSH__ address and port number to use to connect to the customization environment."
   ]
  },
  {
   "cell_type": "code",
   "execution_count": null,
   "metadata": {},
   "outputs": [],
   "source": [
    "kubectl logs ${pod} -c prepare\n",
    "echo $?"
   ]
  },
  {
   "cell_type": "code",
   "execution_count": null,
   "metadata": {},
   "outputs": [],
   "source": [
    "kubectl logs ${pod} -c buildenv\n",
    "echo $?"
   ]
  },
  {
   "cell_type": "code",
   "execution_count": null,
   "metadata": {},
   "outputs": [],
   "source": [
    "kubectl logs ${pod} -c buildenv-sidecar\n",
    "echo $?"
   ]
  },
  {
   "cell_type": "code",
   "execution_count": null,
   "metadata": {},
   "outputs": [],
   "source": [
    "kubectl logs ${pod} -c buildenv-sidecar 2>&1 > pod.log\n",
    "port=$(grep port pod.log | cut -d\":\" -f2 | cut -d',' -f1)\n",
    "echo ${port}\n",
    "connection_ident=\"ssh -p ${port} root@mgmt-plane-nmn.local\"\n",
    "echo ${connection_ident}"
   ]
  },
  {
   "cell_type": "markdown",
   "metadata": {},
   "source": [
    "15. SSH to the container to access the debug shell.\n",
    "\n",
    "For passwordless SSH to work, ensure that the correct public/private key pair is used. The private key will need to match the public key that was previously uploaded to the IMS service and specified in the IMS Job.\n",
    "\n",
    "* Actions taken\n",
    "  1. Update the images hosts file __/etc/hosts__\n",
    "  1. Add Shasta repositories\n",
    "  1. List known repositories\n",
    "  1. Refresh the repositories and install all relevant packages\n",
    "  1. Install the Kubernetes RPMs\n",
    "  1. Download the Kubernetes files to a new directory."
   ]
  },
  {
   "cell_type": "code",
   "execution_count": null,
   "metadata": {},
   "outputs": [],
   "source": [
    "ssh -p ${port} root@mgmt-plane-nmn.local << EOF\n",
    "cd /mnt/image/\n",
    "chroot image-root/\n",
    "# update the images /etc/host file\n",
    "echo \"10.2.100.50        api-gw-service-nmn.local\" >> /etc/hosts\n",
    "# Add new Shasta repositories.\n",
    "zypper addrepo http://api-gw-service-nmn.local/repositories/sle15-Module-Basesystem  SLES15_Module_Basesystem\n",
    "zypper addrepo http://api-gw-service-nmn.local/repositories/sle15-Product-SLES SLES15_Product_SLES\n",
    "zypper addrepo --gpgcheck-allow-unsigned http://api-gw-service-nmn.local/repositories/cray-sle15 DST_built_rpms\n",
    "zypper addrepo http://api-gw-service-nmn.local/repositories/sle15-Module-Server-Applications SLES15_Module_Server_Applications\n",
    "zypper refresh\n",
    "zypper lr\n",
    "zypper --no-gpg-checks install -y --allow-downgrade \\\n",
    "squashfs xfsprogs sudo socat wget \\\n",
    "python-devel \\\n",
    "libffi-devel \\\n",
    "python2-appdirs \\\n",
    "python2-packaging \\\n",
    "python2-pyparsing \\\n",
    "python2-setuptools \\\n",
    "python2-six \\\n",
    "python2-pip \\\n",
    "python2-MarkupSafe \\\n",
    "python2-urllib3 \\\n",
    "python2-chardet \\\n",
    "python2-idna \\\n",
    "python2-certifi \\\n",
    "python2-requests \\\n",
    "python2-pycparser \\\n",
    "python2-asn1crypto \\\n",
    "python2-cffi \\\n",
    "python2-bcrypt \\\n",
    "python2-ipaddress \\\n",
    "python2-enum34 \\\n",
    "python2-cryptography \\\n",
    "python2-Jinja2 \\\n",
    "python2-asn1crypto \\\n",
    "python2-PyNaCl \\\n",
    "python2-paramiko \\\n",
    "python2-pycparser\n",
    "\n",
    "easy_install --allow-hosts=10.2.0.1:8888 http://10.2.0.1:8888/blob/shasta-cd-repo/bloblets/shasta-general/ck8s-artifacts/pip/sle15/ansible-2.7.9.tar.gz\n",
    "easy_install --allow-hosts=10.2.0.1:8888 http://10.2.0.1:8888/blob/shasta-cd-repo/bloblets/shasta-general/ck8s-artifacts/pip/sle15/netaddr-0.7.19.tar.gz\n",
    "\n",
    "zypper --non-interactive --no-gpg-checks install \\\n",
    "http://10.2.0.1:8888/shasta-cd-repo/bloblets/shasta-general/rpms/cray-sles15-cn/x86_64/singularity-3.2.1-627.gfae33077e.x86_64.rpm \\\n",
    "http://10.2.0.1:8888/shasta-cd-repo/bloblets/os/rpms/sles/15/SLE-Module-Basesystem/x86_64/squashfs-4.3-1.29.x86_64.rpm \\\n",
    "http://10.2.0.1:8888/shasta-cd-repo/bloblets/shasta-general/rpms/cray-sles15-cn/x86_64/docker-cray-addons-18.08-1.x86_64.rpm \\\n",
    "http://10.2.0.1:8888/shasta-cd-repo/bloblets/shasta-general/rpms/cray-sles15-cn/x86_64/docker-ce-18.09-2.el7.x86_64.rpm \\\n",
    "http://10.2.0.1:8888/shasta-cd-repo/bloblets/shasta-general/rpms/cray-sles15-cn/noarch/shasta-kubespray-1.13-4.noarch.rpm\n",
    "\n",
    "mkdir /tmp/releases\n",
    "wget -O /tmp/releases/hyperkube http://10.2.0.1:8888/blob/shasta-cd-repo/ck8s-artifacts/binaries/hyperkube\n",
    "wget -O /tmp/releases/kubeadm http://10.2.0.1:8888/blob/shasta-cd-repo/ck8s-artifacts/binaries/kubeadm\n",
    "exit\n",
    "touch /mnt/image/complete\n",
    "sleep 2\n",
    "exit\n",
    "EOF"
   ]
  },
  {
   "cell_type": "markdown",
   "metadata": {},
   "source": [
    "16. Wait for the image building process to terminate."
   ]
  },
  {
   "cell_type": "code",
   "execution_count": null,
   "metadata": {},
   "outputs": [],
   "source": [
    "kubectl logs -f $pod -c buildenv-sidecar\n",
    "cray ims jobs list\n",
    "cray ims jobs describe ${kubernetes_job_id}\n",
    "cray ims image-artifacts list | grep -n5 ${image_archive_name}\n",
    "if [ $? -eq 0 ]; then\n",
    "   # Found the image, so we can delete the job\n",
    "   cray ims jobs delete ${kubernetes_job_id}\n",
    "fi\n",
    "cray ims image-artifacts list"
   ]
  },
  {
   "cell_type": "markdown",
   "metadata": {},
   "source": [
    "17. Look up the ID of the newly created image."
   ]
  },
  {
   "cell_type": "code",
   "execution_count": null,
   "metadata": {},
   "outputs": [],
   "source": [
    "cray ims jobs list\n",
    "cray ims jobs describe ${kubernetes_job_id}"
   ]
  },
  {
   "cell_type": "markdown",
   "metadata": {},
   "source": [
    "18. Look up the newly created IMS image record using the _IMS_RESULTANT_IMAGE_ID_ value."
   ]
  },
  {
   "cell_type": "code",
   "execution_count": null,
   "metadata": {},
   "outputs": [],
   "source": [
    "ims_resultant_image_id=$(cray ims jobs describe ${kubernetes_job_id} | grep resultant_image_id | awk '{print $3}' | sed \"s/\\\"//g\")\n",
    "echo \"IMS resulatant Image ID:${ims_resultant_image_id}\"\n",
    "cray ims images describe ${ims_resultant_image_id}"
   ]
  },
  {
   "cell_type": "markdown",
   "metadata": {},
   "source": [
    "19. Look up the newly created IMS image artifact records."
   ]
  },
  {
   "cell_type": "code",
   "execution_count": null,
   "metadata": {},
   "outputs": [],
   "source": [
    "cray ims image-artifacts list"
   ]
  },
  {
   "cell_type": "markdown",
   "metadata": {},
   "source": [
    "20. Clean up the image customization environment."
   ]
  },
  {
   "cell_type": "code",
   "execution_count": null,
   "metadata": {},
   "outputs": [],
   "source": [
    "cray ims image-artifacts list | grep -n5 ${image_archive_name}\n",
    "if [ $? -eq 0 ]; then\n",
    "   # Found the image, so we can delete the job\n",
    "   cray ims jobs delete ${kubernetes_job_id}\n",
    "fi\n",
    "cray ims image-artifacts list"
   ]
  }
 ],
 "metadata": {
  "kernelspec": {
   "display_name": "Bash",
   "language": "bash",
   "name": "bash"
  },
  "language_info": {
   "codemirror_mode": "shell",
   "file_extension": ".sh",
   "mimetype": "text/x-sh",
   "name": "bash"
  }
 },
 "nbformat": 4,
 "nbformat_minor": 4
}
