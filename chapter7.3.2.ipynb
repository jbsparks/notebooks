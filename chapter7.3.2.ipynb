{
 "cells": [
  {
   "cell_type": "markdown",
   "metadata": {},
   "source": [
    "# <a name=\"bookmark0\">Modify Compute Image to Install Kubernetes</a>\n",
    "\n",
    "## Prerequisites\n",
    "\n",
    "*   The Cray command line interface (CLI) tool is initialized and configured on the system. See \"Configure the Cray Command Line Interface (CLI)\" in the _Cray Software Preview System Administration Guide_ for more information.\n",
    "\n",
    "*   System management services (SMS) are running in a Kubernetes cluster on non-compute nodes (NCN) and include the following deployments:\n",
    "\n",
    "    *   cray-ars<span class=\"s1\">, the Artifact Repository Service (ARS)</span>\n",
    "\n",
    "    *   cray-ims<span class=\"s1\">, the Image Management Service (IMS)</span>\n",
    "\n",
    "## About this task\n",
    "\n",
    "### LEVEL Level 3 PaaS.\n",
    "\n",
    "### ROLE <span class=\"s1\">System administrator</span>\n",
    "\n",
    "### OBJECTIVE <span class=\"s1\">Use the Image Management Service (IMS) to modify the compute image to install the base software required for Shasta Linux Compute Kubernetes (ck8s) deployments.</span>\n",
    "\n",
    "### LIMITATIONS <span class=\"s1\">None.</span>\n",
    "\n",
    "### NEW IN RELEASE <span class=\"s1\">This entire procedure is new in this release.</span>\n",
    "\n",
    "## Procedure\n",
    "\n",
    "---\n",
    "PREPARE TO CREATE THE IMAGE\n",
    "\n",
    "---\n",
    "\n",
    "[//]: # (Since we are operating in a container and not on the host, we nned to COPY-IN the raw archive)"
   ]
  },
  {
   "cell_type": "markdown",
   "metadata": {},
   "source": [
    "1.  Copy-in the source."
   ]
  },
  {
   "cell_type": "code",
   "execution_count": null,
   "metadata": {},
   "outputs": [],
   "source": [
    "cd /tmp/\n",
    "[ -f sles_15_image.txz ] && rm -f sles_15_image.txz\n",
    "wget http://10.2.0.1:8888/shasta-cd-repo/isos/sles_15_image.txz"
   ]
  },
  {
   "cell_type": "markdown",
   "metadata": {},
   "source": [
    "2.  Extract the image."
   ]
  },
  {
   "cell_type": "code",
   "execution_count": null,
   "metadata": {},
   "outputs": [],
   "source": [
    "[ -d /tmp/my-image-root ] && rm -rf /tmp/my-image-root \n",
    "mkdir -p /tmp/my-image-root && cd /tmp\n",
    "tar xf /tmp/sles_15_image.txz -C /tmp/my-image-root"
   ]
  },
  {
   "cell_type": "markdown",
   "metadata": {},
   "source": [
    "3.  Convert the image to SquashFS."
   ]
  },
  {
   "cell_type": "code",
   "execution_count": null,
   "metadata": {},
   "outputs": [],
   "source": [
    "[ -d my-image-root ] && mksquashfs my-image-root ck8s"
   ]
  },
  {
   "cell_type": "markdown",
   "metadata": {},
   "source": [
    "---\n",
    "UPLOAD SQUASHFS IMAGE ROOT TO ARS\n",
    "\n",
    "---"
   ]
  },
  {
   "cell_type": "markdown",
   "metadata": {},
   "source": [
    "3.  Create an artifact record in ARS for the image root archive."
   ]
  },
  {
   "cell_type": "code",
   "execution_count": null,
   "metadata": {},
   "outputs": [],
   "source": [
    "cray ars artifacts create --atype generic --name ck8s --version 0.1"
   ]
  }
 ],
 "metadata": {
  "kernelspec": {
   "display_name": "Bash",
   "language": "bash",
   "name": "bash"
  },
  "language_info": {
   "codemirror_mode": "shell",
   "file_extension": ".sh",
   "mimetype": "text/x-sh",
   "name": "bash"
  }
 },
 "nbformat": 4,
 "nbformat_minor": 4
}
