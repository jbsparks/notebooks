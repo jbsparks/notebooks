{
 "cells": [
  {
   "cell_type": "code",
   "execution_count": 1,
   "metadata": {},
   "outputs": [],
   "source": [
    "from elasticsearch import Elasticsearch\n",
    "from elasticsearch_dsl import Search, Q\n",
    "from pandasticsearch import Select, DataFrame"
   ]
  },
  {
   "cell_type": "code",
   "execution_count": 2,
   "metadata": {},
   "outputs": [],
   "source": [
    "import pandas as pd\n",
    "import numpy as np\n",
    "import matplotlib.pyplot as plt\n",
    "\n",
    "%matplotlib inline"
   ]
  },
  {
   "cell_type": "markdown",
   "metadata": {},
   "source": [
    "# Notebook - Kabana lookalike"
   ]
  },
  {
   "cell_type": "code",
   "execution_count": 3,
   "metadata": {},
   "outputs": [
    {
     "data": {
      "text/html": [
       "<img src=\"https://i0.wp.com/sisypheanhigh.com/foot/wp-content/uploads/2015/08/sisyphus-red.png\"/>"
      ],
      "text/plain": [
       "<IPython.core.display.Image object>"
      ]
     },
     "execution_count": 3,
     "metadata": {},
     "output_type": "execute_result"
    }
   ],
   "source": [
    "from IPython.display import Image\n",
    "image=\"https://i0.wp.com/sisypheanhigh.com/foot/wp-content/uploads/2015/08/sisyphus-red.png\"\n",
    "Image(url=image)"
   ]
  },
  {
   "cell_type": "code",
   "execution_count": 4,
   "metadata": {},
   "outputs": [],
   "source": [
    "hostname=\"http://noname-sms.us.cray.com:30200\"\n",
    "client =  Elasticsearch(hostname, http_compress=True)"
   ]
  },
  {
   "cell_type": "code",
   "execution_count": 5,
   "metadata": {},
   "outputs": [
    {
     "data": {
      "text/plain": [
       "{'cluster_name': 'elasticsearch',\n",
       " 'status': 'yellow',\n",
       " 'timed_out': False,\n",
       " 'number_of_nodes': 1,\n",
       " 'number_of_data_nodes': 1,\n",
       " 'active_primary_shards': 6,\n",
       " 'active_shards': 6,\n",
       " 'relocating_shards': 0,\n",
       " 'initializing_shards': 0,\n",
       " 'unassigned_shards': 6,\n",
       " 'delayed_unassigned_shards': 0,\n",
       " 'number_of_pending_tasks': 0,\n",
       " 'number_of_in_flight_fetch': 0,\n",
       " 'task_max_waiting_in_queue_millis': 0,\n",
       " 'active_shards_percent_as_number': 50.0}"
      ]
     },
     "execution_count": 5,
     "metadata": {},
     "output_type": "execute_result"
    }
   ],
   "source": [
    "cluster_health=client.cluster.health()\n",
    "cluster_health"
   ]
  },
  {
   "cell_type": "code",
   "execution_count": 6,
   "metadata": {},
   "outputs": [
    {
     "data": {
      "text/plain": [
       "<Elasticsearch([{'host': 'noname-sms.us.cray.com', 'port': 30200}])>"
      ]
     },
     "execution_count": 6,
     "metadata": {},
     "output_type": "execute_result"
    }
   ],
   "source": [
    "client_info=client.info()\n",
    "client"
   ]
  },
  {
   "cell_type": "code",
   "execution_count": null,
   "metadata": {},
   "outputs": [],
   "source": []
  },
  {
   "cell_type": "markdown",
   "metadata": {},
   "source": [
    "## Read the data from elasticsearch\n",
    "\n",
    "__Note:__ We use wildcard on the shasta-logs, so we are pulling from _ALL_ data sources"
   ]
  },
  {
   "cell_type": "code",
   "execution_count": 57,
   "metadata": {},
   "outputs": [],
   "source": [
    "resp = client.search(\n",
    "    index=\"shasta-logs-*\",\n",
    "    body={\n",
    "        \"size\":0,\n",
    "        \"query\": {\n",
    "            \"bool\": {\n",
    "              \"must\": [{\n",
    "                  \"match_all\": {}\n",
    "                },\n",
    "                {\n",
    "                  \"range\": {\n",
    "                    \"timereported\": {\n",
    "                      \"gte\": \"2019-07-29\",\n",
    "                      \"lte\": \"2019-07-29\",\n",
    "                      \"format\": \"yyyy-MM-dd HH:mm:ss||yyyy-MM-dd||epoch_millis\"\n",
    "                }\n",
    "              }\n",
    "            }\n",
    "          ],\n",
    "          \"must_not\": []\n",
    "        }\n",
    "      },\n",
    "        \"_source\":{\n",
    "            \"excludes\":[]\n",
    "        },\n",
    "        \"aggs\": {\n",
    "        \"2\": {\n",
    "          \"date_histogram\": {\n",
    "            \"field\": \"timereported\",\n",
    "            \"interval\": \"30s\",\n",
    "            \"time_zone\": \"America/Chicago\",\n",
    "            \"min_doc_count\": 1\n",
    "          }\n",
    "        }\n",
    "      }\n",
    "    }\n",
    ")"
   ]
  },
  {
   "cell_type": "code",
   "execution_count": 59,
   "metadata": {},
   "outputs": [
    {
     "name": "stdout",
     "output_type": "stream",
     "text": [
      "Number of responses:5942356.\n"
     ]
    }
   ],
   "source": [
    "print(\"Number of responses:%d.\" % resp['hits']['total'])"
   ]
  },
  {
   "cell_type": "code",
   "execution_count": 60,
   "metadata": {},
   "outputs": [],
   "source": [
    "table=resp['aggregations']['2']['buckets']"
   ]
  },
  {
   "cell_type": "code",
   "execution_count": 61,
   "metadata": {},
   "outputs": [
    {
     "data": {
      "text/html": [
       "<div>\n",
       "<style scoped>\n",
       "    .dataframe tbody tr th:only-of-type {\n",
       "        vertical-align: middle;\n",
       "    }\n",
       "\n",
       "    .dataframe tbody tr th {\n",
       "        vertical-align: top;\n",
       "    }\n",
       "\n",
       "    .dataframe thead th {\n",
       "        text-align: right;\n",
       "    }\n",
       "</style>\n",
       "<table border=\"1\" class=\"dataframe\">\n",
       "  <thead>\n",
       "    <tr style=\"text-align: right;\">\n",
       "      <th></th>\n",
       "      <th>key_as_string</th>\n",
       "      <th>doc_count</th>\n",
       "    </tr>\n",
       "  </thead>\n",
       "  <tbody>\n",
       "    <tr>\n",
       "      <th>0</th>\n",
       "      <td>2019-07-29T03:02:30.000-05:00</td>\n",
       "      <td>6</td>\n",
       "    </tr>\n",
       "    <tr>\n",
       "      <th>1</th>\n",
       "      <td>2019-07-29T03:03:00.000-05:00</td>\n",
       "      <td>752</td>\n",
       "    </tr>\n",
       "    <tr>\n",
       "      <th>2</th>\n",
       "      <td>2019-07-29T03:03:30.000-05:00</td>\n",
       "      <td>207</td>\n",
       "    </tr>\n",
       "    <tr>\n",
       "      <th>3</th>\n",
       "      <td>2019-07-29T03:04:00.000-05:00</td>\n",
       "      <td>27</td>\n",
       "    </tr>\n",
       "    <tr>\n",
       "      <th>4</th>\n",
       "      <td>2019-07-29T03:04:30.000-05:00</td>\n",
       "      <td>578</td>\n",
       "    </tr>\n",
       "  </tbody>\n",
       "</table>\n",
       "</div>"
      ],
      "text/plain": [
       "                   key_as_string  doc_count\n",
       "0  2019-07-29T03:02:30.000-05:00          6\n",
       "1  2019-07-29T03:03:00.000-05:00        752\n",
       "2  2019-07-29T03:03:30.000-05:00        207\n",
       "3  2019-07-29T03:04:00.000-05:00         27\n",
       "4  2019-07-29T03:04:30.000-05:00        578"
      ]
     },
     "execution_count": 61,
     "metadata": {},
     "output_type": "execute_result"
    }
   ],
   "source": [
    "pd_table=pd.DataFrame.from_dict(table)\n",
    "pd_table.drop(columns=\"key\", inplace=True)\n",
    "#pd_table.drop(columns=\"key_as_string\", inplace=True)\n",
    "pd_table.head(5)"
   ]
  },
  {
   "cell_type": "markdown",
   "metadata": {},
   "source": [
    "Generate some statistical report on the message counts."
   ]
  },
  {
   "cell_type": "code",
   "execution_count": 62,
   "metadata": {},
   "outputs": [
    {
     "data": {
      "text/plain": [
       "count     1842.000000\n",
       "mean      3226.034745\n",
       "std       2407.366949\n",
       "min          6.000000\n",
       "25%       1680.250000\n",
       "50%       2293.500000\n",
       "75%       4727.250000\n",
       "max      30955.000000\n",
       "Name: doc_count, dtype: float64"
      ]
     },
     "execution_count": 62,
     "metadata": {},
     "output_type": "execute_result"
    }
   ],
   "source": [
    "pd_table['doc_count'].describe()"
   ]
  },
  {
   "cell_type": "code",
   "execution_count": 63,
   "metadata": {},
   "outputs": [],
   "source": [
    "#pd_table.columns"
   ]
  },
  {
   "cell_type": "code",
   "execution_count": 64,
   "metadata": {},
   "outputs": [],
   "source": [
    "#pd_table.shape"
   ]
  },
  {
   "cell_type": "code",
   "execution_count": 65,
   "metadata": {},
   "outputs": [],
   "source": [
    "#pd_table.hist(column='doc_count', color='#86bf91',grid=False,bins=100)"
   ]
  },
  {
   "cell_type": "code",
   "execution_count": 66,
   "metadata": {},
   "outputs": [],
   "source": [
    "# Bokeh libraries\n",
    "from bokeh.io import output_file, output_notebook\n",
    "from bokeh.plotting import figure, show\n",
    "from bokeh.models import ColumnDataSource\n",
    "from bokeh.layouts import row, column, gridplot\n",
    "from bokeh.models.widgets import Tabs, Panel\n",
    "from bokeh.models.tools import HoverTool\n",
    "from bokeh.models import DatetimeTickFormatter\n",
    "from math import pi"
   ]
  },
  {
   "cell_type": "code",
   "execution_count": 67,
   "metadata": {},
   "outputs": [
    {
     "data": {
      "text/html": [
       "\n",
       "    <div class=\"bk-root\">\n",
       "        <a href=\"https://bokeh.pydata.org\" target=\"_blank\" class=\"bk-logo bk-logo-small bk-logo-notebook\"></a>\n",
       "        <span id=\"2087\">Loading BokehJS ...</span>\n",
       "    </div>"
      ]
     },
     "metadata": {},
     "output_type": "display_data"
    },
    {
     "data": {
      "application/javascript": [
       "\n",
       "(function(root) {\n",
       "  function now() {\n",
       "    return new Date();\n",
       "  }\n",
       "\n",
       "  var force = true;\n",
       "\n",
       "  if (typeof root._bokeh_onload_callbacks === \"undefined\" || force === true) {\n",
       "    root._bokeh_onload_callbacks = [];\n",
       "    root._bokeh_is_loading = undefined;\n",
       "  }\n",
       "\n",
       "  var JS_MIME_TYPE = 'application/javascript';\n",
       "  var HTML_MIME_TYPE = 'text/html';\n",
       "  var EXEC_MIME_TYPE = 'application/vnd.bokehjs_exec.v0+json';\n",
       "  var CLASS_NAME = 'output_bokeh rendered_html';\n",
       "\n",
       "  /**\n",
       "   * Render data to the DOM node\n",
       "   */\n",
       "  function render(props, node) {\n",
       "    var script = document.createElement(\"script\");\n",
       "    node.appendChild(script);\n",
       "  }\n",
       "\n",
       "  /**\n",
       "   * Handle when an output is cleared or removed\n",
       "   */\n",
       "  function handleClearOutput(event, handle) {\n",
       "    var cell = handle.cell;\n",
       "\n",
       "    var id = cell.output_area._bokeh_element_id;\n",
       "    var server_id = cell.output_area._bokeh_server_id;\n",
       "    // Clean up Bokeh references\n",
       "    if (id != null && id in Bokeh.index) {\n",
       "      Bokeh.index[id].model.document.clear();\n",
       "      delete Bokeh.index[id];\n",
       "    }\n",
       "\n",
       "    if (server_id !== undefined) {\n",
       "      // Clean up Bokeh references\n",
       "      var cmd = \"from bokeh.io.state import curstate; print(curstate().uuid_to_server['\" + server_id + \"'].get_sessions()[0].document.roots[0]._id)\";\n",
       "      cell.notebook.kernel.execute(cmd, {\n",
       "        iopub: {\n",
       "          output: function(msg) {\n",
       "            var id = msg.content.text.trim();\n",
       "            if (id in Bokeh.index) {\n",
       "              Bokeh.index[id].model.document.clear();\n",
       "              delete Bokeh.index[id];\n",
       "            }\n",
       "          }\n",
       "        }\n",
       "      });\n",
       "      // Destroy server and session\n",
       "      var cmd = \"import bokeh.io.notebook as ion; ion.destroy_server('\" + server_id + \"')\";\n",
       "      cell.notebook.kernel.execute(cmd);\n",
       "    }\n",
       "  }\n",
       "\n",
       "  /**\n",
       "   * Handle when a new output is added\n",
       "   */\n",
       "  function handleAddOutput(event, handle) {\n",
       "    var output_area = handle.output_area;\n",
       "    var output = handle.output;\n",
       "\n",
       "    // limit handleAddOutput to display_data with EXEC_MIME_TYPE content only\n",
       "    if ((output.output_type != \"display_data\") || (!output.data.hasOwnProperty(EXEC_MIME_TYPE))) {\n",
       "      return\n",
       "    }\n",
       "\n",
       "    var toinsert = output_area.element.find(\".\" + CLASS_NAME.split(' ')[0]);\n",
       "\n",
       "    if (output.metadata[EXEC_MIME_TYPE][\"id\"] !== undefined) {\n",
       "      toinsert[toinsert.length - 1].firstChild.textContent = output.data[JS_MIME_TYPE];\n",
       "      // store reference to embed id on output_area\n",
       "      output_area._bokeh_element_id = output.metadata[EXEC_MIME_TYPE][\"id\"];\n",
       "    }\n",
       "    if (output.metadata[EXEC_MIME_TYPE][\"server_id\"] !== undefined) {\n",
       "      var bk_div = document.createElement(\"div\");\n",
       "      bk_div.innerHTML = output.data[HTML_MIME_TYPE];\n",
       "      var script_attrs = bk_div.children[0].attributes;\n",
       "      for (var i = 0; i < script_attrs.length; i++) {\n",
       "        toinsert[toinsert.length - 1].firstChild.setAttribute(script_attrs[i].name, script_attrs[i].value);\n",
       "      }\n",
       "      // store reference to server id on output_area\n",
       "      output_area._bokeh_server_id = output.metadata[EXEC_MIME_TYPE][\"server_id\"];\n",
       "    }\n",
       "  }\n",
       "\n",
       "  function register_renderer(events, OutputArea) {\n",
       "\n",
       "    function append_mime(data, metadata, element) {\n",
       "      // create a DOM node to render to\n",
       "      var toinsert = this.create_output_subarea(\n",
       "        metadata,\n",
       "        CLASS_NAME,\n",
       "        EXEC_MIME_TYPE\n",
       "      );\n",
       "      this.keyboard_manager.register_events(toinsert);\n",
       "      // Render to node\n",
       "      var props = {data: data, metadata: metadata[EXEC_MIME_TYPE]};\n",
       "      render(props, toinsert[toinsert.length - 1]);\n",
       "      element.append(toinsert);\n",
       "      return toinsert\n",
       "    }\n",
       "\n",
       "    /* Handle when an output is cleared or removed */\n",
       "    events.on('clear_output.CodeCell', handleClearOutput);\n",
       "    events.on('delete.Cell', handleClearOutput);\n",
       "\n",
       "    /* Handle when a new output is added */\n",
       "    events.on('output_added.OutputArea', handleAddOutput);\n",
       "\n",
       "    /**\n",
       "     * Register the mime type and append_mime function with output_area\n",
       "     */\n",
       "    OutputArea.prototype.register_mime_type(EXEC_MIME_TYPE, append_mime, {\n",
       "      /* Is output safe? */\n",
       "      safe: true,\n",
       "      /* Index of renderer in `output_area.display_order` */\n",
       "      index: 0\n",
       "    });\n",
       "  }\n",
       "\n",
       "  // register the mime type if in Jupyter Notebook environment and previously unregistered\n",
       "  if (root.Jupyter !== undefined) {\n",
       "    var events = require('base/js/events');\n",
       "    var OutputArea = require('notebook/js/outputarea').OutputArea;\n",
       "\n",
       "    if (OutputArea.prototype.mime_types().indexOf(EXEC_MIME_TYPE) == -1) {\n",
       "      register_renderer(events, OutputArea);\n",
       "    }\n",
       "  }\n",
       "\n",
       "  \n",
       "  if (typeof (root._bokeh_timeout) === \"undefined\" || force === true) {\n",
       "    root._bokeh_timeout = Date.now() + 5000;\n",
       "    root._bokeh_failed_load = false;\n",
       "  }\n",
       "\n",
       "  var NB_LOAD_WARNING = {'data': {'text/html':\n",
       "     \"<div style='background-color: #fdd'>\\n\"+\n",
       "     \"<p>\\n\"+\n",
       "     \"BokehJS does not appear to have successfully loaded. If loading BokehJS from CDN, this \\n\"+\n",
       "     \"may be due to a slow or bad network connection. Possible fixes:\\n\"+\n",
       "     \"</p>\\n\"+\n",
       "     \"<ul>\\n\"+\n",
       "     \"<li>re-rerun `output_notebook()` to attempt to load from CDN again, or</li>\\n\"+\n",
       "     \"<li>use INLINE resources instead, as so:</li>\\n\"+\n",
       "     \"</ul>\\n\"+\n",
       "     \"<code>\\n\"+\n",
       "     \"from bokeh.resources import INLINE\\n\"+\n",
       "     \"output_notebook(resources=INLINE)\\n\"+\n",
       "     \"</code>\\n\"+\n",
       "     \"</div>\"}};\n",
       "\n",
       "  function display_loaded() {\n",
       "    var el = document.getElementById(\"2087\");\n",
       "    if (el != null) {\n",
       "      el.textContent = \"BokehJS is loading...\";\n",
       "    }\n",
       "    if (root.Bokeh !== undefined) {\n",
       "      if (el != null) {\n",
       "        el.textContent = \"BokehJS \" + root.Bokeh.version + \" successfully loaded.\";\n",
       "      }\n",
       "    } else if (Date.now() < root._bokeh_timeout) {\n",
       "      setTimeout(display_loaded, 100)\n",
       "    }\n",
       "  }\n",
       "\n",
       "\n",
       "  function run_callbacks() {\n",
       "    try {\n",
       "      root._bokeh_onload_callbacks.forEach(function(callback) {\n",
       "        if (callback != null)\n",
       "          callback();\n",
       "      });\n",
       "    } finally {\n",
       "      delete root._bokeh_onload_callbacks\n",
       "    }\n",
       "    console.debug(\"Bokeh: all callbacks have finished\");\n",
       "  }\n",
       "\n",
       "  function load_libs(css_urls, js_urls, callback) {\n",
       "    if (css_urls == null) css_urls = [];\n",
       "    if (js_urls == null) js_urls = [];\n",
       "\n",
       "    root._bokeh_onload_callbacks.push(callback);\n",
       "    if (root._bokeh_is_loading > 0) {\n",
       "      console.debug(\"Bokeh: BokehJS is being loaded, scheduling callback at\", now());\n",
       "      return null;\n",
       "    }\n",
       "    if (js_urls == null || js_urls.length === 0) {\n",
       "      run_callbacks();\n",
       "      return null;\n",
       "    }\n",
       "    console.debug(\"Bokeh: BokehJS not loaded, scheduling load and callback at\", now());\n",
       "    root._bokeh_is_loading = css_urls.length + js_urls.length;\n",
       "\n",
       "    function on_load() {\n",
       "      root._bokeh_is_loading--;\n",
       "      if (root._bokeh_is_loading === 0) {\n",
       "        console.debug(\"Bokeh: all BokehJS libraries/stylesheets loaded\");\n",
       "        run_callbacks()\n",
       "      }\n",
       "    }\n",
       "\n",
       "    function on_error() {\n",
       "      console.error(\"failed to load \" + url);\n",
       "    }\n",
       "\n",
       "    for (var i = 0; i < css_urls.length; i++) {\n",
       "      var url = css_urls[i];\n",
       "      const element = document.createElement(\"link\");\n",
       "      element.onload = on_load;\n",
       "      element.onerror = on_error;\n",
       "      element.rel = \"stylesheet\";\n",
       "      element.type = \"text/css\";\n",
       "      element.href = url;\n",
       "      console.debug(\"Bokeh: injecting link tag for BokehJS stylesheet: \", url);\n",
       "      document.body.appendChild(element);\n",
       "    }\n",
       "\n",
       "    for (var i = 0; i < js_urls.length; i++) {\n",
       "      var url = js_urls[i];\n",
       "      var element = document.createElement('script');\n",
       "      element.onload = on_load;\n",
       "      element.onerror = on_error;\n",
       "      element.async = false;\n",
       "      element.src = url;\n",
       "      console.debug(\"Bokeh: injecting script tag for BokehJS library: \", url);\n",
       "      document.head.appendChild(element);\n",
       "    }\n",
       "  };var element = document.getElementById(\"2087\");\n",
       "  if (element == null) {\n",
       "    console.error(\"Bokeh: ERROR: autoload.js configured with elementid '2087' but no matching script tag was found. \")\n",
       "    return false;\n",
       "  }\n",
       "\n",
       "  function inject_raw_css(css) {\n",
       "    const element = document.createElement(\"style\");\n",
       "    element.appendChild(document.createTextNode(css));\n",
       "    document.body.appendChild(element);\n",
       "  }\n",
       "\n",
       "  var js_urls = [\"https://cdn.pydata.org/bokeh/release/bokeh-1.2.0.min.js\", \"https://cdn.pydata.org/bokeh/release/bokeh-widgets-1.2.0.min.js\", \"https://cdn.pydata.org/bokeh/release/bokeh-tables-1.2.0.min.js\", \"https://cdn.pydata.org/bokeh/release/bokeh-gl-1.2.0.min.js\"];\n",
       "  var css_urls = [\"https://cdn.pydata.org/bokeh/release/bokeh-1.2.0.min.css\", \"https://cdn.pydata.org/bokeh/release/bokeh-widgets-1.2.0.min.css\", \"https://cdn.pydata.org/bokeh/release/bokeh-tables-1.2.0.min.css\"];\n",
       "\n",
       "  var inline_js = [\n",
       "    function(Bokeh) {\n",
       "      Bokeh.set_log_level(\"info\");\n",
       "    },\n",
       "    \n",
       "    function(Bokeh) {\n",
       "      \n",
       "    },\n",
       "    function(Bokeh) {} // ensure no trailing comma for IE\n",
       "  ];\n",
       "\n",
       "  function run_inline_js() {\n",
       "    \n",
       "    if ((root.Bokeh !== undefined) || (force === true)) {\n",
       "      for (var i = 0; i < inline_js.length; i++) {\n",
       "        inline_js[i].call(root, root.Bokeh);\n",
       "      }if (force === true) {\n",
       "        display_loaded();\n",
       "      }} else if (Date.now() < root._bokeh_timeout) {\n",
       "      setTimeout(run_inline_js, 100);\n",
       "    } else if (!root._bokeh_failed_load) {\n",
       "      console.log(\"Bokeh: BokehJS failed to load within specified timeout.\");\n",
       "      root._bokeh_failed_load = true;\n",
       "    } else if (force !== true) {\n",
       "      var cell = $(document.getElementById(\"2087\")).parents('.cell').data().cell;\n",
       "      cell.output_area.append_execute_result(NB_LOAD_WARNING)\n",
       "    }\n",
       "\n",
       "  }\n",
       "\n",
       "  if (root._bokeh_is_loading === 0) {\n",
       "    console.debug(\"Bokeh: BokehJS loaded, going straight to plotting\");\n",
       "    run_inline_js();\n",
       "  } else {\n",
       "    load_libs(css_urls, js_urls, function() {\n",
       "      console.debug(\"Bokeh: BokehJS plotting callback run at\", now());\n",
       "      run_inline_js();\n",
       "    });\n",
       "  }\n",
       "}(window));"
      ],
      "application/vnd.bokehjs_load.v0+json": "\n(function(root) {\n  function now() {\n    return new Date();\n  }\n\n  var force = true;\n\n  if (typeof root._bokeh_onload_callbacks === \"undefined\" || force === true) {\n    root._bokeh_onload_callbacks = [];\n    root._bokeh_is_loading = undefined;\n  }\n\n  \n\n  \n  if (typeof (root._bokeh_timeout) === \"undefined\" || force === true) {\n    root._bokeh_timeout = Date.now() + 5000;\n    root._bokeh_failed_load = false;\n  }\n\n  var NB_LOAD_WARNING = {'data': {'text/html':\n     \"<div style='background-color: #fdd'>\\n\"+\n     \"<p>\\n\"+\n     \"BokehJS does not appear to have successfully loaded. If loading BokehJS from CDN, this \\n\"+\n     \"may be due to a slow or bad network connection. Possible fixes:\\n\"+\n     \"</p>\\n\"+\n     \"<ul>\\n\"+\n     \"<li>re-rerun `output_notebook()` to attempt to load from CDN again, or</li>\\n\"+\n     \"<li>use INLINE resources instead, as so:</li>\\n\"+\n     \"</ul>\\n\"+\n     \"<code>\\n\"+\n     \"from bokeh.resources import INLINE\\n\"+\n     \"output_notebook(resources=INLINE)\\n\"+\n     \"</code>\\n\"+\n     \"</div>\"}};\n\n  function display_loaded() {\n    var el = document.getElementById(\"2087\");\n    if (el != null) {\n      el.textContent = \"BokehJS is loading...\";\n    }\n    if (root.Bokeh !== undefined) {\n      if (el != null) {\n        el.textContent = \"BokehJS \" + root.Bokeh.version + \" successfully loaded.\";\n      }\n    } else if (Date.now() < root._bokeh_timeout) {\n      setTimeout(display_loaded, 100)\n    }\n  }\n\n\n  function run_callbacks() {\n    try {\n      root._bokeh_onload_callbacks.forEach(function(callback) {\n        if (callback != null)\n          callback();\n      });\n    } finally {\n      delete root._bokeh_onload_callbacks\n    }\n    console.debug(\"Bokeh: all callbacks have finished\");\n  }\n\n  function load_libs(css_urls, js_urls, callback) {\n    if (css_urls == null) css_urls = [];\n    if (js_urls == null) js_urls = [];\n\n    root._bokeh_onload_callbacks.push(callback);\n    if (root._bokeh_is_loading > 0) {\n      console.debug(\"Bokeh: BokehJS is being loaded, scheduling callback at\", now());\n      return null;\n    }\n    if (js_urls == null || js_urls.length === 0) {\n      run_callbacks();\n      return null;\n    }\n    console.debug(\"Bokeh: BokehJS not loaded, scheduling load and callback at\", now());\n    root._bokeh_is_loading = css_urls.length + js_urls.length;\n\n    function on_load() {\n      root._bokeh_is_loading--;\n      if (root._bokeh_is_loading === 0) {\n        console.debug(\"Bokeh: all BokehJS libraries/stylesheets loaded\");\n        run_callbacks()\n      }\n    }\n\n    function on_error() {\n      console.error(\"failed to load \" + url);\n    }\n\n    for (var i = 0; i < css_urls.length; i++) {\n      var url = css_urls[i];\n      const element = document.createElement(\"link\");\n      element.onload = on_load;\n      element.onerror = on_error;\n      element.rel = \"stylesheet\";\n      element.type = \"text/css\";\n      element.href = url;\n      console.debug(\"Bokeh: injecting link tag for BokehJS stylesheet: \", url);\n      document.body.appendChild(element);\n    }\n\n    for (var i = 0; i < js_urls.length; i++) {\n      var url = js_urls[i];\n      var element = document.createElement('script');\n      element.onload = on_load;\n      element.onerror = on_error;\n      element.async = false;\n      element.src = url;\n      console.debug(\"Bokeh: injecting script tag for BokehJS library: \", url);\n      document.head.appendChild(element);\n    }\n  };var element = document.getElementById(\"2087\");\n  if (element == null) {\n    console.error(\"Bokeh: ERROR: autoload.js configured with elementid '2087' but no matching script tag was found. \")\n    return false;\n  }\n\n  function inject_raw_css(css) {\n    const element = document.createElement(\"style\");\n    element.appendChild(document.createTextNode(css));\n    document.body.appendChild(element);\n  }\n\n  var js_urls = [\"https://cdn.pydata.org/bokeh/release/bokeh-1.2.0.min.js\", \"https://cdn.pydata.org/bokeh/release/bokeh-widgets-1.2.0.min.js\", \"https://cdn.pydata.org/bokeh/release/bokeh-tables-1.2.0.min.js\", \"https://cdn.pydata.org/bokeh/release/bokeh-gl-1.2.0.min.js\"];\n  var css_urls = [\"https://cdn.pydata.org/bokeh/release/bokeh-1.2.0.min.css\", \"https://cdn.pydata.org/bokeh/release/bokeh-widgets-1.2.0.min.css\", \"https://cdn.pydata.org/bokeh/release/bokeh-tables-1.2.0.min.css\"];\n\n  var inline_js = [\n    function(Bokeh) {\n      Bokeh.set_log_level(\"info\");\n    },\n    \n    function(Bokeh) {\n      \n    },\n    function(Bokeh) {} // ensure no trailing comma for IE\n  ];\n\n  function run_inline_js() {\n    \n    if ((root.Bokeh !== undefined) || (force === true)) {\n      for (var i = 0; i < inline_js.length; i++) {\n        inline_js[i].call(root, root.Bokeh);\n      }if (force === true) {\n        display_loaded();\n      }} else if (Date.now() < root._bokeh_timeout) {\n      setTimeout(run_inline_js, 100);\n    } else if (!root._bokeh_failed_load) {\n      console.log(\"Bokeh: BokehJS failed to load within specified timeout.\");\n      root._bokeh_failed_load = true;\n    } else if (force !== true) {\n      var cell = $(document.getElementById(\"2087\")).parents('.cell').data().cell;\n      cell.output_area.append_execute_result(NB_LOAD_WARNING)\n    }\n\n  }\n\n  if (root._bokeh_is_loading === 0) {\n    console.debug(\"Bokeh: BokehJS loaded, going straight to plotting\");\n    run_inline_js();\n  } else {\n    load_libs(css_urls, js_urls, function() {\n      console.debug(\"Bokeh: BokehJS plotting callback run at\", now());\n      run_inline_js();\n    });\n  }\n}(window));"
     },
     "metadata": {},
     "output_type": "display_data"
    }
   ],
   "source": [
    "output_notebook()  # Render inline in a Jupyter Notebook"
   ]
  },
  {
   "cell_type": "code",
   "execution_count": 68,
   "metadata": {},
   "outputs": [],
   "source": [
    "#print(pd_table.head())\n",
    "pd_table['key_as_string']=pd.to_datetime(pd_table['key_as_string'].astype(str), format='%Y-%m-%dT%H:%M:%S.%f%z')\n",
    "#print(pd_table.head())"
   ]
  },
  {
   "cell_type": "code",
   "execution_count": 69,
   "metadata": {},
   "outputs": [
    {
     "name": "stdout",
     "output_type": "stream",
     "text": [
      "Number of entries: 1842.\n"
     ]
    }
   ],
   "source": [
    "count=pd_table['doc_count'].count()\n",
    "print(\"Number of entries: %d.\" % count)"
   ]
  },
  {
   "cell_type": "code",
   "execution_count": 70,
   "metadata": {},
   "outputs": [],
   "source": [
    "if ( count > 100 ):\n",
    "   sample = pd_table.sample(100)\n",
    "else:\n",
    "   sample = pd_table.sample(count)\n",
    "\n",
    "X=sample['key_as_string'].tolist()\n",
    "Y=sample['doc_count'].tolist()"
   ]
  },
  {
   "cell_type": "code",
   "execution_count": 85,
   "metadata": {},
   "outputs": [
    {
     "data": {
      "text/html": [
       "\n",
       "\n",
       "\n",
       "\n",
       "\n",
       "\n",
       "  <div class=\"bk-root\" id=\"093b41b2-8959-4b78-b1f3-42bd82229517\" data-root-id=\"5758\"></div>\n"
      ]
     },
     "metadata": {},
     "output_type": "display_data"
    },
    {
     "data": {
      "application/javascript": [
       "(function(root) {\n",
       "  function embed_document(root) {\n",
       "    \n",
       "  var docs_json = {\"fd4209a2-16af-40bc-959e-5c819eecbba7\":{\"roots\":{\"references\":[{\"attributes\":{\"background_fill_color\":{\"value\":\"#f5f5f5\"},\"below\":[{\"id\":\"5767\",\"type\":\"DatetimeAxis\"}],\"center\":[{\"id\":\"5771\",\"type\":\"Grid\"},{\"id\":\"5776\",\"type\":\"Grid\"}],\"left\":[{\"id\":\"5772\",\"type\":\"LinearAxis\"}],\"plot_height\":400,\"plot_width\":1200,\"renderers\":[{\"id\":\"5794\",\"type\":\"GlyphRenderer\"}],\"title\":{\"id\":\"5796\",\"type\":\"Title\"},\"toolbar\":{\"id\":\"5783\",\"type\":\"Toolbar\"},\"x_range\":{\"id\":\"5759\",\"type\":\"DataRange1d\"},\"x_scale\":{\"id\":\"5763\",\"type\":\"LinearScale\"},\"y_range\":{\"id\":\"5761\",\"type\":\"DataRange1d\"},\"y_scale\":{\"id\":\"5765\",\"type\":\"LinearScale\"}},\"id\":\"5758\",\"subtype\":\"Figure\",\"type\":\"Plot\"},{\"attributes\":{},\"id\":\"6106\",\"type\":\"YearsTicker\"},{\"attributes\":{},\"id\":\"5780\",\"type\":\"SaveTool\"},{\"attributes\":{},\"id\":\"6094\",\"type\":\"UnionRenderers\"},{\"attributes\":{\"callback\":null},\"id\":\"5759\",\"type\":\"DataRange1d\"},{\"attributes\":{},\"id\":\"5781\",\"type\":\"ResetTool\"},{\"attributes\":{},\"id\":\"5782\",\"type\":\"HelpTool\"},{\"attributes\":{\"active_drag\":\"auto\",\"active_inspect\":\"auto\",\"active_multi\":null,\"active_scroll\":\"auto\",\"active_tap\":\"auto\",\"tools\":[{\"id\":\"5777\",\"type\":\"PanTool\"},{\"id\":\"5778\",\"type\":\"WheelZoomTool\"},{\"id\":\"5779\",\"type\":\"BoxZoomTool\"},{\"id\":\"5780\",\"type\":\"SaveTool\"},{\"id\":\"5781\",\"type\":\"ResetTool\"},{\"id\":\"5782\",\"type\":\"HelpTool\"},{\"id\":\"5799\",\"type\":\"HoverTool\"}]},\"id\":\"5783\",\"type\":\"Toolbar\"},{\"attributes\":{\"callback\":null,\"data\":{\"count\":[2923,2100,5460,1422,2873,2211,5604,5445,2863,186,2151,2341,1834,3801,2899,1759,5676,5324,4739,2027,4655,5781,2153,1627,1462,4175,3091,2264,5598,5606,1335,1369,360,3055,5716,2079,4780,3097,2108,2832,3342,5802,1386,4634,5459,1752,5664,5186,3027,1314,5774,5819,2803,1627,1989,2506,14428,5531,2020,1422,3454,5790,2938,4235,4888,1305,3415,1381,1664,2064,3132,1739,2447,5513,1809,1631,3092,5491,1998,4149,1501,2372,1622,1472,4784,4113,3543,1864,5508,1844,4671,5501,4487,6802,5559,2073,4313,2087,1393,3077],\"datetime\":[1564405680000.0,1564423410000.0,1564396830000.0,1564442220000.0,1564388070000.0,1564424130000.0,1564394850000.0,1564399020000.0,1564406100000.0,1564387620000.0,1564422900000.0,1564416720000.0,1564430160000.0,1564405530000.0,1564411800000.0,1564431660000.0,1564397370000.0,1564399500000.0,1564401630000.0,1564431030000.0,1564403010000.0,1564398990000.0,1564420050000.0,1564426320000.0,1564437060000.0,1564419060000.0,1564418730000.0,1564424760000.0,1564396650000.0,1564392300000.0,1564442250000.0,1564441500000.0,1564387860000.0,1564406880000.0,1564397730000.0,1564411440000.0,1564403700000.0,1564407060000.0,1564411230000.0,1564407900000.0,1564412730000.0,1564393440000.0,1564439280000.0,1564403640000.0,1564393320000.0,1564426590000.0,1564395990000.0,1564390350000.0,1564406190000.0,1564432920000.0,1564390650000.0,1564396260000.0,1564418370000.0,1564425900000.0,1564410510000.0,1564412130000.0,1564389630000.0,1564399860000.0,1564421340000.0,1564432470000.0,1564424340000.0,1564395210000.0,1564408110000.0,1564405380000.0,1564392720000.0,1564441530000.0,1564404900000.0,1564440150000.0,1564427580000.0,1564410780000.0,1564408440000.0,1564441020000.0,1564410120000.0,1564400160000.0,1564436730000.0,1564428510000.0,1564406730000.0,1564395060000.0,1564421850000.0,1564419150000.0,1564432080000.0,1564415760000.0,1564425720000.0,1564441770000.0,1564401420000.0,1564390410000.0,1564407810000.0,1564425570000.0,1564398000000.0,1564431120000.0,1564403250000.0,1564396800000.0,1564404450000.0,1564389060000.0,1564395930000.0,1564415850000.0,1564410030000.0,1564421520000.0,1564441710000.0,1564408890000.0]},\"selected\":{\"id\":\"6093\",\"type\":\"Selection\"},\"selection_policy\":{\"id\":\"6094\",\"type\":\"UnionRenderers\"}},\"id\":\"5790\",\"type\":\"ColumnDataSource\"},{\"attributes\":{\"overlay\":{\"id\":\"6092\",\"type\":\"BoxAnnotation\"}},\"id\":\"5779\",\"type\":\"BoxZoomTool\"},{\"attributes\":{\"base\":60,\"mantissas\":[1,2,5,10,15,20,30],\"max_interval\":1800000.0,\"min_interval\":1000.0,\"num_minor_ticks\":0},\"id\":\"6096\",\"type\":\"AdaptiveTicker\"},{\"attributes\":{\"data_source\":{\"id\":\"5790\",\"type\":\"ColumnDataSource\"},\"glyph\":{\"id\":\"5792\",\"type\":\"Circle\"},\"hover_glyph\":null,\"muted_glyph\":null,\"nonselection_glyph\":{\"id\":\"5793\",\"type\":\"Circle\"},\"selection_glyph\":null,\"view\":{\"id\":\"5795\",\"type\":\"CDSView\"}},\"id\":\"5794\",\"type\":\"GlyphRenderer\"},{\"attributes\":{\"source\":{\"id\":\"5790\",\"type\":\"ColumnDataSource\"}},\"id\":\"5795\",\"type\":\"CDSView\"},{\"attributes\":{\"days\":[\"%d %B %Y\"],\"hours\":[\"%d %B %Y\"],\"months\":[\"%d %B %Y\"],\"years\":[\"%d %B %Y\"]},\"id\":\"5797\",\"type\":\"DatetimeTickFormatter\"},{\"attributes\":{\"callback\":null,\"formatters\":{\"count\":\"printf\",\"datetime\":\"datetime\"},\"mode\":\"vline\",\"tooltips\":[[\"Count\",\"@count{%d}\"],[\"timereported per 30 seconds\",\"@datetime{%Y-%m-%d %H:%M:%S.%3N}\"]]},\"id\":\"5799\",\"type\":\"HoverTool\"},{\"attributes\":{\"days\":[1,2,3,4,5,6,7,8,9,10,11,12,13,14,15,16,17,18,19,20,21,22,23,24,25,26,27,28,29,30,31]},\"id\":\"6098\",\"type\":\"DaysTicker\"},{\"attributes\":{},\"id\":\"5778\",\"type\":\"WheelZoomTool\"},{\"attributes\":{\"fill_alpha\":{\"value\":0.1},\"fill_color\":{\"value\":\"#1f77b4\"},\"line_alpha\":{\"value\":0.1},\"line_color\":{\"value\":\"#1f77b4\"},\"size\":{\"units\":\"screen\",\"value\":5},\"x\":{\"field\":\"datetime\"},\"y\":{\"field\":\"count\"}},\"id\":\"5793\",\"type\":\"Circle\"},{\"attributes\":{\"dimension\":1,\"grid_line_color\":\"white\",\"ticker\":{\"id\":\"5773\",\"type\":\"BasicTicker\"}},\"id\":\"5776\",\"type\":\"Grid\"},{\"attributes\":{\"bottom_units\":\"screen\",\"fill_alpha\":{\"value\":0.5},\"fill_color\":{\"value\":\"lightgrey\"},\"left_units\":\"screen\",\"level\":\"overlay\",\"line_alpha\":{\"value\":1.0},\"line_color\":{\"value\":\"black\"},\"line_dash\":[4,4],\"line_width\":{\"value\":2},\"render_mode\":\"css\",\"right_units\":\"screen\",\"top_units\":\"screen\"},\"id\":\"6092\",\"type\":\"BoxAnnotation\"},{\"attributes\":{},\"id\":\"5777\",\"type\":\"PanTool\"},{\"attributes\":{},\"id\":\"5773\",\"type\":\"BasicTicker\"},{\"attributes\":{\"days\":[1,4,7,10,13,16,19,22,25,28]},\"id\":\"6099\",\"type\":\"DaysTicker\"},{\"attributes\":{\"fill_alpha\":{\"value\":0.3},\"fill_color\":{\"value\":\"darkred\"},\"line_alpha\":{\"value\":0.3},\"line_color\":{\"value\":\"darkred\"},\"size\":{\"units\":\"screen\",\"value\":5},\"x\":{\"field\":\"datetime\"},\"y\":{\"field\":\"count\"}},\"id\":\"5792\",\"type\":\"Circle\"},{\"attributes\":{\"days\":[1,8,15,22]},\"id\":\"6100\",\"type\":\"DaysTicker\"},{\"attributes\":{\"axis_label\":\"Count\",\"formatter\":{\"id\":\"6090\",\"type\":\"BasicTickFormatter\"},\"ticker\":{\"id\":\"5773\",\"type\":\"BasicTicker\"}},\"id\":\"5772\",\"type\":\"LinearAxis\"},{\"attributes\":{},\"id\":\"6090\",\"type\":\"BasicTickFormatter\"},{\"attributes\":{\"days\":[1,15]},\"id\":\"6101\",\"type\":\"DaysTicker\"},{\"attributes\":{\"axis_label\":\" timereported per 30 minutes\",\"formatter\":{\"id\":\"5797\",\"type\":\"DatetimeTickFormatter\"},\"major_label_orientation\":0.7853981633974483,\"ticker\":{\"id\":\"5768\",\"type\":\"DatetimeTicker\"}},\"id\":\"5767\",\"type\":\"DatetimeAxis\"},{\"attributes\":{\"grid_line_color\":\"white\",\"ticker\":{\"id\":\"5768\",\"type\":\"DatetimeTicker\"}},\"id\":\"5771\",\"type\":\"Grid\"},{\"attributes\":{\"months\":[0,1,2,3,4,5,6,7,8,9,10,11]},\"id\":\"6102\",\"type\":\"MonthsTicker\"},{\"attributes\":{\"mantissas\":[1,2,5],\"max_interval\":500.0,\"num_minor_ticks\":0},\"id\":\"6095\",\"type\":\"AdaptiveTicker\"},{\"attributes\":{\"num_minor_ticks\":5,\"tickers\":[{\"id\":\"6095\",\"type\":\"AdaptiveTicker\"},{\"id\":\"6096\",\"type\":\"AdaptiveTicker\"},{\"id\":\"6097\",\"type\":\"AdaptiveTicker\"},{\"id\":\"6098\",\"type\":\"DaysTicker\"},{\"id\":\"6099\",\"type\":\"DaysTicker\"},{\"id\":\"6100\",\"type\":\"DaysTicker\"},{\"id\":\"6101\",\"type\":\"DaysTicker\"},{\"id\":\"6102\",\"type\":\"MonthsTicker\"},{\"id\":\"6103\",\"type\":\"MonthsTicker\"},{\"id\":\"6104\",\"type\":\"MonthsTicker\"},{\"id\":\"6105\",\"type\":\"MonthsTicker\"},{\"id\":\"6106\",\"type\":\"YearsTicker\"}]},\"id\":\"5768\",\"type\":\"DatetimeTicker\"},{\"attributes\":{},\"id\":\"5765\",\"type\":\"LinearScale\"},{\"attributes\":{},\"id\":\"6093\",\"type\":\"Selection\"},{\"attributes\":{\"months\":[0,2,4,6,8,10]},\"id\":\"6103\",\"type\":\"MonthsTicker\"},{\"attributes\":{\"months\":[0,4,8]},\"id\":\"6104\",\"type\":\"MonthsTicker\"},{\"attributes\":{\"callback\":null},\"id\":\"5761\",\"type\":\"DataRange1d\"},{\"attributes\":{\"base\":24,\"mantissas\":[1,2,4,6,8,12],\"max_interval\":43200000.0,\"min_interval\":3600000.0,\"num_minor_ticks\":0},\"id\":\"6097\",\"type\":\"AdaptiveTicker\"},{\"attributes\":{\"months\":[0,6]},\"id\":\"6105\",\"type\":\"MonthsTicker\"},{\"attributes\":{\"text\":\"Message Counts per 30 minutes\"},\"id\":\"5796\",\"type\":\"Title\"},{\"attributes\":{},\"id\":\"5763\",\"type\":\"LinearScale\"}],\"root_ids\":[\"5758\"]},\"title\":\"Bokeh Application\",\"version\":\"1.2.0\"}};\n",
       "  var render_items = [{\"docid\":\"fd4209a2-16af-40bc-959e-5c819eecbba7\",\"roots\":{\"5758\":\"093b41b2-8959-4b78-b1f3-42bd82229517\"}}];\n",
       "  root.Bokeh.embed.embed_items_notebook(docs_json, render_items);\n",
       "\n",
       "  }\n",
       "  if (root.Bokeh !== undefined) {\n",
       "    embed_document(root);\n",
       "  } else {\n",
       "    var attempts = 0;\n",
       "    var timer = setInterval(function(root) {\n",
       "      if (root.Bokeh !== undefined) {\n",
       "        embed_document(root);\n",
       "        clearInterval(timer);\n",
       "      }\n",
       "      attempts++;\n",
       "      if (attempts > 100) {\n",
       "        console.log(\"Bokeh: ERROR: Unable to run BokehJS code because BokehJS library is missing\");\n",
       "        clearInterval(timer);\n",
       "      }\n",
       "    }, 10, root)\n",
       "  }\n",
       "})(window);"
      ],
      "application/vnd.bokehjs_exec.v0+json": ""
     },
     "metadata": {
      "application/vnd.bokehjs_exec.v0+json": {
       "id": "5758"
      }
     },
     "output_type": "display_data"
    }
   ],
   "source": [
    "p = figure(x_axis_type=\"datetime\",plot_width=1200, plot_height=400)\n",
    "source = ColumnDataSource(data={\n",
    "    'datetime' : X,\n",
    "    'count' : Y,\n",
    "})\n",
    "#p.circle(X, Y, size = 5, color = 'green')\n",
    "p.circle(x='datetime',y='count', source=source, size = 5, color = 'darkred', alpha=0.3)\n",
    "\n",
    "p.title.text = 'Message Counts per 30 minutes'\n",
    "p.background_fill_color=\"#f5f5f5\"\n",
    "p.grid.grid_line_color=\"white\"\n",
    "p.yaxis.axis_label = 'Count'\n",
    "p.xaxis.axis_label =' timereported per 30 minutes'\n",
    "p.xaxis.formatter=DatetimeTickFormatter(\n",
    "        hours=[\"%d %B %Y\"],\n",
    "        days=[\"%d %B %Y\"],\n",
    "        months=[\"%d %B %Y\"],\n",
    "        years=[\"%d %B %Y\"],\n",
    "    )\n",
    "p.xaxis.major_label_orientation = pi/4\n",
    "\n",
    "hover = HoverTool(\n",
    "    tooltips=[\n",
    "        ('Count', '@count{%d}'),\n",
    "        ('timereported per 30 seconds','@datetime{%Y-%m-%d %H:%M:%S.%3N}')\n",
    "    ],\n",
    "    formatters={\n",
    "        'count':'printf',\n",
    "        'datetime': 'datetime',\n",
    "    },\n",
    "    # display a tooltip whenever the cursor is vertically in line with a glyph\n",
    "    mode='vline'\n",
    ")\n",
    "\n",
    "p.add_tools(hover)\n",
    "show(p)"
   ]
  },
  {
   "cell_type": "markdown",
   "metadata": {},
   "source": [
    "## Lets try a bar or vbar graph"
   ]
  },
  {
   "cell_type": "code",
   "execution_count": 89,
   "metadata": {},
   "outputs": [
    {
     "data": {
      "text/html": [
       "\n",
       "\n",
       "\n",
       "\n",
       "\n",
       "\n",
       "  <div class=\"bk-root\" id=\"ed424861-fe6e-4d24-9bfb-28fdb3e59f7e\" data-root-id=\"6751\"></div>\n"
      ]
     },
     "metadata": {},
     "output_type": "display_data"
    },
    {
     "data": {
      "application/javascript": [
       "(function(root) {\n",
       "  function embed_document(root) {\n",
       "    \n",
       "  var docs_json = {\"bd23a5e2-a49d-49a2-9898-f1de94fa325b\":{\"roots\":{\"references\":[{\"attributes\":{\"below\":[{\"id\":\"6762\",\"type\":\"DatetimeAxis\"}],\"center\":[{\"id\":\"6766\",\"type\":\"Grid\"},{\"id\":\"6771\",\"type\":\"Grid\"}],\"left\":[{\"id\":\"6767\",\"type\":\"LinearAxis\"}],\"plot_height\":400,\"plot_width\":1200,\"renderers\":[{\"id\":\"6788\",\"type\":\"GlyphRenderer\"}],\"title\":{\"id\":\"6752\",\"type\":\"Title\"},\"toolbar\":{\"id\":\"6778\",\"type\":\"Toolbar\"},\"x_range\":{\"id\":\"6754\",\"type\":\"DataRange1d\"},\"x_scale\":{\"id\":\"6758\",\"type\":\"LinearScale\"},\"y_range\":{\"id\":\"6756\",\"type\":\"DataRange1d\"},\"y_scale\":{\"id\":\"6760\",\"type\":\"LinearScale\"}},\"id\":\"6751\",\"subtype\":\"Figure\",\"type\":\"Plot\"},{\"attributes\":{\"base\":60,\"mantissas\":[1,2,5,10,15,20,30],\"max_interval\":1800000.0,\"min_interval\":1000.0,\"num_minor_ticks\":0},\"id\":\"7125\",\"type\":\"AdaptiveTicker\"},{\"attributes\":{\"dimension\":1,\"ticker\":{\"id\":\"6768\",\"type\":\"BasicTicker\"}},\"id\":\"6771\",\"type\":\"Grid\"},{\"attributes\":{\"base\":24,\"mantissas\":[1,2,4,6,8,12],\"max_interval\":43200000.0,\"min_interval\":3600000.0,\"num_minor_ticks\":0},\"id\":\"7126\",\"type\":\"AdaptiveTicker\"},{\"attributes\":{\"fill_alpha\":{\"value\":0.1},\"fill_color\":{\"value\":\"#1f77b4\"},\"line_alpha\":{\"value\":0.1},\"line_color\":{\"value\":\"#1f77b4\"},\"top\":{\"field\":\"count\"},\"width\":{\"value\":2.1},\"x\":{\"field\":\"datetime\"}},\"id\":\"6787\",\"type\":\"VBar\"},{\"attributes\":{\"callback\":null},\"id\":\"6754\",\"type\":\"DataRange1d\"},{\"attributes\":{\"fill_alpha\":{\"value\":0.3},\"fill_color\":{\"value\":\"darkred\"},\"line_alpha\":{\"value\":0.3},\"line_color\":{\"value\":\"darkred\"},\"top\":{\"field\":\"count\"},\"width\":{\"value\":2.1},\"x\":{\"field\":\"datetime\"}},\"id\":\"6786\",\"type\":\"VBar\"},{\"attributes\":{\"days\":[1,4,7,10,13,16,19,22,25,28]},\"id\":\"7128\",\"type\":\"DaysTicker\"},{\"attributes\":{\"callback\":null,\"data\":{\"count\":[2923,2100,5460,1422,2873,2211,5604,5445,2863,186,2151,2341,1834,3801,2899,1759,5676,5324,4739,2027,4655,5781,2153,1627,1462,4175,3091,2264,5598,5606,1335,1369,360,3055,5716,2079,4780,3097,2108,2832,3342,5802,1386,4634,5459,1752,5664,5186,3027,1314,5774,5819,2803,1627,1989,2506,14428,5531,2020,1422,3454,5790,2938,4235,4888,1305,3415,1381,1664,2064,3132,1739,2447,5513,1809,1631,3092,5491,1998,4149,1501,2372,1622,1472,4784,4113,3543,1864,5508,1844,4671,5501,4487,6802,5559,2073,4313,2087,1393,3077],\"datetime\":[1564405680000.0,1564423410000.0,1564396830000.0,1564442220000.0,1564388070000.0,1564424130000.0,1564394850000.0,1564399020000.0,1564406100000.0,1564387620000.0,1564422900000.0,1564416720000.0,1564430160000.0,1564405530000.0,1564411800000.0,1564431660000.0,1564397370000.0,1564399500000.0,1564401630000.0,1564431030000.0,1564403010000.0,1564398990000.0,1564420050000.0,1564426320000.0,1564437060000.0,1564419060000.0,1564418730000.0,1564424760000.0,1564396650000.0,1564392300000.0,1564442250000.0,1564441500000.0,1564387860000.0,1564406880000.0,1564397730000.0,1564411440000.0,1564403700000.0,1564407060000.0,1564411230000.0,1564407900000.0,1564412730000.0,1564393440000.0,1564439280000.0,1564403640000.0,1564393320000.0,1564426590000.0,1564395990000.0,1564390350000.0,1564406190000.0,1564432920000.0,1564390650000.0,1564396260000.0,1564418370000.0,1564425900000.0,1564410510000.0,1564412130000.0,1564389630000.0,1564399860000.0,1564421340000.0,1564432470000.0,1564424340000.0,1564395210000.0,1564408110000.0,1564405380000.0,1564392720000.0,1564441530000.0,1564404900000.0,1564440150000.0,1564427580000.0,1564410780000.0,1564408440000.0,1564441020000.0,1564410120000.0,1564400160000.0,1564436730000.0,1564428510000.0,1564406730000.0,1564395060000.0,1564421850000.0,1564419150000.0,1564432080000.0,1564415760000.0,1564425720000.0,1564441770000.0,1564401420000.0,1564390410000.0,1564407810000.0,1564425570000.0,1564398000000.0,1564431120000.0,1564403250000.0,1564396800000.0,1564404450000.0,1564389060000.0,1564395930000.0,1564415850000.0,1564410030000.0,1564421520000.0,1564441710000.0,1564408890000.0]},\"selected\":{\"id\":\"6093\",\"type\":\"Selection\"},\"selection_policy\":{\"id\":\"6094\",\"type\":\"UnionRenderers\"}},\"id\":\"5790\",\"type\":\"ColumnDataSource\"},{\"attributes\":{},\"id\":\"6772\",\"type\":\"PanTool\"},{\"attributes\":{},\"id\":\"6773\",\"type\":\"WheelZoomTool\"},{\"attributes\":{\"days\":[1,2,3,4,5,6,7,8,9,10,11,12,13,14,15,16,17,18,19,20,21,22,23,24,25,26,27,28,29,30,31]},\"id\":\"7127\",\"type\":\"DaysTicker\"},{\"attributes\":{\"overlay\":{\"id\":\"7121\",\"type\":\"BoxAnnotation\"}},\"id\":\"6774\",\"type\":\"BoxZoomTool\"},{\"attributes\":{\"mantissas\":[1,2,5],\"max_interval\":500.0,\"num_minor_ticks\":0},\"id\":\"7124\",\"type\":\"AdaptiveTicker\"},{\"attributes\":{},\"id\":\"6775\",\"type\":\"SaveTool\"},{\"attributes\":{\"days\":[1,15]},\"id\":\"7130\",\"type\":\"DaysTicker\"},{\"attributes\":{},\"id\":\"6776\",\"type\":\"ResetTool\"},{\"attributes\":{\"text\":\"Message Counts per 30 minutes\"},\"id\":\"6752\",\"type\":\"Title\"},{\"attributes\":{},\"id\":\"6777\",\"type\":\"HelpTool\"},{\"attributes\":{\"active_drag\":\"auto\",\"active_inspect\":\"auto\",\"active_multi\":null,\"active_scroll\":\"auto\",\"active_tap\":\"auto\",\"tools\":[{\"id\":\"6772\",\"type\":\"PanTool\"},{\"id\":\"6773\",\"type\":\"WheelZoomTool\"},{\"id\":\"6774\",\"type\":\"BoxZoomTool\"},{\"id\":\"6775\",\"type\":\"SaveTool\"},{\"id\":\"6776\",\"type\":\"ResetTool\"},{\"id\":\"6777\",\"type\":\"HelpTool\"}]},\"id\":\"6778\",\"type\":\"Toolbar\"},{\"attributes\":{\"days\":[1,8,15,22]},\"id\":\"7129\",\"type\":\"DaysTicker\"},{\"attributes\":{\"callback\":null,\"start\":0},\"id\":\"6756\",\"type\":\"DataRange1d\"},{\"attributes\":{\"months\":[0,4,8]},\"id\":\"7133\",\"type\":\"MonthsTicker\"},{\"attributes\":{\"data_source\":{\"id\":\"5790\",\"type\":\"ColumnDataSource\"},\"glyph\":{\"id\":\"6786\",\"type\":\"VBar\"},\"hover_glyph\":null,\"muted_glyph\":null,\"nonselection_glyph\":{\"id\":\"6787\",\"type\":\"VBar\"},\"selection_glyph\":null,\"view\":{\"id\":\"6789\",\"type\":\"CDSView\"}},\"id\":\"6788\",\"type\":\"GlyphRenderer\"},{\"attributes\":{},\"id\":\"6758\",\"type\":\"LinearScale\"},{\"attributes\":{\"source\":{\"id\":\"5790\",\"type\":\"ColumnDataSource\"}},\"id\":\"6789\",\"type\":\"CDSView\"},{\"attributes\":{},\"id\":\"6760\",\"type\":\"LinearScale\"},{\"attributes\":{\"months\":[0,6]},\"id\":\"7134\",\"type\":\"MonthsTicker\"},{\"attributes\":{\"formatter\":{\"id\":\"7120\",\"type\":\"DatetimeTickFormatter\"},\"ticker\":{\"id\":\"6763\",\"type\":\"DatetimeTicker\"}},\"id\":\"6762\",\"type\":\"DatetimeAxis\"},{\"attributes\":{\"num_minor_ticks\":5,\"tickers\":[{\"id\":\"7124\",\"type\":\"AdaptiveTicker\"},{\"id\":\"7125\",\"type\":\"AdaptiveTicker\"},{\"id\":\"7126\",\"type\":\"AdaptiveTicker\"},{\"id\":\"7127\",\"type\":\"DaysTicker\"},{\"id\":\"7128\",\"type\":\"DaysTicker\"},{\"id\":\"7129\",\"type\":\"DaysTicker\"},{\"id\":\"7130\",\"type\":\"DaysTicker\"},{\"id\":\"7131\",\"type\":\"MonthsTicker\"},{\"id\":\"7132\",\"type\":\"MonthsTicker\"},{\"id\":\"7133\",\"type\":\"MonthsTicker\"},{\"id\":\"7134\",\"type\":\"MonthsTicker\"},{\"id\":\"7135\",\"type\":\"YearsTicker\"}]},\"id\":\"6763\",\"type\":\"DatetimeTicker\"},{\"attributes\":{},\"id\":\"7120\",\"type\":\"DatetimeTickFormatter\"},{\"attributes\":{},\"id\":\"6093\",\"type\":\"Selection\"},{\"attributes\":{\"grid_line_color\":null,\"ticker\":{\"id\":\"6763\",\"type\":\"DatetimeTicker\"}},\"id\":\"6766\",\"type\":\"Grid\"},{\"attributes\":{\"months\":[0,1,2,3,4,5,6,7,8,9,10,11]},\"id\":\"7131\",\"type\":\"MonthsTicker\"},{\"attributes\":{\"bottom_units\":\"screen\",\"fill_alpha\":{\"value\":0.5},\"fill_color\":{\"value\":\"lightgrey\"},\"left_units\":\"screen\",\"level\":\"overlay\",\"line_alpha\":{\"value\":1.0},\"line_color\":{\"value\":\"black\"},\"line_dash\":[4,4],\"line_width\":{\"value\":2},\"render_mode\":\"css\",\"right_units\":\"screen\",\"top_units\":\"screen\"},\"id\":\"7121\",\"type\":\"BoxAnnotation\"},{\"attributes\":{\"months\":[0,2,4,6,8,10]},\"id\":\"7132\",\"type\":\"MonthsTicker\"},{\"attributes\":{\"formatter\":{\"id\":\"7118\",\"type\":\"BasicTickFormatter\"},\"ticker\":{\"id\":\"6768\",\"type\":\"BasicTicker\"}},\"id\":\"6767\",\"type\":\"LinearAxis\"},{\"attributes\":{},\"id\":\"6094\",\"type\":\"UnionRenderers\"},{\"attributes\":{},\"id\":\"7118\",\"type\":\"BasicTickFormatter\"},{\"attributes\":{},\"id\":\"6768\",\"type\":\"BasicTicker\"},{\"attributes\":{},\"id\":\"7135\",\"type\":\"YearsTicker\"}],\"root_ids\":[\"6751\"]},\"title\":\"Bokeh Application\",\"version\":\"1.2.0\"}};\n",
       "  var render_items = [{\"docid\":\"bd23a5e2-a49d-49a2-9898-f1de94fa325b\",\"roots\":{\"6751\":\"ed424861-fe6e-4d24-9bfb-28fdb3e59f7e\"}}];\n",
       "  root.Bokeh.embed.embed_items_notebook(docs_json, render_items);\n",
       "\n",
       "  }\n",
       "  if (root.Bokeh !== undefined) {\n",
       "    embed_document(root);\n",
       "  } else {\n",
       "    var attempts = 0;\n",
       "    var timer = setInterval(function(root) {\n",
       "      if (root.Bokeh !== undefined) {\n",
       "        embed_document(root);\n",
       "        clearInterval(timer);\n",
       "      }\n",
       "      attempts++;\n",
       "      if (attempts > 100) {\n",
       "        console.log(\"Bokeh: ERROR: Unable to run BokehJS code because BokehJS library is missing\");\n",
       "        clearInterval(timer);\n",
       "      }\n",
       "    }, 10, root)\n",
       "  }\n",
       "})(window);"
      ],
      "application/vnd.bokehjs_exec.v0+json": ""
     },
     "metadata": {
      "application/vnd.bokehjs_exec.v0+json": {
       "id": "6751"
      }
     },
     "output_type": "display_data"
    }
   ],
   "source": [
    "# Set the x_range to the list of categories above\n",
    "p2 = figure(x_axis_type=\"datetime\",plot_width=1200, plot_height=400, title='Message Counts per 30 minutes')\n",
    "p2.vbar(x='datetime',top='count', source=source, width=2.1, color = 'darkred', alpha=0.3)\n",
    "# Set some properties to make the plot look better\n",
    "p2.xgrid.grid_line_color = None\n",
    "p2.y_range.start = 0\n",
    "show(p2)"
   ]
  },
  {
   "cell_type": "code",
   "execution_count": null,
   "metadata": {},
   "outputs": [],
   "source": []
  }
 ],
 "metadata": {
  "kernelspec": {
   "display_name": "Python 3",
   "language": "python",
   "name": "python3"
  },
  "language_info": {
   "codemirror_mode": {
    "name": "ipython",
    "version": 3
   },
   "file_extension": ".py",
   "mimetype": "text/x-python",
   "name": "python",
   "nbconvert_exporter": "python",
   "pygments_lexer": "ipython3",
   "version": "3.7.3"
  }
 },
 "nbformat": 4,
 "nbformat_minor": 4
}
