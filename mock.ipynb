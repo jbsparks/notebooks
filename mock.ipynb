{
  "cells": [
    {
      "cell_type": "markdown",
      "source": [
        "# Mock example \n",
        "Using a mock/stub Shasta python classes for system managmement"
      ],
      "metadata": {}
    },
    {
      "cell_type": "code",
      "source": [
        "import os\n",
        "import pandas as pd\n",
        "import json\n",
        "import shasta"
      ],
      "outputs": [],
      "execution_count": null,
      "metadata": {
        "collapsed": false,
        "outputHidden": false,
        "inputHidden": false
      }
    },
    {
      "cell_type": "markdown",
      "source": [
        "Lets try and stepp thought the mock Shasta classes"
      ],
      "metadata": {}
    },
    {
      "cell_type": "code",
      "source": [
        "function = shasta.userOAuth()\n",
        "assert (function.status_code == 0), \"failed initial authorization\""
      ],
      "outputs": [],
      "execution_count": null,
      "metadata": {
        "collapsed": false,
        "outputHidden": false,
        "inputHidden": false
      }
    },
    {
      "cell_type": "code",
      "source": [
        "images = shasta.imageList()\n",
        "assert (images.status_code == 0), \"failed to query images\"\n",
        "pd.read_json(images._content.replace('\\n',''))"
      ],
      "outputs": [],
      "execution_count": null,
      "metadata": {
        "collapsed": false,
        "outputHidden": false,
        "inputHidden": false
      }
    },
    {
      "cell_type": "code",
      "source": [
        "compstate = shasta.compState()\n",
        "assert (compstate.status_code == 0), \"failed to get component state\"\n",
        "pdjson=pd.read_json(compstate._content.replace('\\n',''))\n",
        "pdjson.dtypes"
      ],
      "outputs": [],
      "execution_count": null,
      "metadata": {
        "collapsed": false,
        "outputHidden": false,
        "inputHidden": false
      }
    },
    {
      "cell_type": "code",
      "source": [
        "import re\n",
        "import pprint\n",
        "myjson=json.loads(re.sub('\\s+',' ',compstate._content.replace('\\n','')))\n",
        "# Just dump the components\n",
        "components= pd.io.json.json_normalize(myjson,record_path='Components')\n",
        "components"
      ],
      "outputs": [],
      "execution_count": null,
      "metadata": {
        "collapsed": false,
        "outputHidden": false,
        "inputHidden": false
      }
    },
    {
      "cell_type": "markdown",
      "source": [
        "# Number of compute nodes"
      ],
      "metadata": {}
    },
    {
      "cell_type": "code",
      "source": [
        "computeNo=components['Role'].value_counts()\n",
        "print(\"No: of compute nodes: %d\" % computeNo[0])"
      ],
      "outputs": [],
      "execution_count": null,
      "metadata": {
        "collapsed": false,
        "outputHidden": false,
        "inputHidden": false
      }
    },
    {
      "cell_type": "code",
      "source": [
        "(rows, columns)=components.shape\n",
        "print(\"Row:%d Columns:%d\" %(rows,columns))"
      ],
      "outputs": [],
      "execution_count": null,
      "metadata": {
        "collapsed": false,
        "outputHidden": false,
        "inputHidden": false
      }
    },
    {
      "cell_type": "code",
      "source": [
        "uais = shasta.uasList()\n",
        "assert (uais.status_code == 0), \"failed to get UAI state\"\n",
        "pd.read_json(uais._content)"
      ],
      "outputs": [],
      "execution_count": null,
      "metadata": {
        "collapsed": false,
        "outputHidden": false,
        "inputHidden": false
      }
    },
    {
      "cell_type": "markdown",
      "source": [
        "Get some node information"
      ],
      "metadata": {}
    },
    {
      "cell_type": "code",
      "source": [
        "inventory = shasta.inventoryList()\n",
        "assert (inventory.status_code == 0), \"failed to get inventory\"\n",
        "pd.read_json(inventory._content)"
      ],
      "outputs": [],
      "execution_count": null,
      "metadata": {
        "collapsed": false,
        "outputHidden": false,
        "inputHidden": false
      }
    },
    {
      "cell_type": "code",
      "source": [
        "artifacts = shasta.arsArtifactList()\n",
        "assert (inventory.status_code == 0), \"failed to get inventory\"\n",
        "pd.read_json(artifacts._content)"
      ],
      "outputs": [],
      "execution_count": null,
      "metadata": {
        "collapsed": false,
        "outputHidden": false,
        "inputHidden": false
      }
    },
    {
      "cell_type": "code",
      "source": [
        "uploads = shasta.arsUploadList()\n",
        "assert (uploads.status_code == 0), \"failed to get inventory\"\n",
        "pd.read_json(uploads._content)"
      ],
      "outputs": [],
      "execution_count": null,
      "metadata": {
        "collapsed": false,
        "outputHidden": false,
        "inputHidden": false
      }
    }
  ],
  "metadata": {
    "kernel_info": {
      "name": "python3"
    },
    "language_info": {
      "name": "python",
      "version": "3.7.3",
      "mimetype": "text/x-python",
      "codemirror_mode": {
        "name": "ipython",
        "version": 3
      },
      "pygments_lexer": "ipython3",
      "nbconvert_exporter": "python",
      "file_extension": ".py"
    },
    "kernelspec": {
      "name": "python3",
      "language": "python",
      "display_name": "Python 3"
    },
    "nteract": {
      "version": "0.14.3"
    }
  },
  "nbformat": 4,
  "nbformat_minor": 0
}