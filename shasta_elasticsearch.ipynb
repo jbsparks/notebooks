{
 "cells": [
  {
   "cell_type": "code",
   "execution_count": 1,
   "metadata": {},
   "outputs": [],
   "source": [
    "from elasticsearch import Elasticsearch\n",
    "from elasticsearch_dsl import Search, Q"
   ]
  },
  {
   "cell_type": "markdown",
   "metadata": {},
   "source": [
    "## Connection\n",
    "\n",
    "See: https://www.tutorialspoint.com/elasticsearch/elasticsearch_query_dsl.htm\n",
    "\n",
    "To verify these tests, use the kabana interface on tab.us.cray.com:30601"
   ]
  },
  {
   "cell_type": "code",
   "execution_count": 2,
   "metadata": {},
   "outputs": [],
   "source": [
    "client =  Elasticsearch(\"http://tab.us.cray.com:30200\", http_compress=True)"
   ]
  },
  {
   "cell_type": "code",
   "execution_count": 3,
   "metadata": {},
   "outputs": [],
   "source": [
    "import pandas as pd\n",
    "from pandasticsearch import Select, DataFrame\n",
    "import numpy as np\n",
    "import matplotlib.pyplot as plt\n",
    "\n",
    "%matplotlib inline"
   ]
  },
  {
   "cell_type": "code",
   "execution_count": 8,
   "metadata": {},
   "outputs": [
    {
     "data": {
      "text/plain": [
       "{'4gVqn8_OTmyjJgE9TaIKOg': {'name': '4gVqn8_',\n",
       "  'transport_address': '127.0.0.1:9300',\n",
       "  'host': '127.0.0.1',\n",
       "  'ip': '127.0.0.1',\n",
       "  'version': '5.6.4',\n",
       "  'build_hash': '8bbedf5',\n",
       "  'roles': ['master', 'data', 'ingest'],\n",
       "  'os': {'refresh_interval_in_millis': 1000,\n",
       "   'name': 'Linux',\n",
       "   'arch': 'amd64',\n",
       "   'version': '4.4.155-94.50-default',\n",
       "   'available_processors': 1,\n",
       "   'allocated_processors': 1}}}"
      ]
     },
     "execution_count": 8,
     "metadata": {},
     "output_type": "execute_result"
    }
   ],
   "source": [
    "client.nodes.info(metric='os', flat_settings='true')['nodes']"
   ]
  },
  {
   "cell_type": "markdown",
   "metadata": {},
   "source": [
    "Get the cluster health"
   ]
  },
  {
   "cell_type": "code",
   "execution_count": 9,
   "metadata": {},
   "outputs": [
    {
     "data": {
      "text/plain": [
       "{'cluster_name': 'elasticsearch',\n",
       " 'status': 'yellow',\n",
       " 'timed_out': False,\n",
       " 'number_of_nodes': 1,\n",
       " 'number_of_data_nodes': 1,\n",
       " 'active_primary_shards': 196,\n",
       " 'active_shards': 196,\n",
       " 'relocating_shards': 0,\n",
       " 'initializing_shards': 0,\n",
       " 'unassigned_shards': 196,\n",
       " 'delayed_unassigned_shards': 0,\n",
       " 'number_of_pending_tasks': 0,\n",
       " 'number_of_in_flight_fetch': 0,\n",
       " 'task_max_waiting_in_queue_millis': 0,\n",
       " 'active_shards_percent_as_number': 50.0}"
      ]
     },
     "execution_count": 9,
     "metadata": {},
     "output_type": "execute_result"
    }
   ],
   "source": [
    "client.cluster.health()"
   ]
  },
  {
   "cell_type": "code",
   "execution_count": 10,
   "metadata": {},
   "outputs": [
    {
     "data": {
      "text/plain": [
       "{'name': '4gVqn8_',\n",
       " 'cluster_name': 'elasticsearch',\n",
       " 'cluster_uuid': 'kZ8AiENRQAO7zsv-BYS-ew',\n",
       " 'version': {'number': '5.6.4',\n",
       "  'build_hash': '8bbedf5',\n",
       "  'build_date': '2017-10-31T18:55:38.105Z',\n",
       "  'build_snapshot': False,\n",
       "  'lucene_version': '6.6.1'},\n",
       " 'tagline': 'You Know, for Search'}"
      ]
     },
     "execution_count": 10,
     "metadata": {},
     "output_type": "execute_result"
    }
   ],
   "source": [
    "client.info()"
   ]
  },
  {
   "cell_type": "markdown",
   "metadata": {},
   "source": [
    "Convert the result to Pandas Dataframe"
   ]
  },
  {
   "cell_type": "code",
   "execution_count": 4,
   "metadata": {},
   "outputs": [],
   "source": [
    "res = client.search(index='shasta-logs-2019.07.13', body={\"query\":{\"match_all\":{}}},size=10000)"
   ]
  },
  {
   "cell_type": "markdown",
   "metadata": {},
   "source": [
    "__Note:__ the hostname field is really the k8s pod name, severlity is always 'debug' and stream is either stderr or stdout.\n",
    "\n",
    "So searching for annomalies is going to be hard..."
   ]
  },
  {
   "cell_type": "code",
   "execution_count": 5,
   "metadata": {},
   "outputs": [],
   "source": [
    "dfs = Select.from_dict(res).to_pandas()"
   ]
  },
  {
   "cell_type": "markdown",
   "metadata": {},
   "source": [
    "Some of these fields are not required, so lets delete a few, keeping the following."
   ]
  },
  {
   "cell_type": "code",
   "execution_count": 23,
   "metadata": {},
   "outputs": [
    {
     "name": "stdout",
     "output_type": "stream",
     "text": [
      "                    _id                  _index  _score   _type facility  \\\n",
      "0  AWvo3hiUP3Cwdi_pGsBb  shasta-logs-2019.07.13     1.0  events   local0   \n",
      "\n",
      "                                            hostname  \\\n",
      "0  nms-rosebud-78f7649959-2nkxn_default_nms-roseb...   \n",
      "\n",
      "                              message priority procid severity  stream  \\\n",
      "0  I│  │ Cookie: 0x0000000000000025\\n      135    NaN    debug  stderr   \n",
      "\n",
      "                tag                    timereported  \n",
      "0  docker_container  2019-07-13T01:06:28.329078715Z  \n"
     ]
    },
    {
     "data": {
      "text/plain": [
       "Index(['_id', '_index', '_score', '_type', 'facility', 'hostname', 'message',\n",
       "       'priority', 'procid', 'severity', 'stream', 'tag', 'timereported'],\n",
       "      dtype='object')"
      ]
     },
     "execution_count": 23,
     "metadata": {},
     "output_type": "execute_result"
    }
   ],
   "source": [
    "#print(dfs.head(1))\n",
    "dfs.columns"
   ]
  },
  {
   "cell_type": "markdown",
   "metadata": {},
   "source": [
    "Iterate through each row"
   ]
  },
  {
   "cell_type": "code",
   "execution_count": 34,
   "metadata": {},
   "outputs": [],
   "source": [
    "#for _index, row in dfs.iterrows():\n",
    "#    print(_index, row['message'])"
   ]
  },
  {
   "cell_type": "markdown",
   "metadata": {},
   "source": [
    "Grap the last __2__ lines of stderr messages"
   ]
  },
  {
   "cell_type": "code",
   "execution_count": 31,
   "metadata": {},
   "outputs": [
    {
     "data": {
      "text/plain": [
       "0    I│  │ Cookie: 0x0000000000000025\\n\n",
       "1              I│  │ Table : Table(2)\\n\n",
       "Name: message, dtype: object"
      ]
     },
     "execution_count": 31,
     "metadata": {},
     "output_type": "execute_result"
    }
   ],
   "source": [
    "dfs.loc[dfs['stream'] == 'stderr','message'].head(2)"
   ]
  },
  {
   "cell_type": "code",
   "execution_count": 59,
   "metadata": {},
   "outputs": [
    {
     "name": "stdout",
     "output_type": "stream",
     "text": [
      "count                        7870\n",
      "unique                       1705\n",
      "top       I│  │    │    │    └─\\n\n",
      "freq                          416\n",
      "Name: message, dtype: object\n",
      "4.23 ms ± 138 µs per loop (mean ± std. dev. of 7 runs, 100 loops each)\n"
     ]
    }
   ],
   "source": [
    "msg=dfs.loc[dfs['stream'] == 'stderr','message']\n",
    "print(msg.describe())\n",
    "%timeit msg.str.contains(r'Table',regex=False).describe()"
   ]
  },
  {
   "cell_type": "code",
   "execution_count": 25,
   "metadata": {},
   "outputs": [
    {
     "name": "stdout",
     "output_type": "stream",
     "text": [
      "All frequencies\n",
      "============================================================\n",
      "                                                 Word  Frequency\n",
      "0                             I│  │    │    │    └─\\n        416\n",
      "1                             I│  │    │    │    ┌─\\n        409\n",
      "2   I│  │    │    │    │ Class: XMClassOpenflowBas...        365\n",
      "3                                  I│  │    │    └─\\n        266\n",
      "4                                        I│  │    │\\n        208\n",
      "5                                         I│  │    \\n        203\n",
      "6                                       I│  │    └─\\n        198\n",
      "7                                            I│  └─\\n        147\n",
      "8                       I│  │    │ VLAN Access List\\n        138\n",
      "9   I│  │    │ Attributes          : [[type pica8]...        135\n",
      "10                                    I│  │    ┬───\\n        131\n",
      "11                      I│  │    │ ───┬────────────\\n        130\n",
      "12                              I│  │    │    │ 100\\n        129\n",
      "13                                             I│  \\n        127\n",
      "14                      I│  │    │    ┬────────────\\n         86\n",
      "15                          I│  │ Length      : 342\\n         81\n",
      "16        I│  │    │    │    │ Type : XMTypeEthType\\n         77\n",
      "17                       I│  │    │    ┬───────────\\n         75\n",
      "18                       I│  │    │    Match Fields\\n         75\n",
      "19                                    I│  ┬────────\\n         72\n",
      "20             I│  │    │ OpenFlow Port Number: 130\\n         72\n",
      "21         I│  │    │    │    │ Type : XMTypeUDPSrc\\n         71\n",
      "22            I│  │    │ Trunk Mode          : true\\n         71\n",
      "23                              I│  │    Classifier\\n         70\n",
      "24           I│  │    │ Trunk Mode          : false\\n         70\n",
      "25                 I│  │    │    │    │ Value: 0x11\\n         70\n",
      "26        I│  │    │ Switch Iface Name   : he-1/1/2\\n         68\n",
      "27         I│  │    │    │    │ Type : XMTypeVlanID\\n         67\n",
      "28         I│  │    │    │    │ Type : XMTypeUDPDst\\n         67\n",
      "29  I│  │ Reason      : Action (0x5061636b6574496e...         66\n",
      "30                            I│  │ Table       : 2\\n         66\n",
      "31                   I│  │ Buffer ID   : 0xffffffff\\n         66\n",
      "32               I│  │    │ Switch Port Number  : 2\\n         65\n",
      "33               I│  │    │ VLAN ID             : 0\\n         65\n",
      "34               I│  │    │    │    │ Value: 0x0800\\n         65\n",
      "35                                 I│  │    In Port\\n         65\n",
      "36            I│  │ Dst H/W Addr: ff:ff:ff:ff:ff:ff\\n         64\n",
      "37    I│  │    │ Cray ID             : x2c2r2a2f0l2\\n         64\n",
      "38           I│  │    │ Name                : port5\\n         63\n",
      "39        I│  │    │    │    │ Type : XMTypeIPProto\\n         62\n",
      "============================================================\n"
     ]
    },
    {
     "data": {
      "image/png": "[encoded data removed]",
      "text/plain": [
       "<Figure size 432x288 with 1 Axes>"
      ]
     },
     "metadata": {
      "needs_background": "light"
     },
     "output_type": "display_data"
    }
   ],
   "source": [
    "import nltk\n",
    "top_N = 40\n",
    "messages=dfs.loc[dfs['stream'] == 'stderr','message']\n",
    "word_dist = nltk.FreqDist(messages)\n",
    "print('All frequencies')\n",
    "print('='*60)\n",
    "rslt=pd.DataFrame(word_dist.most_common(top_N),columns=['Word','Frequency'])\n",
    "\n",
    "print(rslt)\n",
    "print ('='*60)\n",
    "rslt.plot()\n",
    "plt.show()"
   ]
  },
  {
   "cell_type": "code",
   "execution_count": 27,
   "metadata": {},
   "outputs": [
    {
     "data": {
      "text/html": [
       "<div>\n",
       "<style scoped>\n",
       "    .dataframe tbody tr th:only-of-type {\n",
       "        vertical-align: middle;\n",
       "    }\n",
       "\n",
       "    .dataframe tbody tr th {\n",
       "        vertical-align: top;\n",
       "    }\n",
       "\n",
       "    .dataframe thead th {\n",
       "        text-align: right;\n",
       "    }\n",
       "</style>\n",
       "<table border=\"1\" class=\"dataframe\">\n",
       "  <thead>\n",
       "    <tr style=\"text-align: right;\">\n",
       "      <th></th>\n",
       "      <th>_score</th>\n",
       "    </tr>\n",
       "  </thead>\n",
       "  <tbody>\n",
       "    <tr>\n",
       "      <th>count</th>\n",
       "      <td>10000.0</td>\n",
       "    </tr>\n",
       "    <tr>\n",
       "      <th>mean</th>\n",
       "      <td>1.0</td>\n",
       "    </tr>\n",
       "    <tr>\n",
       "      <th>std</th>\n",
       "      <td>0.0</td>\n",
       "    </tr>\n",
       "    <tr>\n",
       "      <th>min</th>\n",
       "      <td>1.0</td>\n",
       "    </tr>\n",
       "    <tr>\n",
       "      <th>25%</th>\n",
       "      <td>1.0</td>\n",
       "    </tr>\n",
       "    <tr>\n",
       "      <th>50%</th>\n",
       "      <td>1.0</td>\n",
       "    </tr>\n",
       "    <tr>\n",
       "      <th>75%</th>\n",
       "      <td>1.0</td>\n",
       "    </tr>\n",
       "    <tr>\n",
       "      <th>max</th>\n",
       "      <td>1.0</td>\n",
       "    </tr>\n",
       "  </tbody>\n",
       "</table>\n",
       "</div>"
      ],
      "text/plain": [
       "        _score\n",
       "count  10000.0\n",
       "mean       1.0\n",
       "std        0.0\n",
       "min        1.0\n",
       "25%        1.0\n",
       "50%        1.0\n",
       "75%        1.0\n",
       "max        1.0"
      ]
     },
     "execution_count": 27,
     "metadata": {},
     "output_type": "execute_result"
    }
   ],
   "source": [
    "dfs.describe()"
   ]
  },
  {
   "cell_type": "code",
   "execution_count": 28,
   "metadata": {},
   "outputs": [
    {
     "data": {
      "text/html": [
       "<div>\n",
       "<style scoped>\n",
       "    .dataframe tbody tr th:only-of-type {\n",
       "        vertical-align: middle;\n",
       "    }\n",
       "\n",
       "    .dataframe tbody tr th {\n",
       "        vertical-align: top;\n",
       "    }\n",
       "\n",
       "    .dataframe thead th {\n",
       "        text-align: right;\n",
       "    }\n",
       "</style>\n",
       "<table border=\"1\" class=\"dataframe\">\n",
       "  <thead>\n",
       "    <tr style=\"text-align: right;\">\n",
       "      <th></th>\n",
       "      <th>_id</th>\n",
       "      <th>_index</th>\n",
       "      <th>_score</th>\n",
       "      <th>_type</th>\n",
       "      <th>facility</th>\n",
       "      <th>hostname</th>\n",
       "      <th>message</th>\n",
       "      <th>priority</th>\n",
       "      <th>procid</th>\n",
       "      <th>severity</th>\n",
       "      <th>stream</th>\n",
       "      <th>tag</th>\n",
       "      <th>timereported</th>\n",
       "    </tr>\n",
       "  </thead>\n",
       "  <tbody>\n",
       "    <tr>\n",
       "      <th>0</th>\n",
       "      <td>AWvo3hiUP3Cwdi_pGsBb</td>\n",
       "      <td>shasta-logs-2019.07.13</td>\n",
       "      <td>1.0</td>\n",
       "      <td>events</td>\n",
       "      <td>local0</td>\n",
       "      <td>nms-rosebud-78f7649959-2nkxn_default_nms-roseb...</td>\n",
       "      <td>I│  │ Cookie: 0x0000000000000025\\n</td>\n",
       "      <td>135</td>\n",
       "      <td>NaN</td>\n",
       "      <td>debug</td>\n",
       "      <td>stderr</td>\n",
       "      <td>docker_container</td>\n",
       "      <td>2019-07-13T01:06:28.329078715Z</td>\n",
       "    </tr>\n",
       "    <tr>\n",
       "      <th>1</th>\n",
       "      <td>AWvo3hiUP3Cwdi_pGsBc</td>\n",
       "      <td>shasta-logs-2019.07.13</td>\n",
       "      <td>1.0</td>\n",
       "      <td>events</td>\n",
       "      <td>local0</td>\n",
       "      <td>nms-rosebud-78f7649959-2nkxn_default_nms-roseb...</td>\n",
       "      <td>I│  │ Table : Table(2)\\n</td>\n",
       "      <td>135</td>\n",
       "      <td>NaN</td>\n",
       "      <td>debug</td>\n",
       "      <td>stderr</td>\n",
       "      <td>docker_container</td>\n",
       "      <td>2019-07-13T01:06:28.329094965Z</td>\n",
       "    </tr>\n",
       "    <tr>\n",
       "      <th>2</th>\n",
       "      <td>AWvo3hiUP3Cwdi_pGsBi</td>\n",
       "      <td>shasta-logs-2019.07.13</td>\n",
       "      <td>1.0</td>\n",
       "      <td>events</td>\n",
       "      <td>local0</td>\n",
       "      <td>nms-rosebud-78f7649959-2nkxn_default_nms-roseb...</td>\n",
       "      <td>I│  │    │ Switch Port Number  : 5\\n</td>\n",
       "      <td>135</td>\n",
       "      <td>NaN</td>\n",
       "      <td>debug</td>\n",
       "      <td>stderr</td>\n",
       "      <td>docker_container</td>\n",
       "      <td>2019-07-13T01:06:28.3306389Z</td>\n",
       "    </tr>\n",
       "  </tbody>\n",
       "</table>\n",
       "</div>"
      ],
      "text/plain": [
       "                    _id                  _index  _score   _type facility  \\\n",
       "0  AWvo3hiUP3Cwdi_pGsBb  shasta-logs-2019.07.13     1.0  events   local0   \n",
       "1  AWvo3hiUP3Cwdi_pGsBc  shasta-logs-2019.07.13     1.0  events   local0   \n",
       "2  AWvo3hiUP3Cwdi_pGsBi  shasta-logs-2019.07.13     1.0  events   local0   \n",
       "\n",
       "                                            hostname  \\\n",
       "0  nms-rosebud-78f7649959-2nkxn_default_nms-roseb...   \n",
       "1  nms-rosebud-78f7649959-2nkxn_default_nms-roseb...   \n",
       "2  nms-rosebud-78f7649959-2nkxn_default_nms-roseb...   \n",
       "\n",
       "                                message priority procid severity  stream  \\\n",
       "0    I│  │ Cookie: 0x0000000000000025\\n      135    NaN    debug  stderr   \n",
       "1              I│  │ Table : Table(2)\\n      135    NaN    debug  stderr   \n",
       "2  I│  │    │ Switch Port Number  : 5\\n      135    NaN    debug  stderr   \n",
       "\n",
       "                tag                    timereported  \n",
       "0  docker_container  2019-07-13T01:06:28.329078715Z  \n",
       "1  docker_container  2019-07-13T01:06:28.329094965Z  \n",
       "2  docker_container    2019-07-13T01:06:28.3306389Z  "
      ]
     },
     "execution_count": 28,
     "metadata": {},
     "output_type": "execute_result"
    }
   ],
   "source": [
    "dfs.head(3)"
   ]
  },
  {
   "cell_type": "markdown",
   "metadata": {},
   "source": [
    "## Links\n",
    "https://www.youtube.com/watch?v=vmEHCJofslg&t=1487s\n",
    "https://www.youtube.com/watch?v=DamIIzp41Jg&t=461s"
   ]
  },
  {
   "cell_type": "markdown",
   "metadata": {},
   "source": [
    "list all the indices "
   ]
  },
  {
   "cell_type": "code",
   "execution_count": null,
   "metadata": {},
   "outputs": [],
   "source": [
    "indices=client.indices.get_alias()\n",
    "for idx in indices:\n",
    "    # Count the number of errors, warnings, info for each log report\n",
    "    errors = client.search(index=idx, body={\"query\":{\"match\":{\"severity\":\"error\"}}})\n",
    "    if (len(errors['hits']['hits']) != 0):\n",
    "        print(\"index:%s No of errors:%d\" % (idx,len(errors['hits']['hits'])))\n",
    "    warnings = client.search(index=idx, body={\"query\":{\"match\":{\"severity\":\"warnings\"}}})\n",
    "    if (len(warnings['hits']['hits']) != 0):\n",
    "        print(\"index:%s No of warnings:%d\" % (idx,len(warnings['hits']['hits'])))\n",
    "    info = client.search(index=idx, body={\"query\":{\"match\":{\"severity\":\"info\"}}})\n",
    "    if (len(info['hits']['hits']) != 0):\n",
    "        print(\"index:%s No of info:%d\" % (idx,len(info['hits']['hits'])))\n",
    "    debug = client.search(index=idx, body={\"query\":{\"match\":{\"severity\":\"debug\"}}})\n",
    "    if (len(debug['hits']['hits']) != 0):\n",
    "        print(\"index:%s No of debug:%d\" % (idx,len(debug['hits']['hits'])))\n",
    "    #print(\"Found %d hits\" % res['hits']['total'])"
   ]
  },
  {
   "cell_type": "code",
   "execution_count": null,
   "metadata": {},
   "outputs": [],
   "source": [
    "res = client.search(index='shasta-logs-2019.07.13', body={\"query\":{\"match_all\":{}}})\n",
    "print(\"Found %d hits\" % res['hits']['total'])\n",
    "\n",
    "for hit in res['hits']['hits']:\n",
    "    print(hit)\n",
    "    #print(\"%(timereported)s\" % hit[\"_source\"])"
   ]
  },
  {
   "cell_type": "code",
   "execution_count": null,
   "metadata": {},
   "outputs": [],
   "source": [
    "print(res.keys())"
   ]
  },
  {
   "cell_type": "code",
   "execution_count": null,
   "metadata": {},
   "outputs": [],
   "source": [
    "print(res['hits'].keys())"
   ]
  },
  {
   "cell_type": "code",
   "execution_count": null,
   "metadata": {},
   "outputs": [],
   "source": [
    "print(len(res['hits']['hits']))"
   ]
  },
  {
   "cell_type": "code",
   "execution_count": null,
   "metadata": {},
   "outputs": [],
   "source": [
    "print(res['hits']['hits'][0].keys())"
   ]
  },
  {
   "cell_type": "code",
   "execution_count": null,
   "metadata": {},
   "outputs": [],
   "source": [
    "print(res['hits']['hits'][0]['_source'].keys())"
   ]
  },
  {
   "cell_type": "code",
   "execution_count": null,
   "metadata": {},
   "outputs": [],
   "source": [
    "resp= client.count(\n",
    "    index=\"shasta-logs-2019.07.17\",\n",
    "    body={\n",
    "        \"query\": {\n",
    "            \"bool\": {\n",
    "                \"must\": [{\n",
    "                    \"match\": {\n",
    "                        \"severity\": \"debug\"\n",
    "                    }\n",
    "                }],\n",
    "                \"filter\":{\n",
    "                    \"term\": {\n",
    "                        \"stream\" : \"stderr\"\n",
    "                    }\n",
    "                }\n",
    "            }\n",
    "        }\n",
    "    }\n",
    ")\n",
    "resp"
   ]
  },
  {
   "cell_type": "code",
   "execution_count": null,
   "metadata": {},
   "outputs": [],
   "source": [
    "tmp=client.search(index='shasta-logs-2019.07.17')\n",
    "sz=tmp['hits']['total']\n",
    "print(sz)\n",
    "errors=client.search(index='shasta-logs-2019.07.17', body={\"query\":{\"match\":{\"severity\":\"debug\"}}}, size=10000)\n",
    "print(len(errors['hits']['hits']))\n",
    "errors"
   ]
  },
  {
   "cell_type": "code",
   "execution_count": null,
   "metadata": {},
   "outputs": [],
   "source": [
    "def df_from_elastic_query(elastic_search_query):\n",
    "    try:\n",
    "        return pd.DataFrame.from_dict([item['_source'] for item in elastic_search_query['hits']['hits']])\n",
    "    except:\n",
    "        return pd.DataFrame()"
   ]
  },
  {
   "cell_type": "code",
   "execution_count": null,
   "metadata": {},
   "outputs": [],
   "source": [
    "df_from_elastic_query(client.search(index='shasta-logs-2019.07.13', body={\n",
    "    \"query\": {\n",
    "        \"match\": { \n",
    "            \"severity\": \"debug\"\n",
    "        }\n",
    "    }\n",
    "}, size=10*1000)).head()"
   ]
  },
  {
   "cell_type": "code",
   "execution_count": null,
   "metadata": {},
   "outputs": [],
   "source": [
    "df_from_elastic_query(client.search(index='shasta-logs-2019.07.13', body={\n",
    "    \"query\": {\n",
    "        \"multi_match\": { \n",
    "            \"query\": \"error\",\n",
    "            \"fields\": [\"message\"]\n",
    "        }\n",
    "    }\n",
    "}, size=10*1000)).head()"
   ]
  },
  {
   "cell_type": "code",
   "execution_count": null,
   "metadata": {},
   "outputs": [],
   "source": [
    "df_from_elastic_query(client.search(index='shasta-logs-2019.07.13', body={\n",
    "    \"query\": {\n",
    "        \"query_string\": { \n",
    "            \"query\": \"error\"\n",
    "        }\n",
    "    }\n",
    "}, size=10*1000)).head()"
   ]
  }
 ],
 "metadata": {
  "kernelspec": {
   "display_name": "Python 3",
   "language": "python",
   "name": "python3"
  },
  "language_info": {
   "codemirror_mode": {
    "name": "ipython",
    "version": 3
   },
   "file_extension": ".py",
   "mimetype": "text/x-python",
   "name": "python",
   "nbconvert_exporter": "python",
   "pygments_lexer": "ipython3",
   "version": "3.7.3"
  }
 },
 "nbformat": 4,
 "nbformat_minor": 4
}
